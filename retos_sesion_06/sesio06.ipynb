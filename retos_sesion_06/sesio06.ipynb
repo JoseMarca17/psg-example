{
 "cells": [
  {
   "cell_type": "markdown",
   "id": "bde46448",
   "metadata": {},
   "source": [
    "# SESION 06"
   ]
  },
  {
   "cell_type": "markdown",
   "id": "4376c9be",
   "metadata": {},
   "source": [
    "## TIPOS DE DATOS BOOLEANOS "
   ]
  },
  {
   "cell_type": "code",
   "execution_count": null,
   "id": "e9ee65bd",
   "metadata": {},
   "outputs": [],
   "source": [
    "print(\"Tipos de datos booleanos\")\n",
    "print (True)\n",
    "print (False)"
   ]
  },
  {
   "cell_type": "markdown",
   "id": "2e7d6cd7",
   "metadata": {},
   "source": [
    "### OPERACIONES ARITMETICAS CON BOOLEANOS "
   ]
  },
  {
   "cell_type": "code",
   "execution_count": null,
   "id": "ac9fa8e8",
   "metadata": {},
   "outputs": [],
   "source": [
    "print (True + True)\n",
    "print (True * True)\n",
    "print (True * False)\n",
    "print (False + False)\n",
    "print (False * False)"
   ]
  },
  {
   "cell_type": "markdown",
   "id": "8f35862f",
   "metadata": {},
   "source": [
    "### DECLARARA VARIABLES BOOLEANAS"
   ]
  },
  {
   "cell_type": "code",
   "execution_count": null,
   "id": "65b0de42",
   "metadata": {},
   "outputs": [],
   "source": [
    "print (\"Declarar variables booleanas\")\n",
    "var_booleana = True\n",
    "print (var_booleana)\n",
    "print (type(var_booleana))\n",
    "var_booleana = False\n",
    "print (var_booleana)\n",
    "print (type(var_booleana))"
   ]
  },
  {
   "cell_type": "code",
   "execution_count": null,
   "id": "e829bc11",
   "metadata": {},
   "outputs": [],
   "source": [
    "print (\"Declarar mediante función bool()\")\n",
    "var_booleana = bool(1)\n",
    "print (var_booleana)\n",
    "print (type(var_booleana))\n",
    "var_booleana = bool(0)\n",
    "print (var_booleana)\n",
    "print (type(var_booleana))\n",
    "var_booleana = bool(15)\n",
    "print (var_booleana)\n",
    "print (type(var_booleana))"
   ]
  },
  {
   "cell_type": "markdown",
   "id": "2263abf7",
   "metadata": {},
   "source": [
    "## OPERADORES DE COMPARACION"
   ]
  },
  {
   "cell_type": "code",
   "execution_count": null,
   "id": "a724d84a",
   "metadata": {},
   "outputs": [],
   "source": [
    "print (\"Operadores de comparación\")\n",
    "print (10 == 10)\n",
    "print (10 != 10)\n",
    "print (10 < 10)\n",
    "print (10 > 10)\n",
    "print (10 <= 10)\n",
    "print (10 >= 10)\n",
    "print (10 is 10)\n",
    "print (10 is not 10)"
   ]
  },
  {
   "cell_type": "markdown",
   "id": "6453a76c",
   "metadata": {},
   "source": [
    "### ASIGNACION DE VARIABLES"
   ]
  },
  {
   "cell_type": "code",
   "execution_count": null,
   "id": "8f040c09",
   "metadata": {},
   "outputs": [],
   "source": [
    "print (\"Asignación de variables\")\n",
    "x = 10\n",
    "mayor_que_cero = x > 0\n",
    "print (mayor_que_cero)\n",
    "diferente_de_10 = x != 10\n",
    "print (diferente_de_10)"
   ]
  },
  {
   "cell_type": "markdown",
   "id": "8b7e76a9",
   "metadata": {},
   "source": [
    "## OPERADORES LOGICOS "
   ]
  },
  {
   "cell_type": "markdown",
   "id": "dd7d5fdd",
   "metadata": {},
   "source": [
    "- OPERADOR AND "
   ]
  },
  {
   "cell_type": "code",
   "execution_count": null,
   "id": "cd27d7fc",
   "metadata": {},
   "outputs": [],
   "source": [
    "print (\"Operador AND\")\n",
    "print (True and True)\n",
    "print (True and False)\n",
    "print (False and True)\n",
    "print (False and False)"
   ]
  },
  {
   "cell_type": "markdown",
   "id": "8757ae24",
   "metadata": {},
   "source": [
    "- OPERADOR OR"
   ]
  },
  {
   "cell_type": "code",
   "execution_count": null,
   "id": "fca23dae",
   "metadata": {},
   "outputs": [],
   "source": [
    "print (\"Operador OR\")\n",
    "print (True or True)\n",
    "print (True or False)\n",
    "print (False or True)\n",
    "print (False or False)"
   ]
  },
  {
   "cell_type": "markdown",
   "id": "a7b52cfe",
   "metadata": {},
   "source": [
    "- OPERADOR NOT "
   ]
  },
  {
   "cell_type": "code",
   "execution_count": null,
   "id": "bfb68156",
   "metadata": {},
   "outputs": [],
   "source": [
    "print (\"Operador NOT\")\n",
    "print (not True)\n",
    "print (not False)"
   ]
  },
  {
   "cell_type": "markdown",
   "id": "3ae471c6",
   "metadata": {},
   "source": [
    "- OPERADOR NAND "
   ]
  },
  {
   "cell_type": "code",
   "execution_count": null,
   "id": "15e424c4",
   "metadata": {},
   "outputs": [],
   "source": [
    "print (\"Operador NAND\")\n",
    "print (not (True and True))\n",
    "print (not (True and False))\n",
    "print (not (False and True))\n",
    "print (not (False and False))"
   ]
  },
  {
   "cell_type": "markdown",
   "id": "4281f057",
   "metadata": {},
   "source": [
    "- OPERADOR NOR"
   ]
  },
  {
   "cell_type": "code",
   "execution_count": null,
   "id": "944afdf1",
   "metadata": {},
   "outputs": [],
   "source": [
    "print (\"Operador NOR\")\n",
    "print (not (True or True))\n",
    "print (not (True or False))\n",
    "print (not (False or True))\n",
    "print (not (False or False))"
   ]
  },
  {
   "cell_type": "markdown",
   "id": "17be73d3",
   "metadata": {},
   "source": [
    "- OPERADOR XOR "
   ]
  },
  {
   "cell_type": "code",
   "execution_count": null,
   "id": "c9ec7a29",
   "metadata": {},
   "outputs": [],
   "source": [
    "print (\"Operador XOR\")\n",
    "a = True\n",
    "b = False\n",
    "print ((a or b) and not (a and b))\n",
    "a = True\n",
    "b = True\n",
    "print ((a or b) and not (a and b))"
   ]
  },
  {
   "cell_type": "markdown",
   "id": "614882b8",
   "metadata": {},
   "source": [
    "- EJEMPLOS OPERADORES LOGICOS"
   ]
  },
  {
   "cell_type": "code",
   "execution_count": null,
   "id": "24772750",
   "metadata": {},
   "outputs": [],
   "source": [
    "print (\"Ejemplo de uso Sensor y Batería\")\n",
    "sensor = True\n",
    "bateria = True\n",
    "print (sensor, \"and\", bateria, \"=\", sensor and bateria)\n",
    "sensor = True\n",
    "bateria = False\n",
    "print (sensor, \"and\", bateria, \"=\", sensor and bateria)\n",
    "sensor = False\n",
    "bateria = True\n",
    "print (sensor, \"and\", bateria, \"=\", sensor and bateria)\n",
    "sensor = False\n",
    "bateria = False\n",
    "print (sensor, \"and\", bateria, \"=\", sensor and bateria)\n",
    "\n",
    "print(not(10-10))\n",
    "\n",
    "print(20>0 and 20<=100)"
   ]
  },
  {
   "cell_type": "markdown",
   "id": "b23335e3",
   "metadata": {},
   "source": [
    "## OPERADORES LOGICOS Y PRIORIDAD"
   ]
  },
  {
   "cell_type": "code",
   "execution_count": null,
   "id": "cfce7dc0",
   "metadata": {},
   "outputs": [],
   "source": [
    "print(\"Operadores lógicos y prioridad\")\n",
    "print(False and False or True)\n",
    "print(False and (False or True))\n",
    "print(not True and False or True)\n",
    "print(not (True and False or False))\n",
    "print(not True and (False or False))\n",
    "print(not True and False or False)"
   ]
  },
  {
   "cell_type": "markdown",
   "id": "11b61684",
   "metadata": {},
   "source": [
    "## EJERCICIOS \n",
    "- Ejemplo 1\n",
    "Determinar si el número 20 está en el rango 0 a 100"
   ]
  },
  {
   "cell_type": "code",
   "execution_count": null,
   "id": "d42fd9b8",
   "metadata": {},
   "outputs": [],
   "source": [
    "print(20>0 and 20<=100)"
   ]
  },
  {
   "cell_type": "markdown",
   "id": "fa3566a6",
   "metadata": {},
   "source": [
    "- Ejemplo 2\n",
    "\n",
    "Un estudiante obtuvo las siguientes notas en sus exámenes: 15, 20, 16 determinar si el estudiante aprobó con una nota superior a 50"
   ]
  },
  {
   "cell_type": "code",
   "execution_count": null,
   "id": "71b3b187",
   "metadata": {},
   "outputs": [],
   "source": [
    "nota_1 = 15\n",
    "nota_2 = 20\n",
    "nota_3 = 16\n",
    "suma_notas = nota_1 + nota_2 + nota_3\n",
    "print (suma_notas > 50)"
   ]
  },
  {
   "cell_type": "markdown",
   "id": "6d547ef6",
   "metadata": {},
   "source": [
    "- Ejemplo 3\n",
    "\n",
    "Determinar si el número 15 es divisible por 3 y 5, pero no por 2"
   ]
  },
  {
   "cell_type": "code",
   "execution_count": null,
   "id": "58bc1c0c",
   "metadata": {},
   "outputs": [],
   "source": [
    "numero = 15\n",
    "divisible_por_3 = numero % 3 == 0\n",
    "divisible_por_5 = numero % 5 == 0\n",
    "divisible_por_2 = numero % 2 == 0\n",
    "print (divisible_por_3 and divisible_por_5 and not(divisible_por_2))"
   ]
  },
  {
   "cell_type": "markdown",
   "id": "ae30d222",
   "metadata": {},
   "source": [
    "## CORTOCIRCUITOS\n",
    "- CORTOCIRCUITO OPERADOR AND "
   ]
  },
  {
   "cell_type": "code",
   "execution_count": null,
   "id": "27c6bf91",
   "metadata": {},
   "outputs": [],
   "source": [
    "print (\"Cortocircuito con operador and\")\n",
    "x = 1\n",
    "y = 0\n",
    "print (x > 2 and (x/y) > 2)\n",
    "print (x > 0 and (x/y) > 0)"
   ]
  },
  {
   "cell_type": "markdown",
   "id": "e488d380",
   "metadata": {},
   "source": [
    "- CORTOCIRCUITO OPERADOR OR "
   ]
  },
  {
   "cell_type": "code",
   "execution_count": null,
   "id": "7ffbc3b0",
   "metadata": {},
   "outputs": [],
   "source": [
    "print (\"Cortocircuito con operador or\")\n",
    "x = 1\n",
    "y = 0\n",
    "print (x > 0 or (x/y) > 0)\n",
    "print (x > 2 or (x/y) > 2)"
   ]
  },
  {
   "cell_type": "code",
   "execution_count": null,
   "id": "9d143c27",
   "metadata": {},
   "outputs": [],
   "source": []
  }
 ],
 "metadata": {
  "language_info": {
   "name": "python"
  }
 },
 "nbformat": 4,
 "nbformat_minor": 5
}
