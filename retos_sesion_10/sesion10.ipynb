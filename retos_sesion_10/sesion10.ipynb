{
 "cells": [
  {
   "cell_type": "markdown",
   "id": "eabb50f7",
   "metadata": {},
   "source": [
    "# **CONJUNTOS** \n",
    "\n",
    "Un conjunto es una estructura de datos, al igual que una lista o una tupla\n",
    "\n",
    "Se llaman conjuntos porque en matemáticas un conjunto es una colección de elementos únicos sin orden definido\n",
    "\n",
    "Python adopta la misma definición de conjunto de matemáticas\n",
    "Un conjunto es una secuencia de objetos MUTABLES\n",
    "\n",
    "- NO ordenados\n",
    "- NO indexados\n",
    "- NO duplicados\n",
    "\n",
    "#### Mutable: Los elementos de un conjunto pueden ser modificados después de su creación\n",
    "\n"
   ]
  },
  {
   "cell_type": "code",
   "execution_count": 1,
   "id": "4b4d1648",
   "metadata": {},
   "outputs": [
    {
     "name": "stdout",
     "output_type": "stream",
     "text": [
      "{'🌭', '🍕', '🍟', '🍔'}\n",
      "{'🌭', '🥗', '🍕', '🍟', '🍔'}\n"
     ]
    }
   ],
   "source": [
    "#MUTABLE\n",
    "conjunto = {'🍕','🍔','🍟','🌭'}\n",
    "print(conjunto) # {'🍔', '🌭', '🍕', '🍟'}\n",
    "conjunto.add('🥗')\n",
    "print(conjunto)  # {'🍔', '🍕', '🥗', '🍟', '🌭'}"
   ]
  },
  {
   "cell_type": "markdown",
   "id": "2d3f8ea4",
   "metadata": {},
   "source": [
    "#### NO ordenados: Los elementos de un conjunto no tienen un orden especifico"
   ]
  },
  {
   "cell_type": "code",
   "execution_count": 2,
   "id": "a21b7eb7",
   "metadata": {},
   "outputs": [
    {
     "name": "stdout",
     "output_type": "stream",
     "text": [
      "{'🌭', '🍕', '🍟', '🍔'}\n"
     ]
    }
   ],
   "source": [
    "# NO ORDENADO\n",
    "conjunto = {'🍕','🍔','🍟','🌭'}\n",
    "print(conjunto) # {'🍔', '🌭', '🍕', '🍟'}"
   ]
  },
  {
   "cell_type": "markdown",
   "id": "eb20066c",
   "metadata": {},
   "source": [
    "#### NO indexados: Los elementos de un conjunto no pueden ser accedidos por un índice"
   ]
  },
  {
   "cell_type": "code",
   "execution_count": 3,
   "id": "451315d9",
   "metadata": {},
   "outputs": [
    {
     "ename": "TypeError",
     "evalue": "'set' object is not subscriptable",
     "output_type": "error",
     "traceback": [
      "\u001b[31m---------------------------------------------------------------------------\u001b[39m",
      "\u001b[31mTypeError\u001b[39m                                 Traceback (most recent call last)",
      "\u001b[36mCell\u001b[39m\u001b[36m \u001b[39m\u001b[32mIn[3]\u001b[39m\u001b[32m, line 3\u001b[39m\n\u001b[32m      1\u001b[39m \u001b[38;5;66;03m# NO INDEXADO\u001b[39;00m\n\u001b[32m      2\u001b[39m conjunto = {\u001b[33m'\u001b[39m\u001b[33m🍕\u001b[39m\u001b[33m'\u001b[39m,\u001b[33m'\u001b[39m\u001b[33m🍔\u001b[39m\u001b[33m'\u001b[39m,\u001b[33m'\u001b[39m\u001b[33m🍟\u001b[39m\u001b[33m'\u001b[39m,\u001b[33m'\u001b[39m\u001b[33m🌭\u001b[39m\u001b[33m'\u001b[39m}\n\u001b[32m----> \u001b[39m\u001b[32m3\u001b[39m \u001b[38;5;28mprint\u001b[39m(\u001b[43mconjunto\u001b[49m\u001b[43m[\u001b[49m\u001b[32;43m0\u001b[39;49m\u001b[43m]\u001b[49m) \u001b[38;5;66;03m# TypeError: 'set' object is not subscriptable\u001b[39;00m\n",
      "\u001b[31mTypeError\u001b[39m: 'set' object is not subscriptable"
     ]
    }
   ],
   "source": [
    "# NO INDEXADO\n",
    "conjunto = {'🍕','🍔','🍟','🌭'}\n",
    "print(conjunto[0]) # TypeError: 'set' object is not subscriptable"
   ]
  },
  {
   "cell_type": "markdown",
   "id": "48d958d5",
   "metadata": {},
   "source": [
    "#### NO duplicados: Los elementos de un conjunto no pueden ser duplicados"
   ]
  },
  {
   "cell_type": "code",
   "execution_count": 4,
   "id": "7283c462",
   "metadata": {},
   "outputs": [
    {
     "name": "stdout",
     "output_type": "stream",
     "text": [
      "{'🌭', '🍕', '🍟', '🍔'}\n"
     ]
    }
   ],
   "source": [
    "#NO DUPLICADO\n",
    "conjunto = {'🍕','🍔','🍟','🌭','🍕','🍟'}\n",
    "print(conjunto) # {'🍕', '🍟', '🌭', '🍔'}"
   ]
  },
  {
   "cell_type": "markdown",
   "id": "bf4c5e1a",
   "metadata": {},
   "source": [
    "## Usos de los conjuntos\n",
    "- Análisis de texto eliminando palabras repetidas\n",
    "- Gestión de inventarios\n",
    "- Control de usuarios\n",
    "- Control de permisos\n",
    "#### ¿Cómo declarar un conjunto?\n",
    "En python se declara un conjunto utilizando llaves {} y separando los elementos con comas ,\n",
    "\n",
    "mi_conjunto = {elemento1, elemento2, elemento3, ...}"
   ]
  },
  {
   "cell_type": "markdown",
   "id": "36895322",
   "metadata": {},
   "source": [
    "#### Conjunto de enteros"
   ]
  },
  {
   "cell_type": "code",
   "execution_count": 5,
   "id": "c54cbb53",
   "metadata": {},
   "outputs": [
    {
     "name": "stdout",
     "output_type": "stream",
     "text": [
      "Conjunto de enteros\n",
      "{1, 2, 3, 4, 5}\n",
      "<class 'set'>\n"
     ]
    }
   ],
   "source": [
    "print (\"Conjunto de enteros\")\n",
    "conjunto = {1, 2, 3, 4, 5}\n",
    "print(conjunto) \n",
    "print(type(conjunto))"
   ]
  },
  {
   "cell_type": "markdown",
   "id": "79d67acb",
   "metadata": {},
   "source": [
    "#### Conjunto de cadenas"
   ]
  },
  {
   "cell_type": "code",
   "execution_count": 6,
   "id": "0dfe3390",
   "metadata": {},
   "outputs": [
    {
     "name": "stdout",
     "output_type": "stream",
     "text": [
      "Conjunto de cadenas\n",
      "{'🌭', '🍕', '🍟', '🍔'}\n",
      "<class 'set'>\n"
     ]
    }
   ],
   "source": [
    "print (\"Conjunto de cadenas\")\n",
    "conjunto = {'🍕','🍔','🍟','🌭'}\n",
    "print(conjunto)\n",
    "print(type(conjunto))"
   ]
  },
  {
   "cell_type": "markdown",
   "id": "036ca58a",
   "metadata": {},
   "source": [
    "#### Conjunto mixto"
   ]
  },
  {
   "cell_type": "code",
   "execution_count": 7,
   "id": "7487fafa",
   "metadata": {},
   "outputs": [
    {
     "name": "stdout",
     "output_type": "stream",
     "text": [
      "Conjunto mixto\n",
      "{1, '☕', 3.14}\n",
      "<class 'set'>\n"
     ]
    }
   ],
   "source": [
    "print (\"Conjunto mixto\")\n",
    "conjunto = {1, True, 3.14, '☕'}\n",
    "print(conjunto)\n",
    "print(type(conjunto))"
   ]
  },
  {
   "cell_type": "markdown",
   "id": "8c32f02d",
   "metadata": {},
   "source": [
    "Se utiliza la función set() para crear conjuntos vacíos o a partir de una secuencia\n",
    "\n",
    "Permite convertir secuencias como listas, tuplas, cadenas en conjuntos\n",
    "#### Conjunto vacío"
   ]
  },
  {
   "cell_type": "code",
   "execution_count": 8,
   "id": "7e4f3de9",
   "metadata": {},
   "outputs": [
    {
     "name": "stdout",
     "output_type": "stream",
     "text": [
      "Conjunto vacío\n",
      "set()\n",
      "<class 'set'>\n"
     ]
    }
   ],
   "source": [
    "print (\"Conjunto vacío\")\n",
    "conjunto = set()\n",
    "print(conjunto)\n",
    "print(type(conjunto))"
   ]
  },
  {
   "cell_type": "markdown",
   "id": "87cc5f4f",
   "metadata": {},
   "source": [
    "#### Conjunto a partir de la cadena"
   ]
  },
  {
   "cell_type": "code",
   "execution_count": 9,
   "id": "63c7eddb",
   "metadata": {},
   "outputs": [
    {
     "name": "stdout",
     "output_type": "stream",
     "text": [
      "Conjunto a partir de la cadena\n",
      "{'M', 'u', 'o', ' ', 'n', 'd', 'l', 'H', 'a'}\n",
      "<class 'set'>\n"
     ]
    }
   ],
   "source": [
    "print (\"Conjunto a partir de la cadena\")\n",
    "cadena = 'Hola Mundo'\n",
    "conjunto = set(cadena)\n",
    "print(conjunto)\n",
    "print(type(conjunto))"
   ]
  },
  {
   "cell_type": "markdown",
   "id": "a91dac99",
   "metadata": {},
   "source": [
    "#### Conjunto a partir de una tupla"
   ]
  },
  {
   "cell_type": "code",
   "execution_count": 10,
   "id": "43c26057",
   "metadata": {},
   "outputs": [
    {
     "name": "stdout",
     "output_type": "stream",
     "text": [
      "Conjunto a partir de una tupla\n",
      "{1, 2, 3, 4, 5}\n",
      "<class 'set'>\n"
     ]
    }
   ],
   "source": [
    "print (\"Conjunto a partir de una tupla\")\n",
    "tupla = (1, 2, 3, 4, 5, 5)\n",
    "conjunto = set(tupla)\n",
    "print(conjunto)\n",
    "print(type(conjunto))"
   ]
  },
  {
   "cell_type": "markdown",
   "id": "3b2b7b00",
   "metadata": {},
   "source": [
    "#### Conjunto a partir de una lista"
   ]
  },
  {
   "cell_type": "code",
   "execution_count": 11,
   "id": "8a42618f",
   "metadata": {},
   "outputs": [
    {
     "name": "stdout",
     "output_type": "stream",
     "text": [
      "Conjunto a partir de una lista\n",
      "{False, True}\n",
      "<class 'set'>\n"
     ]
    }
   ],
   "source": [
    "print (\"Conjunto a partir de una lista\")\n",
    "lista = [True, False, 0, 1]\n",
    "conjunto = set(lista)\n",
    "print(conjunto)\n",
    "print(type(conjunto))"
   ]
  },
  {
   "cell_type": "markdown",
   "id": "0883a412",
   "metadata": {},
   "source": [
    "#### Conjunto por comprensión"
   ]
  },
  {
   "cell_type": "code",
   "execution_count": null,
   "id": "09d9c0f5",
   "metadata": {},
   "outputs": [],
   "source": [
    "print (\"Conjunto por comprensión\")\n",
    "conjunto = {x for x in '🍕🍔🍟🍕🍔🍟🍔🍟'}\n",
    "print(conjunto)\n",
    "print(type(conjunto))"
   ]
  },
  {
   "cell_type": "markdown",
   "id": "2aea15d5",
   "metadata": {},
   "source": [
    "## Indexacion y slicing\n",
    "Los conjuntos no soportan indexación ni slicing\n",
    "Porque no son ordenados ni indexados\n",
    "\n"
   ]
  },
  {
   "cell_type": "code",
   "execution_count": 12,
   "id": "f57f7342",
   "metadata": {},
   "outputs": [
    {
     "ename": "TypeError",
     "evalue": "'set' object is not subscriptable",
     "output_type": "error",
     "traceback": [
      "\u001b[31m---------------------------------------------------------------------------\u001b[39m",
      "\u001b[31mTypeError\u001b[39m                                 Traceback (most recent call last)",
      "\u001b[36mCell\u001b[39m\u001b[36m \u001b[39m\u001b[32mIn[12]\u001b[39m\u001b[32m, line 2\u001b[39m\n\u001b[32m      1\u001b[39m conjunto = {\u001b[32m1\u001b[39m, \u001b[32m2\u001b[39m, \u001b[32m3\u001b[39m, \u001b[32m4\u001b[39m, \u001b[32m5\u001b[39m}\n\u001b[32m----> \u001b[39m\u001b[32m2\u001b[39m \u001b[38;5;28mprint\u001b[39m(\u001b[43mconjunto\u001b[49m\u001b[43m[\u001b[49m\u001b[32;43m0\u001b[39;49m\u001b[43m]\u001b[49m) \u001b[38;5;66;03m# TypeError: 'set' object is not subscriptable\u001b[39;00m\n",
      "\u001b[31mTypeError\u001b[39m: 'set' object is not subscriptable"
     ]
    }
   ],
   "source": [
    "conjunto = {1, 2, 3, 4, 5}\n",
    "print(conjunto[0]) # TypeError: 'set' object is not subscriptable"
   ]
  },
  {
   "cell_type": "code",
   "execution_count": 13,
   "id": "4bddb481",
   "metadata": {},
   "outputs": [
    {
     "ename": "TypeError",
     "evalue": "'set' object is not subscriptable",
     "output_type": "error",
     "traceback": [
      "\u001b[31m---------------------------------------------------------------------------\u001b[39m",
      "\u001b[31mTypeError\u001b[39m                                 Traceback (most recent call last)",
      "\u001b[36mCell\u001b[39m\u001b[36m \u001b[39m\u001b[32mIn[13]\u001b[39m\u001b[32m, line 2\u001b[39m\n\u001b[32m      1\u001b[39m conjunto = {\u001b[32m1\u001b[39m, \u001b[32m2\u001b[39m, \u001b[32m3\u001b[39m, \u001b[32m4\u001b[39m, \u001b[32m5\u001b[39m}\n\u001b[32m----> \u001b[39m\u001b[32m2\u001b[39m \u001b[38;5;28mprint\u001b[39m(\u001b[43mconjunto\u001b[49m\u001b[43m[\u001b[49m\u001b[32;43m0\u001b[39;49m\u001b[43m:\u001b[49m\u001b[32;43m3\u001b[39;49m\u001b[43m]\u001b[49m) \u001b[38;5;66;03m# TypeError: 'set' object is not subscriptable\u001b[39;00m\n",
      "\u001b[31mTypeError\u001b[39m: 'set' object is not subscriptable"
     ]
    }
   ],
   "source": [
    "conjunto = {1, 2, 3, 4, 5}\n",
    "print(conjunto[0:3]) # TypeError: 'set' object is not subscriptable"
   ]
  },
  {
   "cell_type": "markdown",
   "id": "46bb9549",
   "metadata": {},
   "source": [
    "#### Concatenación de conjuntos\n",
    "Los conjuntos no soportan la concatenación con el operador +"
   ]
  },
  {
   "cell_type": "code",
   "execution_count": 14,
   "id": "9972324d",
   "metadata": {},
   "outputs": [
    {
     "ename": "TypeError",
     "evalue": "unsupported operand type(s) for +: 'set' and 'set'",
     "output_type": "error",
     "traceback": [
      "\u001b[31m---------------------------------------------------------------------------\u001b[39m",
      "\u001b[31mTypeError\u001b[39m                                 Traceback (most recent call last)",
      "\u001b[36mCell\u001b[39m\u001b[36m \u001b[39m\u001b[32mIn[14]\u001b[39m\u001b[32m, line 3\u001b[39m\n\u001b[32m      1\u001b[39m conjunto1 = {\u001b[32m1\u001b[39m, \u001b[32m2\u001b[39m, \u001b[32m3\u001b[39m}\n\u001b[32m      2\u001b[39m conjunto2 = {\u001b[32m4\u001b[39m, \u001b[32m5\u001b[39m, \u001b[32m6\u001b[39m}\n\u001b[32m----> \u001b[39m\u001b[32m3\u001b[39m \u001b[38;5;28mprint\u001b[39m(\u001b[43mconjunto1\u001b[49m\u001b[43m \u001b[49m\u001b[43m+\u001b[49m\u001b[43m \u001b[49m\u001b[43mconjunto2\u001b[49m)\n\u001b[32m      4\u001b[39m \u001b[38;5;66;03m# TypeError: unsupported operand type(s) for +: 'set' and 'set'\u001b[39;00m\n",
      "\u001b[31mTypeError\u001b[39m: unsupported operand type(s) for +: 'set' and 'set'"
     ]
    }
   ],
   "source": [
    "conjunto1 = {1, 2, 3}\n",
    "conjunto2 = {4, 5, 6}\n",
    "print(conjunto1 + conjunto2)\n",
    "# TypeError: unsupported operand type(s) for +: 'set' and 'set'"
   ]
  },
  {
   "cell_type": "markdown",
   "id": "2fa6147b",
   "metadata": {},
   "source": [
    "#### Repetición con conjuntos\n",
    "Los conjuntos no soportan la repetición con el operador *"
   ]
  },
  {
   "cell_type": "code",
   "execution_count": 15,
   "id": "22f8ab27",
   "metadata": {},
   "outputs": [
    {
     "ename": "TypeError",
     "evalue": "unsupported operand type(s) for *: 'set' and 'int'",
     "output_type": "error",
     "traceback": [
      "\u001b[31m---------------------------------------------------------------------------\u001b[39m",
      "\u001b[31mTypeError\u001b[39m                                 Traceback (most recent call last)",
      "\u001b[36mCell\u001b[39m\u001b[36m \u001b[39m\u001b[32mIn[15]\u001b[39m\u001b[32m, line 2\u001b[39m\n\u001b[32m      1\u001b[39m conjunto = {\u001b[32m1\u001b[39m, \u001b[32m2\u001b[39m, \u001b[32m3\u001b[39m}\n\u001b[32m----> \u001b[39m\u001b[32m2\u001b[39m \u001b[38;5;28mprint\u001b[39m(\u001b[43mconjunto\u001b[49m\u001b[43m \u001b[49m\u001b[43m*\u001b[49m\u001b[43m \u001b[49m\u001b[32;43m3\u001b[39;49m)\n\u001b[32m      3\u001b[39m \u001b[38;5;66;03m# TypeError: unsupported operand type(s) for *: 'set' and 'int'\u001b[39;00m\n",
      "\u001b[31mTypeError\u001b[39m: unsupported operand type(s) for *: 'set' and 'int'"
     ]
    }
   ],
   "source": [
    "conjunto = {1, 2, 3}\n",
    "print(conjunto * 3)\n",
    "# TypeError: unsupported operand type(s) for *: 'set' and 'int'"
   ]
  },
  {
   "cell_type": "markdown",
   "id": "7df24ae9",
   "metadata": {},
   "source": [
    "## METODOS DE LOS CONJUNTOS \n",
    "### Metodos de adicion \n",
    "\n",
    "Los métodos de adición permiten agregar elementos a un conjunto\n",
    "\n",
    "add()\n",
    "update()\n",
    "No retorna ningún valor\n",
    "\n",
    "###### add(valor) recibe un valor y lo agrega al conjunto si no existe"
   ]
  },
  {
   "cell_type": "code",
   "execution_count": 16,
   "id": "02961a93",
   "metadata": {},
   "outputs": [
    {
     "name": "stdout",
     "output_type": "stream",
     "text": [
      "Método add()\n",
      "{'🌭', '🍕', '🍟', '🍔'}\n",
      "{'🌭', '🥗', '🍕', '🍟', '🍔'}\n"
     ]
    }
   ],
   "source": [
    "print (\"Método add()\")\n",
    "conjunto = {'🍕','🍔','🍟','🌭'}\n",
    "print (conjunto)\n",
    "conjunto.add('🥗')\n",
    "print(conjunto) "
   ]
  },
  {
   "cell_type": "markdown",
   "id": "c2ca1681",
   "metadata": {},
   "source": [
    "##### update(valores) recibe una secuencia de valores y los agrega al conjunto si no existen"
   ]
  },
  {
   "cell_type": "code",
   "execution_count": 17,
   "id": "6c54c52f",
   "metadata": {},
   "outputs": [
    {
     "name": "stdout",
     "output_type": "stream",
     "text": [
      "Método update()\n",
      "{'🌭', '🍕', '🍟', '🍔'}\n",
      "{'🍦', '🌭', '🍕', '🍟', '🥤', '🍔'}\n",
      "{'🍦', '🌭', '🍩', '🍕', '🍟', '🥤', '🍪', '🍔'}\n",
      "{'🍦', '🌭', '🍩', '🍕', '🍟', '🥤', '🍪', '🍔', '🍬', '🍫'}\n",
      "{'🍭', '🍮', '🍦', '🌭', '🍩', '🍕', '🍟', '🥤', '🍪', '🍔', '🍬', '🍫'}\n"
     ]
    }
   ],
   "source": [
    "print (\"Método update()\")\n",
    "conjunto = {'🍕','🍔','🍟','🌭'}\n",
    "print (conjunto)\n",
    "conjunto.update(['🥤','🍦'])\n",
    "print(conjunto) \n",
    "conjunto.update('🍩🍪')\n",
    "print(conjunto) \n",
    "conjunto.update(('🍫','🍬'))\n",
    "print(conjunto)\n",
    "conjunto.update({'🍭','🍮'})\n",
    "print(conjunto)"
   ]
  },
  {
   "cell_type": "markdown",
   "id": "a970c7a4",
   "metadata": {},
   "source": [
    "### Metodos de eliminacion \n",
    "Los métodos de eliminación permiten eliminar elementos de un conjunto\n",
    "\n",
    "remove()\n",
    "discard()\n",
    "pop()\n",
    "clear()\n",
    "Solo pop() retorna el elemento eliminado\n",
    "\n",
    "###### remove(valor) recibe un valor y lo elimina del conjunto si existe, si no existe lanza un error"
   ]
  },
  {
   "cell_type": "code",
   "execution_count": 18,
   "id": "66175dc3",
   "metadata": {},
   "outputs": [
    {
     "name": "stdout",
     "output_type": "stream",
     "text": [
      "Método remove()\n",
      "{'🌭', '🍕', '🍟', '🍔'}\n",
      "{'🌭', '🍕', '🍟'}\n"
     ]
    }
   ],
   "source": [
    "print (\"Método remove()\")\n",
    "conjunto = {'🍕','🍔','🍟','🌭'} \n",
    "print (conjunto)\n",
    "conjunto.remove('🍔')\n",
    "print(conjunto)\n",
    "# conjunto.remove('🍔')\n",
    "# print(conjunto)\n",
    "# Key Error: '🍔'"
   ]
  },
  {
   "cell_type": "markdown",
   "id": "4a8287fc",
   "metadata": {},
   "source": [
    "##### discard(valor) recibe un valor y lo elimina del conjunto si existe, si no existe no lanza un error"
   ]
  },
  {
   "cell_type": "code",
   "execution_count": 19,
   "id": "342d2d3c",
   "metadata": {},
   "outputs": [
    {
     "name": "stdout",
     "output_type": "stream",
     "text": [
      "Método discard()\n",
      "{'🌭', '🍕', '🍟', '🍔'}\n",
      "{'🌭', '🍕', '🍟'}\n",
      "{'🌭', '🍕', '🍟'}\n"
     ]
    }
   ],
   "source": [
    "print (\"Método discard()\")\n",
    "conjunto = {'🍕','🍔','🍟','🌭'}\n",
    "print (conjunto)\n",
    "conjunto.discard('🍔')\n",
    "print(conjunto)\n",
    "conjunto.discard('🍔')\n",
    "print(conjunto)"
   ]
  },
  {
   "cell_type": "markdown",
   "id": "a6aa0805",
   "metadata": {},
   "source": [
    "##### pop() elimina un elemento aleatorio del conjunto y lo retorna"
   ]
  },
  {
   "cell_type": "code",
   "execution_count": 20,
   "id": "dc0d55a3",
   "metadata": {},
   "outputs": [
    {
     "name": "stdout",
     "output_type": "stream",
     "text": [
      "Método pop()\n",
      "{'🌭', '🍕', '🍟', '🥤', '🍔', '🍦'}\n",
      "🌭\n",
      "{'🍕', '🍟', '🥤', '🍔', '🍦'}\n",
      "🍕\n",
      "{'🍟', '🥤', '🍔', '🍦'}\n"
     ]
    }
   ],
   "source": [
    "print (\"Método pop()\")\n",
    "conjunto = {'🍕','🍔','🍟','🌭', '🥤','🍦'}\n",
    "print (conjunto)\n",
    "print(conjunto.pop())\n",
    "print(conjunto)\n",
    "print(conjunto.pop())\n",
    "print(conjunto)"
   ]
  },
  {
   "cell_type": "markdown",
   "id": "82abb3fd",
   "metadata": {},
   "source": [
    "##### clear() elimina todos los elementos del conjunto"
   ]
  },
  {
   "cell_type": "code",
   "execution_count": 21,
   "id": "2bc9a241",
   "metadata": {},
   "outputs": [
    {
     "name": "stdout",
     "output_type": "stream",
     "text": [
      "Método clear()\n",
      "{'🌭', '🍕', '🍟', '🍔'}\n",
      "set()\n"
     ]
    }
   ],
   "source": [
    "print (\"Método clear()\")\n",
    "conjunto = {'🍕','🍔','🍟','🌭'}\n",
    "print (conjunto)\n",
    "conjunto.clear()\n",
    "print(conjunto)"
   ]
  },
  {
   "cell_type": "markdown",
   "id": "d992e212",
   "metadata": {},
   "source": [
    "### Metodos de operaciones con conjuntos \n",
    "- union() : Unión de conjuntos\n",
    "- intersection() : Intersección de conjuntos\n",
    "- difference() : Diferencia de conjuntos\n",
    "- symmetric_difference() : Diferencia simétrica de conjuntos\n",
    "Retornan un nuevo conjunto con el resultado de la operación\n",
    "###### union(conjunto) recibe un conjunto y retorna la unión de ambos"
   ]
  },
  {
   "cell_type": "code",
   "execution_count": 22,
   "id": "ee839d82",
   "metadata": {},
   "outputs": [
    {
     "name": "stdout",
     "output_type": "stream",
     "text": [
      "Método union()\n",
      "{'🍔', '🍟', '🥤'} {'🍕', '🍨', '🥤'}\n",
      "{'🍟', '🍕', '🍔', '🍨', '🥤'}\n"
     ]
    }
   ],
   "source": [
    "print (\"Método union()\")\n",
    "conjunto1 = {'🍔','🍟', '🥤'}\n",
    "conjunto2 = {'🍕','🍨','🥤'}\n",
    "print (conjunto1, conjunto2)\n",
    "union = conjunto1.union(conjunto2)\n",
    "print(union)"
   ]
  },
  {
   "cell_type": "markdown",
   "id": "faeaee03",
   "metadata": {},
   "source": [
    "###### intersection(conjunto) recibe un conjunto y retorna la intersección de ambos"
   ]
  },
  {
   "cell_type": "code",
   "execution_count": 23,
   "id": "ec50bffb",
   "metadata": {},
   "outputs": [
    {
     "name": "stdout",
     "output_type": "stream",
     "text": [
      "Método intersection()\n",
      "{'🍔', '🍟', '🥤'} {'🍕', '🍨', '🥤'}\n",
      "{'🥤'}\n"
     ]
    }
   ],
   "source": [
    "print (\"Método intersection()\")\n",
    "conjunto1 = {'🍔','🍟', '🥤'}\n",
    "conjunto2 = {'🍕','🍨','🥤'}\n",
    "print (conjunto1, conjunto2)\n",
    "interseccion = conjunto1.intersection(conjunto2)\n",
    "print(interseccion)"
   ]
  },
  {
   "cell_type": "markdown",
   "id": "765ed890",
   "metadata": {},
   "source": [
    "##### difference(conjunto) recibe un conjunto y retorna la diferencia de ambos conjuntos"
   ]
  },
  {
   "cell_type": "code",
   "execution_count": 24,
   "id": "ba07a250",
   "metadata": {},
   "outputs": [
    {
     "name": "stdout",
     "output_type": "stream",
     "text": [
      "Método difference()\n",
      "1: {'🍔', '🍟', '🥤'} 2: {'🍕', '🍨', '🥤'}\n",
      "1 y 2: {'🍟', '🍔'}\n",
      "2 y 1: {'🍨', '🍕'}\n"
     ]
    }
   ],
   "source": [
    "print (\"Método difference()\")\n",
    "conjunto1 = {'🍔','🍟', '🥤'}\n",
    "conjunto2 = {'🍕','🍨','🥤'}\n",
    "print (\"1:\",conjunto1, \"2:\",conjunto2)\n",
    "diferencia = conjunto1.difference(conjunto2)\n",
    "print(\"1 y 2:\",diferencia)\n",
    "diferencia = conjunto2.difference(conjunto1)\n",
    "print(\"2 y 1:\",diferencia)"
   ]
  },
  {
   "cell_type": "markdown",
   "id": "eb732f89",
   "metadata": {},
   "source": [
    "##### symmetric_difference(conjunto) recibe un conjunto y retorna la diferencia simétrica de ambos"
   ]
  },
  {
   "cell_type": "code",
   "execution_count": 25,
   "id": "b7aecc2e",
   "metadata": {},
   "outputs": [
    {
     "name": "stdout",
     "output_type": "stream",
     "text": [
      "Método symmetric_difference()\n",
      "{'🍔', '🍟', '🥤'} {'🍕', '🍨', '🥤'}\n",
      "{'🍕', '🍟', '🍔', '🍨'}\n"
     ]
    }
   ],
   "source": [
    "print (\"Método symmetric_difference()\")\n",
    "conjunto1 = {'🍔','🍟', '🥤'}\n",
    "conjunto2 = {'🍕','🍨','🥤'}\n",
    "print (conjunto1, conjunto2)\n",
    "diferencia_simetrica = conjunto1.symmetric_difference(conjunto2)\n",
    "print(diferencia_simetrica)"
   ]
  },
  {
   "cell_type": "markdown",
   "id": "a2f0ff16",
   "metadata": {},
   "source": [
    "### Metodos de asignacion con operaciones\n",
    "Permiten realizar operaciones con conjuntos y asignar el resultado al conjunto inicial\n",
    "\n",
    "- intersection_update() : Intersección\n",
    "- difference_update() : Diferencia\n",
    "- symmetric_difference_update() : Diferencia simétrica\n",
    "##### intersection_update(conjunto) recibe un conjunto y asigna al conjunto inicial la intersección de ambos conjuntos"
   ]
  },
  {
   "cell_type": "code",
   "execution_count": 26,
   "id": "168478bc",
   "metadata": {},
   "outputs": [
    {
     "name": "stdout",
     "output_type": "stream",
     "text": [
      "Método intersection_update()\n",
      "{'🍔', '🍟', '🥤'} {'🍕', '🍨', '🥤'}\n",
      "{'🥤'}\n"
     ]
    }
   ],
   "source": [
    "print (\"Método intersection_update()\")\n",
    "conjunto1 = {'🍔','🍟', '🥤'}\n",
    "conjunto2 = {'🍕','🍨','🥤'}\n",
    "print (conjunto1, conjunto2)\n",
    "conjunto1.intersection_update(conjunto2)\n",
    "print(conjunto1)"
   ]
  },
  {
   "cell_type": "markdown",
   "id": "b82adb76",
   "metadata": {},
   "source": [
    "##### difference_update(conjunto) recibe un conjunto y asigna al conjunto inicial la diferencia de ambos conjuntos"
   ]
  },
  {
   "cell_type": "code",
   "execution_count": 27,
   "id": "dcdcdc1b",
   "metadata": {},
   "outputs": [
    {
     "name": "stdout",
     "output_type": "stream",
     "text": [
      "Método difference_update()\n",
      "1: {'🍔', '🍟', '🥤'} 2: {'🍕', '🍨', '🥤'}\n",
      "1: {'🍔', '🍟'} 2: {'🍕', '🍨', '🥤'}\n"
     ]
    }
   ],
   "source": [
    "print (\"Método difference_update()\")\n",
    "conjunto1 = {'🍔','🍟', '🥤'}\n",
    "conjunto2 = {'🍕','🍨','🥤'}\n",
    "print (\"1:\",conjunto1, \"2:\",conjunto2)\n",
    "conjunto1.difference_update(conjunto2)\n",
    "print (\"1:\",conjunto1, \"2:\",conjunto2)"
   ]
  },
  {
   "cell_type": "markdown",
   "id": "29d5ae50",
   "metadata": {},
   "source": [
    "###### symmetric_difference_update(conjunto) recibe un conjunto y asigna al conjunto inicial la diferencia simétrica de ambos conjuntos"
   ]
  },
  {
   "cell_type": "code",
   "execution_count": 28,
   "id": "62d6b4e4",
   "metadata": {},
   "outputs": [
    {
     "name": "stdout",
     "output_type": "stream",
     "text": [
      "Método symmetric_difference_update()\n",
      "{'🍔', '🍟', '🥤'} {'🍕', '🍨', '🥤'}\n",
      "{'🍕', '🍟', '🍔', '🍨'}\n"
     ]
    }
   ],
   "source": [
    "print (\"Método symmetric_difference_update()\")\n",
    "conjunto1 = {'🍔','🍟', '🥤'}\n",
    "conjunto2 = {'🍕','🍨','🥤'}\n",
    "print (conjunto1, conjunto2)\n",
    "conjunto1.symmetric_difference_update(conjunto2)\n",
    "print(conjunto1)"
   ]
  },
  {
   "cell_type": "markdown",
   "id": "a9ab38f4",
   "metadata": {},
   "source": [
    "### Metodos de busqueda\n",
    "Los métodos de búsqueda permiten buscar elementos en un conjunto\n",
    "\n",
    "- issubset() : Subconjunto\n",
    "- issuperset() : Superconjunto\n",
    "- isdisjoint() : Disjunto\n",
    "Retornan un valor booleano\n",
    "\n",
    "##### issubset(conjunto) recibe una secuencia y retorna True si el conjunto es subconjunto del conjunto recibido"
   ]
  },
  {
   "cell_type": "code",
   "execution_count": 29,
   "id": "d112d8ff",
   "metadata": {},
   "outputs": [
    {
     "name": "stdout",
     "output_type": "stream",
     "text": [
      "Método issubset()\n",
      "{'🍔', '🍟', '🥤'} {'🍕', '🍨', '🥤'} {'🍟', '🍔'}\n",
      "False\n",
      "True\n"
     ]
    }
   ],
   "source": [
    "print (\"Método issubset()\")\n",
    "conjunto1 = {'🍔','🍟', '🥤'}\n",
    "conjunto2 = {'🍕','🍨','🥤'}\n",
    "conjunto3 = {'🍔','🍟'}\n",
    "print (conjunto1, conjunto2,conjunto3)\n",
    "# ¿El conjunto1 es subconjunto del conjunto2?\n",
    "print(conjunto1.issubset(conjunto2))\n",
    "# ¿El conjunto3 es subconjunto del conjunto1?\n",
    "print(conjunto3.issubset(conjunto1))"
   ]
  },
  {
   "cell_type": "markdown",
   "id": "a4ef84d1",
   "metadata": {},
   "source": [
    "##### issuperset(conjunto) recibe una secuencia y retorna True si el conjunto es superconjunto del conjunto recibido"
   ]
  },
  {
   "cell_type": "code",
   "execution_count": 30,
   "id": "d532847c",
   "metadata": {},
   "outputs": [
    {
     "name": "stdout",
     "output_type": "stream",
     "text": [
      "Método issuperset()\n",
      "{'🍔', '🍟', '🥤'} {'🍕', '🍨', '🥤'} {'🍟', '🍔'}\n",
      "False\n",
      "True\n"
     ]
    }
   ],
   "source": [
    "print (\"Método issuperset()\")\n",
    "conjunto1 = {'🍔','🍟', '🥤'}\n",
    "conjunto2 = {'🍕','🍨','🥤'}\n",
    "conjunto3 = {'🍔','🍟'}\n",
    "print (conjunto1, conjunto2,conjunto3)\n",
    "# ¿El conjunto1 es superconjunto del conjunto2?\n",
    "print(conjunto1.issuperset(conjunto2)) # C1 contiene a C2?\n",
    "# ¿El conjunto1 es superconjunto del conjunto2?\n",
    "print(conjunto1.issuperset(conjunto3)) # C1 contiene a C3?"
   ]
  },
  {
   "cell_type": "markdown",
   "id": "f33f9549",
   "metadata": {},
   "source": [
    "###### isdisjoint(conjunto) recibe un secuencia y retorna True si el conjunto no tiene elementos en común con el conjunto recibido"
   ]
  },
  {
   "cell_type": "code",
   "execution_count": 31,
   "id": "16495a2a",
   "metadata": {},
   "outputs": [
    {
     "name": "stdout",
     "output_type": "stream",
     "text": [
      "Método isdisjoint()\n",
      "{'🍔', '🍟', '🥤'} {'🍨', '🍕'} {'🍟', '🍔'}\n",
      "True\n",
      "False\n"
     ]
    }
   ],
   "source": [
    "print (\"Método isdisjoint()\")\n",
    "conjunto1 = {'🍔','🍟', '🥤'}\n",
    "conjunto2 = {'🍕','🍨'}\n",
    "conjunto3 = {'🍔','🍟'}\n",
    "print (conjunto1, conjunto2,conjunto3)\n",
    "# ¿El conjunto1 no tiene elementos en común con el conjunto2?\n",
    "print(conjunto1.isdisjoint(conjunto2))\n",
    "# ¿El conjunto1 no tiene elementos en común con el conjunto3?\n",
    "print(conjunto1.isdisjoint(conjunto3))"
   ]
  },
  {
   "cell_type": "markdown",
   "id": "6b7b14a2",
   "metadata": {},
   "source": [
    "### Metodos de copia \n",
    "Los métodos de copia permiten copiar un conjunto\n",
    "\n",
    "- copy()\n",
    "Retorna un nuevo conjunto con los mismos elementos"
   ]
  },
  {
   "cell_type": "code",
   "execution_count": 32,
   "id": "f10cf518",
   "metadata": {},
   "outputs": [
    {
     "name": "stdout",
     "output_type": "stream",
     "text": [
      "Asignación por referencia\n",
      "{'🌭', '🍕', '🍟', '🍔'}\n",
      "{'🌭', '🥗', '🍕', '🍟', '🍔'}\n",
      "{'🌭', '🥗', '🍕', '🍟', '🍔'}\n"
     ]
    }
   ],
   "source": [
    "print (\"Asignación por referencia\")\n",
    "conjunto = {'🍕','🍔','🍟','🌭'}\n",
    "print (conjunto)\n",
    "copia = conjunto\n",
    "copia.add('🥗')\n",
    "print(conjunto)\n",
    "print(copia)"
   ]
  },
  {
   "cell_type": "code",
   "execution_count": 33,
   "id": "be8660ed",
   "metadata": {},
   "outputs": [
    {
     "name": "stdout",
     "output_type": "stream",
     "text": [
      "Método copy()\n",
      "{'🌭', '🍕', '🍟', '🍔'}\n",
      "{'🌭', '🍕', '🍟', '🍔'}\n",
      "{'🌭', '🥗', '🍕', '🍟', '🍔'}\n"
     ]
    }
   ],
   "source": [
    "print (\"Método copy()\")\n",
    "conjunto = {'🍕','🍔','🍟','🌭'}\n",
    "print (conjunto)\n",
    "copia = conjunto.copy()\n",
    "copia.add('🥗')\n",
    "print(conjunto)\n",
    "print(copia)"
   ]
  },
  {
   "cell_type": "markdown",
   "id": "ae419e52",
   "metadata": {},
   "source": [
    "## FUNCIONES CON CONJUNTOS \n",
    "Los conjuntos interactúan con funciones propias de python que permiten secuencias\n",
    "\n",
    "- len()\n",
    "- max()\n",
    "- min()\n",
    "- sum()"
   ]
  },
  {
   "cell_type": "code",
   "execution_count": 34,
   "id": "5649d1b6",
   "metadata": {},
   "outputs": [
    {
     "name": "stdout",
     "output_type": "stream",
     "text": [
      "Función len()\n",
      "{'🌭', '🍕', '🍟', '🍔'}\n",
      "4\n"
     ]
    }
   ],
   "source": [
    "print (\"Función len()\")\n",
    "conjunto = {'🍕','🍔','🍟','🌭'}\n",
    "print (conjunto)\n",
    "print(len(conjunto))"
   ]
  },
  {
   "cell_type": "code",
   "execution_count": 35,
   "id": "f00c9cf3",
   "metadata": {},
   "outputs": [
    {
     "name": "stdout",
     "output_type": "stream",
     "text": [
      "Función max()\n",
      "{1, 2, 3, 4, 5}\n",
      "5\n",
      "{'🌭', '🍕', '🍟', '🍔'}\n",
      "🍟\n"
     ]
    }
   ],
   "source": [
    "print (\"Función max()\")\n",
    "conjunto = {1, 2, 3, 4, 5}\n",
    "print (conjunto)\n",
    "print (max(conjunto))\n",
    "conjunto = {'🍕','🍔','🍟','🌭'}\n",
    "print (conjunto)\n",
    "print(max(conjunto))"
   ]
  },
  {
   "cell_type": "code",
   "execution_count": 36,
   "id": "21a5fd32",
   "metadata": {},
   "outputs": [
    {
     "name": "stdout",
     "output_type": "stream",
     "text": [
      "Función min()\n",
      "{1, 2, 3, 4, 5}\n",
      "1\n",
      "{'🍨', '🍟', '🍕', '🍔'}\n",
      "🍔\n"
     ]
    }
   ],
   "source": [
    "print (\"Función min()\")\n",
    "conjunto = {1, 2, 3, 4, 5}\n",
    "print (conjunto)\n",
    "print (min(conjunto))\n",
    "conjunto = {'🍨','🍔','🍟','🍕'}\n",
    "print (conjunto)\n",
    "print(min(conjunto))"
   ]
  },
  {
   "cell_type": "code",
   "execution_count": 37,
   "id": "4a8ee635",
   "metadata": {},
   "outputs": [
    {
     "name": "stdout",
     "output_type": "stream",
     "text": [
      "Función sum()\n",
      "{1, 2, 3, 4, 5}\n",
      "15\n"
     ]
    }
   ],
   "source": [
    "print (\"Función sum()\") # Solo si tiene numeros\n",
    "conjunto = {1, 2, 3, 4, 5}\n",
    "print (conjunto)\n",
    "print (sum(conjunto))"
   ]
  },
  {
   "cell_type": "markdown",
   "id": "7ef4bb8f",
   "metadata": {},
   "source": [
    "## OPERADORES CON CONJUNTOS \n",
    "Los conjuntos soportan operadores que permiten realizar operaciones\n",
    "\n",
    "- Operadores de adición\n",
    "- Operadores de comparación\n",
    "- Operadores para operaciones con conjuntos\n",
    "- Operadores para asignación con operaciones"
   ]
  },
  {
   "cell_type": "markdown",
   "id": "9b6f0107",
   "metadata": {},
   "source": [
    "### Operadores de adición\n",
    "|= recibe un conjunto y agrega al conjunto inicial los elementos del conjunto recibido"
   ]
  },
  {
   "cell_type": "code",
   "execution_count": 38,
   "id": "950443bd",
   "metadata": {},
   "outputs": [
    {
     "name": "stdout",
     "output_type": "stream",
     "text": [
      "Operador |=\n",
      "{'🍔', '🍟', '🥤'} {'🍨', '🍕'}\n",
      "{'🍟', '🍕', '🍔', '🍨', '🥤'}\n"
     ]
    }
   ],
   "source": [
    "print (\"Operador |=\") #UPDATE\n",
    "conjunto1 = {'🍔','🍟', '🥤'}\n",
    "conjunto2 = {'🍕','🍨'}\n",
    "print (conjunto1, conjunto2)\n",
    "conjunto1 |= conjunto2\n",
    "print(conjunto1)"
   ]
  },
  {
   "cell_type": "markdown",
   "id": "8af5ae98",
   "metadata": {},
   "source": [
    "### Operadores de comparacion\n",
    "Los operadores de comparación permiten comparar conjuntos\n",
    "\n",
    "- == : Igualdad\n",
    "- != : Desigualdad\n",
    "- < : Es subconjunto y no igual\n",
    "- > : Es superconjunto y no igual\n",
    "- <= : Es subconjunto o igual\n",
    "- >= : Es superconjunto o igual"
   ]
  },
  {
   "cell_type": "code",
   "execution_count": 39,
   "id": "26767763",
   "metadata": {},
   "outputs": [
    {
     "name": "stdout",
     "output_type": "stream",
     "text": [
      "Operador ==\n",
      "{'🍔', '🍟', '🥤'} {'🍔', '🍟', '🥤'} {'🍨', '🍕'}\n",
      "True\n",
      "False\n"
     ]
    }
   ],
   "source": [
    "print (\"Operador ==\")\n",
    "conjunto1 = {'🍔','🍟', '🥤'}\n",
    "conjunto2 = {'🍔','🍟', '🥤'}\n",
    "conjunto3 = {'🍕','🍨'}\n",
    "print (conjunto1, conjunto2, conjunto3)\n",
    "print(conjunto1 == conjunto2)\n",
    "print(conjunto1 == conjunto3)"
   ]
  },
  {
   "cell_type": "code",
   "execution_count": 40,
   "id": "143d94fb",
   "metadata": {},
   "outputs": [
    {
     "name": "stdout",
     "output_type": "stream",
     "text": [
      "Operador !=\n",
      "{'🍔', '🍟', '🥤'} {'🍔', '🍟', '🥤'} {'🍨', '🍕'}\n",
      "False\n",
      "True\n"
     ]
    }
   ],
   "source": [
    "print (\"Operador !=\")\n",
    "conjunto1 = {'🍔','🍟', '🥤'}\n",
    "conjunto2 = {'🍔','🍟', '🥤'}\n",
    "conjunto3 = {'🍕','🍨'}\n",
    "print (conjunto1, conjunto2, conjunto3)\n",
    "print(conjunto1 != conjunto2)\n",
    "print(conjunto1 != conjunto3)"
   ]
  },
  {
   "cell_type": "code",
   "execution_count": 41,
   "id": "68ad5424",
   "metadata": {},
   "outputs": [
    {
     "name": "stdout",
     "output_type": "stream",
     "text": [
      "Operador <\n",
      "{'🍟', '🍔'} {'🍔', '🍟', '🥤'} {'🍨', '🍕'}\n",
      "True\n",
      "False\n"
     ]
    }
   ],
   "source": [
    "print (\"Operador <\")\n",
    "conjunto1 = {'🍔','🍟'}\n",
    "conjunto2 = {'🍔','🍟', '🥤'}\n",
    "conjunto3 = {'🍕','🍨'}\n",
    "print (conjunto1, conjunto2, conjunto3)\n",
    "print(conjunto1 < conjunto2)\n",
    "print(conjunto1 < conjunto3)"
   ]
  },
  {
   "cell_type": "code",
   "execution_count": 42,
   "id": "605a8acc",
   "metadata": {},
   "outputs": [
    {
     "name": "stdout",
     "output_type": "stream",
     "text": [
      "Operador >\n",
      "{'🍔', '🍟', '🍕', '🥤'} {'🍔', '🍟', '🥤'} {'🍨', '🍕'}\n",
      "True\n",
      "False\n"
     ]
    }
   ],
   "source": [
    "print (\"Operador >\")\n",
    "conjunto1 = {'🍔','🍟','🥤','🍕'}\n",
    "conjunto2 = {'🍔','🍟', '🥤'}\n",
    "conjunto3 = {'🍕','🍨'}\n",
    "print (conjunto1, conjunto2, conjunto3)\n",
    "print(conjunto1 > conjunto2)\n",
    "print(conjunto1 > conjunto3)"
   ]
  },
  {
   "cell_type": "code",
   "execution_count": 43,
   "id": "eb0931b9",
   "metadata": {},
   "outputs": [
    {
     "name": "stdout",
     "output_type": "stream",
     "text": [
      "Operador <=\n",
      "{'🍟', '🍔'} {'🍟', '🍔'} {'🍨', '🍕'}\n",
      "True\n",
      "False\n"
     ]
    }
   ],
   "source": [
    "print (\"Operador <=\")\n",
    "conjunto1 = {'🍔','🍟'}\n",
    "conjunto2 = {'🍔','🍟'}\n",
    "conjunto3 = {'🍕','🍨'}\n",
    "print (conjunto1, conjunto2, conjunto3)\n",
    "print(conjunto1 <= conjunto2)\n",
    "print(conjunto1 <= conjunto3)"
   ]
  },
  {
   "cell_type": "code",
   "execution_count": 44,
   "id": "0e5d2372",
   "metadata": {},
   "outputs": [
    {
     "name": "stdout",
     "output_type": "stream",
     "text": [
      "Operador >=\n",
      "{'🍟', '🍔'} {'🍟', '🍔'} {'🍨', '🍕'}\n",
      "True\n",
      "False\n"
     ]
    }
   ],
   "source": [
    "print (\"Operador >=\")\n",
    "conjunto1 = {'🍔','🍟'}\n",
    "conjunto2 = {'🍔','🍟'}\n",
    "conjunto3 = {'🍕','🍨'}\n",
    "print (conjunto1, conjunto2, conjunto3)\n",
    "print(conjunto1 >= conjunto2)\n",
    "print(conjunto1 >= conjunto3)"
   ]
  },
  {
   "cell_type": "markdown",
   "id": "9fe4e816",
   "metadata": {},
   "source": [
    "### Operadores para operaciones con conjuntos\n",
    "Los operadores para operaciones con conjuntos permiten realizar operaciones con conjuntos\n",
    "\n",
    "- | : Unión\n",
    "- & : Intersección\n",
    "- - : Diferencia\n",
    "- ^ : Diferencia simétrica"
   ]
  },
  {
   "cell_type": "code",
   "execution_count": 45,
   "id": "219b632e",
   "metadata": {},
   "outputs": [
    {
     "name": "stdout",
     "output_type": "stream",
     "text": [
      "Operador |\n",
      "{'🍔', '🍟', '🥤'} {'🍕', '🍨', '🥤'}\n",
      "{'🍟', '🍕', '🍔', '🍨', '🥤'}\n"
     ]
    }
   ],
   "source": [
    "print (\"Operador |\")\n",
    "conjunto1 = {'🍔','🍟', '🥤'}\n",
    "conjunto2 = {'🍕','🍨','🥤'}\n",
    "print (conjunto1, conjunto2)\n",
    "union = conjunto1 | conjunto2\n",
    "print(union)"
   ]
  },
  {
   "cell_type": "code",
   "execution_count": 46,
   "id": "27285246",
   "metadata": {},
   "outputs": [
    {
     "name": "stdout",
     "output_type": "stream",
     "text": [
      "Operador &\n",
      "{'🍔', '🍟', '🥤'} {'🍕', '🍨', '🥤'}\n",
      "{'🥤'}\n"
     ]
    }
   ],
   "source": [
    "print (\"Operador &\")\n",
    "conjunto1 = {'🍔','🍟', '🥤'}\n",
    "conjunto2 = {'🍕','🍨','🥤'}\n",
    "print (conjunto1, conjunto2)\n",
    "interseccion = conjunto1 & conjunto2\n",
    "print(interseccion)"
   ]
  },
  {
   "cell_type": "code",
   "execution_count": 47,
   "id": "950b0e9f",
   "metadata": {},
   "outputs": [
    {
     "name": "stdout",
     "output_type": "stream",
     "text": [
      "Operador -\n",
      "1: {'🍔', '🍟', '🥤'} 2: {'🍕', '🍨', '🥤'}\n",
      "1 - 2: {'🍟', '🍔'}\n",
      "2 - 1: {'🍨', '🍕'}\n"
     ]
    }
   ],
   "source": [
    "print (\"Operador -\")\n",
    "conjunto1 = {'🍔','🍟', '🥤'}\n",
    "conjunto2 = {'🍕','🍨','🥤'}\n",
    "print (\"1:\",conjunto1, \"2:\",conjunto2)\n",
    "diferencia = conjunto1 - conjunto2\n",
    "print(\"1 - 2:\",diferencia)\n",
    "diferencia = conjunto2 - conjunto1\n",
    "print(\"2 - 1:\",diferencia)"
   ]
  },
  {
   "cell_type": "code",
   "execution_count": 48,
   "id": "46797777",
   "metadata": {},
   "outputs": [
    {
     "name": "stdout",
     "output_type": "stream",
     "text": [
      "Operador ^\n",
      "{'🍔', '🍟', '🥤'} {'🍕', '🍨', '🥤'}\n",
      "{'🍕', '🍟', '🍔', '🍨'}\n"
     ]
    }
   ],
   "source": [
    "print (\"Operador ^\")\n",
    "conjunto1 = {'🍔','🍟', '🥤'}\n",
    "conjunto2 = {'🍕','🍨','🥤'}\n",
    "print (conjunto1, conjunto2)\n",
    "diferencia_simetrica = conjunto1 ^ conjunto2\n",
    "print(diferencia_simetrica)"
   ]
  },
  {
   "cell_type": "markdown",
   "id": "b705b999",
   "metadata": {},
   "source": [
    "### Operadores para asignación con operaciones\n",
    "Los operadores para asignación con operaciones permiten realizar operaciones con conjuntos y asignar el resultado al conjunto inicial\n",
    "\n",
    "- |= : Unión\n",
    "- &= : Intersección\n",
    "- -= : Diferencia\n",
    "- ^= : Diferencia simétrica"
   ]
  },
  {
   "cell_type": "code",
   "execution_count": 49,
   "id": "3dddd0d2",
   "metadata": {},
   "outputs": [
    {
     "name": "stdout",
     "output_type": "stream",
     "text": [
      "Operador |= Unión\n",
      "{'🍔', '🍟', '🥤'} {'🍕', '🍨', '🥤'}\n",
      "{'🍟', '🍕', '🍔', '🍨', '🥤'}\n"
     ]
    }
   ],
   "source": [
    "print (\"Operador |= Unión\")\n",
    "conjunto1 = {'🍔','🍟', '🥤'}\n",
    "conjunto2 = {'🍕','🍨','🥤'}\n",
    "print (conjunto1, conjunto2)\n",
    "conjunto1 |= conjunto2\n",
    "print(conjunto1)"
   ]
  },
  {
   "cell_type": "code",
   "execution_count": 50,
   "id": "549d1be9",
   "metadata": {},
   "outputs": [
    {
     "name": "stdout",
     "output_type": "stream",
     "text": [
      "Operador &= Intersección\n",
      "{'🍔', '🍟', '🥤'} {'🍕', '🍨', '🥤'}\n",
      "{'🥤'}\n"
     ]
    }
   ],
   "source": [
    "print (\"Operador &= Intersección\")\n",
    "conjunto1 = {'🍔','🍟', '🥤'}\n",
    "conjunto2 = {'🍕','🍨','🥤'}\n",
    "print (conjunto1, conjunto2)\n",
    "conjunto1 &= conjunto2\n",
    "print(conjunto1)"
   ]
  },
  {
   "cell_type": "code",
   "execution_count": 51,
   "id": "9eb73453",
   "metadata": {},
   "outputs": [
    {
     "name": "stdout",
     "output_type": "stream",
     "text": [
      "Operador -= Diferencia\n",
      "1: {'🍔', '🍟', '🥤'} 2: {'🍕', '🍨', '🥤'}\n",
      "1 - 2: {'🍔', '🍟'}\n",
      "2 - 1: {'🍕', '🍨'}\n"
     ]
    }
   ],
   "source": [
    "print (\"Operador -= Diferencia\")\n",
    "conjunto1 = {'🍔','🍟', '🥤'}\n",
    "conjunto2 = {'🍕','🍨','🥤'}\n",
    "print (\"1:\",conjunto1, \"2:\",conjunto2)\n",
    "conjunto1 -= conjunto2\n",
    "print(\"1 - 2:\",conjunto1)\n",
    "conjunto1 = {'🍔','🍟', '🥤'}\n",
    "conjunto2 -= conjunto1\n",
    "print(\"2 - 1:\",conjunto2)"
   ]
  },
  {
   "cell_type": "code",
   "execution_count": 52,
   "id": "04190d46",
   "metadata": {},
   "outputs": [
    {
     "name": "stdout",
     "output_type": "stream",
     "text": [
      "Operador ^= Diferencia simétrica\n",
      "{'🍔', '🍟', '🥤'} {'🍕', '🍨', '🥤'}\n",
      "{'🍕', '🍟', '🍔', '🍨'}\n"
     ]
    }
   ],
   "source": [
    "print (\"Operador ^= Diferencia simétrica\")\n",
    "conjunto1 = {'🍔','🍟', '🥤'}\n",
    "conjunto2 = {'🍕','🍨','🥤'}\n",
    "print (conjunto1, conjunto2)\n",
    "conjunto1 ^= conjunto2\n",
    "print(conjunto1)"
   ]
  },
  {
   "cell_type": "markdown",
   "id": "d662e543",
   "metadata": {},
   "source": [
    "## CONJUNTOS INMUTABLES\n",
    "Los conjuntos inmutables son conjuntos que no pueden ser modificados después de su creación\n",
    "\n",
    "En python se declaran utilizando la función frozenset()"
   ]
  },
  {
   "cell_type": "code",
   "execution_count": 53,
   "id": "e9b4c19d",
   "metadata": {},
   "outputs": [
    {
     "name": "stdout",
     "output_type": "stream",
     "text": [
      "frozenset({'🌭', '🥗', '🍕', '🍟', '🍔'})\n",
      "<class 'frozenset'>\n"
     ]
    }
   ],
   "source": [
    "conjunto = frozenset({'🍔','🍕','🥗','🍟','🌭'})\n",
    "print(conjunto)\n",
    "print(type(conjunto))"
   ]
  },
  {
   "cell_type": "code",
   "execution_count": 54,
   "id": "37d2aec7",
   "metadata": {},
   "outputs": [
    {
     "ename": "SyntaxError",
     "evalue": "invalid syntax (799346520.py, line 9)",
     "output_type": "error",
     "traceback": [
      "  \u001b[36mCell\u001b[39m\u001b[36m \u001b[39m\u001b[32mIn[54]\u001b[39m\u001b[32m, line 9\u001b[39m\n\u001b[31m    \u001b[39m\u001b[31mprint(conjunto |= {6}) # SyntaxError: invalid syntax\u001b[39m\n                   ^\n\u001b[31mSyntaxError\u001b[39m\u001b[31m:\u001b[39m invalid syntax\n"
     ]
    }
   ],
   "source": [
    "conjunto = frozenset({1, 2, 3, 4, 5})\n",
    "print(conjunto)\n",
    "print(conjunto.add(6)) # AttributeError: 'frozenset' object has no attribute 'add'\n",
    "print(conjunto.remove(1)) # AttributeError: 'frozenset' object has no attribute 'remove'\n",
    "conjunto = frozenset({1, 2, 3, 4, 5})\n",
    "print(conjunto)\n",
    "print(conjunto.add(6)) # AttributeError: 'frozenset' object has no attribute 'add'\n",
    "print(conjunto.remove(1)) # AttributeError: 'frozenset' object has no attribute 'remove'\n",
    "print(conjunto |= {6}) # SyntaxError: invalid syntax"
   ]
  },
  {
   "cell_type": "markdown",
   "id": "bb04cf9a",
   "metadata": {},
   "source": [
    "## CONJUNTOS ANIDADOS\n",
    "Los conjuntos anidados son conjuntos que contienen otros conjuntos pero tienen que ser inmutables para ser anidados"
   ]
  },
  {
   "cell_type": "code",
   "execution_count": 55,
   "id": "0fa4df54",
   "metadata": {},
   "outputs": [
    {
     "name": "stdout",
     "output_type": "stream",
     "text": [
      "Conjunto de conjuntos\n",
      "{frozenset({'🍈', '🍏', '🍐'}), frozenset({'🍓', '🍅', '🍎'})}\n",
      "<class 'set'>\n"
     ]
    }
   ],
   "source": [
    "print (\"Conjunto de conjuntos\")\n",
    "conjunto = {frozenset({'🍅','🍓','🍎'}), frozenset({'🍈','🍐','🍏'})}\n",
    "print(conjunto)\n",
    "print(type(conjunto))"
   ]
  },
  {
   "cell_type": "code",
   "execution_count": 56,
   "id": "e4bf6b12",
   "metadata": {},
   "outputs": [
    {
     "name": "stdout",
     "output_type": "stream",
     "text": [
      "Conjunto de conjuntos\n"
     ]
    },
    {
     "ename": "TypeError",
     "evalue": "unhashable type: 'set'",
     "output_type": "error",
     "traceback": [
      "\u001b[31m---------------------------------------------------------------------------\u001b[39m",
      "\u001b[31mTypeError\u001b[39m                                 Traceback (most recent call last)",
      "\u001b[36mCell\u001b[39m\u001b[36m \u001b[39m\u001b[32mIn[56]\u001b[39m\u001b[32m, line 2\u001b[39m\n\u001b[32m      1\u001b[39m \u001b[38;5;28mprint\u001b[39m (\u001b[33m\"\u001b[39m\u001b[33mConjunto de conjuntos\u001b[39m\u001b[33m\"\u001b[39m)\n\u001b[32m----> \u001b[39m\u001b[32m2\u001b[39m conjunto = {{\u001b[33m'\u001b[39m\u001b[33m🍅\u001b[39m\u001b[33m'\u001b[39m,\u001b[33m'\u001b[39m\u001b[33m🍓\u001b[39m\u001b[33m'\u001b[39m,\u001b[33m'\u001b[39m\u001b[33m🍎\u001b[39m\u001b[33m'\u001b[39m}, {\u001b[33m'\u001b[39m\u001b[33m🍈\u001b[39m\u001b[33m'\u001b[39m,\u001b[33m'\u001b[39m\u001b[33m🍐\u001b[39m\u001b[33m'\u001b[39m,\u001b[33m'\u001b[39m\u001b[33m🍏\u001b[39m\u001b[33m'\u001b[39m}} \u001b[38;5;66;03m#TypeError: unhashable type: 'set'\u001b[39;00m\n\u001b[32m      3\u001b[39m \u001b[38;5;28mprint\u001b[39m(conjunto)\n\u001b[32m      4\u001b[39m \u001b[38;5;28mprint\u001b[39m(\u001b[38;5;28mtype\u001b[39m(conjunto))\n",
      "\u001b[31mTypeError\u001b[39m: unhashable type: 'set'"
     ]
    }
   ],
   "source": [
    "print (\"Conjunto de conjuntos\")\n",
    "conjunto = {{'🍅','🍓','🍎'}, {'🍈','🍐','🍏'}} #TypeError: unhashable type: 'set'\n",
    "print(conjunto)\n",
    "print(type(conjunto))"
   ]
  }
 ],
 "metadata": {
  "kernelspec": {
   "display_name": "Python 3",
   "language": "python",
   "name": "python3"
  },
  "language_info": {
   "codemirror_mode": {
    "name": "ipython",
    "version": 3
   },
   "file_extension": ".py",
   "mimetype": "text/x-python",
   "name": "python",
   "nbconvert_exporter": "python",
   "pygments_lexer": "ipython3",
   "version": "3.13.3"
  }
 },
 "nbformat": 4,
 "nbformat_minor": 5
}
