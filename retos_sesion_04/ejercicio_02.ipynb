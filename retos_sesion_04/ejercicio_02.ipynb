{
 "cells": [
  {
   "cell_type": "markdown",
   "id": "7e2f9585",
   "metadata": {},
   "source": [
    "# Ejercicio 2\n",
    "## Crear una imagen de un buho\n",
    "En este ejercicio vamos crear una imagen utilizado simbolos y signos dentro del python\n",
    "Se utilizaran los signos de ( ) o | _ \" y otros para representar la imagen de un buho en el python"
   ]
  },
  {
   "cell_type": "code",
   "execution_count": 12,
   "id": "62638c0d",
   "metadata": {},
   "outputs": [
    {
     "name": "stdout",
     "output_type": "stream",
     "text": [
      "        ^__^\n",
      "        (o,o)\n",
      "        |)__)\n",
      "        -\"-\"-\n"
     ]
    }
   ],
   "source": [
    "print(\"        ^__^\")\n",
    "print(\"        (o,o)\")\n",
    "print(\"        |)__)\")\n",
    "print(\"        -\\\"-\\\"-\")\n"
   ]
  }
 ],
 "metadata": {
  "kernelspec": {
   "display_name": "Python 3",
   "language": "python",
   "name": "python3"
  },
  "language_info": {
   "codemirror_mode": {
    "name": "ipython",
    "version": 3
   },
   "file_extension": ".py",
   "mimetype": "text/x-python",
   "name": "python",
   "nbconvert_exporter": "python",
   "pygments_lexer": "ipython3",
   "version": "3.13.3"
  }
 },
 "nbformat": 4,
 "nbformat_minor": 5
}
