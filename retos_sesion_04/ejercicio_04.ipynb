{
 "cells": [
  {
   "cell_type": "markdown",
   "id": "c25fe42e",
   "metadata": {},
   "source": [
    "# **A PATA AL ILLIMANI**\n",
    "\n",
    "El juego **A PATA AL ILLIMANI** es una competencia con amigos para se el primero en llegar al Illimani, para hacerlo te enfrentaras en el tablero con varios problemas tipicos paceños, como bloqueos, Avanzaras las casiilas tirando un dado, pero cuidado encontraras obstaculos y tambien encontraras ayudas que te ayudaran a avanzar mas rapido. El primero en pisar el Illimani gana la partuida. \n"
   ]
  },
  {
   "cell_type": "markdown",
   "id": "824586c3",
   "metadata": {},
   "source": [
    "## REGLAS DEL JUEGO\n",
    "### Objetivo del juego:\n",
    "\n",
    "Ser el primero en llegar a la cima del Illimani avanzando por las casillas del tablero.\n",
    "\n",
    "### Cómo jugar:\n",
    "\n",
    "Cada jugador lanza un dado y avanza el número de casillas correspondiente al resultado del dado.\n",
    "\n",
    "Si un jugador cae en una casilla especial, debe seguir la instrucción indicada.\n",
    "\n",
    "#### Casillas especiales:\n",
    "- 🚗 Casilla con auto (Gasolina): Has conseguido gasolina y avanzas 5 casillas directamente.\n",
    "- 🚶‍♂️ Casilla con mucha gente (Bloqueo): Te encontraste con un bloqueo y pierdes tu turno en la siguiente tirada.\n",
    "- 🛒 Casilla con fila (Fila Eterna): Llegaste a la fila y debes retroceder 8 casillas.\n",
    "- 🏞️ Casilla con paisaje (Mirador de La Paz): Te distraes con la vista y pierdes un turno.\n",
    "- 💦 Casilla con lluvia (Chubasco Paceño): Resbalaste y retrocedes 3 casillas.\n",
    "- ⛺ Casilla con campamento (Refugio Andino): Descansas y avanzas 2 casillas.\n",
    "- 🛤️ Casilla con atajo (Sendero Secreto): Encuentras un sendero oculto y avanzas 6 casillas."
   ]
  },
  {
   "cell_type": "code",
   "execution_count": 3,
   "id": "fb328a55",
   "metadata": {},
   "outputs": [
    {
     "name": "stdout",
     "output_type": "stream",
     "text": [
      "  1  |  2  |  3  | 🚗 |  5 \n",
      "-----------------------------\n",
      " 🚶  |  7  |  8  |  9  | 🛒 \n",
      "-----------------------------\n",
      " 11  | 🏞️  | 13  | 💦 | 15 \n",
      "-----------------------------\n",
      "  🏞️ | 17  | 18  | 19  | 🚗 \n",
      "-----------------------------\n",
      " 21  | ⛺  | 23  | 24  | 🛤️ \n",
      "-----------------------------\n",
      " 26  | 27  | 28  | 29  | 🏁 \n",
      "-----------------------------\n"
     ]
    }
   ],
   "source": [
    "\n",
    "\n",
    "print(\"  1  |  2  |  3  | 🚗 |  5 \")\n",
    "print(\"-----------------------------\")\n",
    "print(\" 🚶  |  7  |  8  |  9  | 🛒 \")\n",
    "print(\"-----------------------------\")\n",
    "print(\" 11  | 🏞️  | 13  | 💦 | 15 \")\n",
    "print(\"-----------------------------\")\n",
    "print(\"  🏞️ | 17  | 18  | 19  | 🚗 \")\n",
    "print(\"-----------------------------\")\n",
    "print(\" 21  | ⛺  | 23  | 24  | 🛤️ \")\n",
    "print(\"-----------------------------\")\n",
    "print(\" 26  | 27  | 28  | 29  | 🏁 \")\n",
    "print(\"-----------------------------\")\n",
    "\n"
   ]
  },
  {
   "cell_type": "markdown",
   "id": "9c57bd8c",
   "metadata": {},
   "source": [
    "### PIEZAS PARA JUGAR\n",
    "\n",
    "Para jugar solo se tendran 4 piezas:\n",
    "\n",
    "- 1 pieza seria una persona con un gorro tipico\n",
    "- 1 pieza que es una llama andina\n",
    "- 1 pieza que es un Micro tipico de La Paz\n",
    "- 1 pieza que es un anticucho (plato tipico de la Paz)"
   ]
  },
  {
   "cell_type": "code",
   "execution_count": 7,
   "id": "71a8bafc",
   "metadata": {},
   "outputs": [
    {
     "name": "stdout",
     "output_type": "stream",
     "text": [
      "Jugador 1 (Persona):\n",
      "  /^\\ \n",
      " /   \\ \n",
      "   O  \n",
      "  /|\\ \n",
      "  / \\ \n",
      "\n",
      "Llama:\n",
      " /^-^\\ \n",
      "( o o )\n",
      " | | | \n",
      "\n",
      "Micro\n",
      "        ________________________________\n",
      "       /|     VILLA FÁTIMA              |\n",
      " ____ /_|_______________________________|\n",
      "|  __| |  []  []  []  []  []  []  []    |\n",
      "| |__|_|________________________________|\n",
      "   (O)                            (o)\n",
      "\n",
      "Anticucho:\n",
      "  ~ \n",
      "  ~ \n",
      " (o) \n",
      "  |  \n",
      "  |  \n"
     ]
    }
   ],
   "source": [
    "print(\"Jugador 1 (Persona):\")\n",
    "print(\"  /^\\\\ \")\n",
    "print(\" /   \\\\ \")\n",
    "print(\"   O  \")\n",
    "print(\"  /|\\\\ \")\n",
    "print(\"  / \\\\ \")\n",
    "\n",
    "\n",
    "print(\"\\nLlama:\")\n",
    "print(\" /^-^\\\\ \")\n",
    "print(\"( o o )\")\n",
    "print(\" | | | \")\n",
    "\n",
    "print('\\nMicro')\n",
    "print(\"        ________________________________\")\n",
    "print(\"       /|     VILLA FÁTIMA              |\")\n",
    "print(\" ____ /_|_______________________________|\")\n",
    "print(\"|  __| |  []  []  []  []  []  []  []    |\")\n",
    "print(\"| |__|_|________________________________|\")\n",
    "print(\"   (O)                            (o)\")\n",
    "\n",
    "\n",
    "print(\"\\nAnticucho:\")\n",
    "print(\"  ~ \")\n",
    "print(\"  ~ \")\n",
    "print(\" (o) \")\n",
    "print(\"  |  \")\n",
    "print(\"  |  \")\n"
   ]
  }
 ],
 "metadata": {
  "kernelspec": {
   "display_name": "Python 3",
   "language": "python",
   "name": "python3"
  },
  "language_info": {
   "codemirror_mode": {
    "name": "ipython",
    "version": 3
   },
   "file_extension": ".py",
   "mimetype": "text/x-python",
   "name": "python",
   "nbconvert_exporter": "python",
   "pygments_lexer": "ipython3",
   "version": "3.13.3"
  }
 },
 "nbformat": 4,
 "nbformat_minor": 5
}
