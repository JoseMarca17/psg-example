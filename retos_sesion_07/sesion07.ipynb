{
 "cells": [
  {
   "cell_type": "markdown",
   "id": "95ae1bdc",
   "metadata": {},
   "source": [
    "# TIPOS DE DATOS **CADENAS**\n",
    "La cadena es una secuencia de caracteres, en python esta representado por el metodo ***string***"
   ]
  },
  {
   "cell_type": "markdown",
   "id": "8f98c232",
   "metadata": {},
   "source": [
    "## Como se declaran y se imprimen las cadenas "
   ]
  },
  {
   "cell_type": "code",
   "execution_count": 1,
   "id": "237c96c1",
   "metadata": {},
   "outputs": [
    {
     "name": "stdout",
     "output_type": "stream",
     "text": [
      "Mi cadena permite comillas \"dobles\" en una sola línea\n",
      "Mi cadena permite comillas 'simples' en una sola línea\n",
      "Mi cadena\n",
      "permite contenido \n",
      "en varias líneas y comillas \"dobles\" \n",
      "Mi cadena\n",
      "permite contenido \n",
      "en varias líneas y comillas 'simples' \n"
     ]
    }
   ],
   "source": [
    "simple = 'Mi cadena permite comillas \"dobles\" en una sola línea'\n",
    "doble  = \"Mi cadena permite comillas 'simples' en una sola línea\"\n",
    "triple_simple = '''Mi cadena\n",
    "permite contenido \n",
    "en varias líneas y comillas \"dobles\" '''\n",
    "triple_doble = \"\"\"Mi cadena\n",
    "permite contenido \n",
    "en varias líneas y comillas 'simples' \"\"\"\n",
    "print (simple)\n",
    "print (doble)\n",
    "print (triple_simple)\n",
    "print (triple_doble)"
   ]
  },
  {
   "cell_type": "markdown",
   "id": "bb210d5d",
   "metadata": {},
   "source": [
    "Tambien utilizando un metodo ***str*** retorna otro tipo de dato en formato de cadena de caracteres"
   ]
  },
  {
   "cell_type": "code",
   "execution_count": 2,
   "id": "b0a8a5f3",
   "metadata": {},
   "outputs": [
    {
     "name": "stdout",
     "output_type": "stream",
     "text": [
      "1\n",
      "0.001\n",
      "10\n",
      "True\n",
      "<class 'str'>\n",
      "<class 'str'>\n",
      "<class 'str'>\n",
      "<class 'str'>\n"
     ]
    }
   ],
   "source": [
    "entero = str(1)\n",
    "flotante = str(1E-3)\n",
    "hexadecimal = str(0xA)\n",
    "booleano = str (True)\n",
    "print (entero)\n",
    "print (flotante)\n",
    "print (hexadecimal)\n",
    "print (booleano)\n",
    "print (type(entero))\n",
    "print (type(flotante))\n",
    "print (type(hexadecimal))\n",
    "print (type(booleano))"
   ]
  },
  {
   "cell_type": "markdown",
   "id": "3cca1b66",
   "metadata": {},
   "source": [
    "Vamos a escapar los caracteres especiales internos las comillas dobles y la comilla simple"
   ]
  },
  {
   "cell_type": "code",
   "execution_count": 3,
   "id": "ebb97b1b",
   "metadata": {},
   "outputs": [
    {
     "name": "stdout",
     "output_type": "stream",
     "text": [
      "El mensaje enviado fue: \"Hello, I'm a message\"\n",
      "El mensaje enviado fue: \"Hello, I'm a message\"\n"
     ]
    }
   ],
   "source": [
    "print (\"El mensaje enviado fue: \\\"Hello, I\\'m a message\\\"\")\n",
    "print ('El mensaje enviado fue: \\\"Hello, I\\'m a message\\\"')"
   ]
  },
  {
   "cell_type": "markdown",
   "id": "ad83e197",
   "metadata": {},
   "source": [
    "\\v : Agrega el carácter ASCII (VT) que representa una tabulación vertical\n",
    "\\b : Agrega el carácter ASCII (BS) que representa un retroceso\n",
    "\\ : Agrega el carácter de backslash o barra invertida\n",
    "\\ <newline> : Agrega un salto de línea en el código pero no en la impresión"
   ]
  },
  {
   "cell_type": "code",
   "execution_count": 4,
   "id": "1f587af8",
   "metadata": {},
   "outputs": [
    {
     "name": "stdout",
     "output_type": "stream",
     "text": [
      "Hola,\n",
      "\teste es un mensaje \u000bcon algunos caracteres especiales como \\ y tabulador.\n"
     ]
    }
   ],
   "source": [
    "mensaje = \"Hola,\\n\\teste es un mensaje \\vcon algunos caracteres \\\n",
    "especiales como \\\\ y tabulador.\"\n",
    "print(mensaje)\n"
   ]
  },
  {
   "cell_type": "markdown",
   "id": "d5819b24",
   "metadata": {},
   "source": [
    "## El método \"input\" nos permite ingresar contenido al programa y es procesado como una cadena"
   ]
  },
  {
   "cell_type": "code",
   "execution_count": 5,
   "id": "2b4b3659",
   "metadata": {},
   "outputs": [
    {
     "name": "stdout",
     "output_type": "stream",
     "text": [
      "\n",
      "<class 'str'>\n"
     ]
    }
   ],
   "source": [
    "entrada = input(\"Ingrese un valor: \")\n",
    "print (entrada)\n",
    "print (type(entrada))\n"
   ]
  },
  {
   "cell_type": "markdown",
   "id": "1db0225e",
   "metadata": {},
   "source": [
    "Cuando introducimos por teclado y es procesado por una cadena puede ser convertido a diferentes tipos como enteros, flotantes, booleanos"
   ]
  },
  {
   "cell_type": "code",
   "execution_count": 6,
   "id": "7e84c163",
   "metadata": {},
   "outputs": [
    {
     "name": "stdout",
     "output_type": "stream",
     "text": [
      "1 <class 'int'>\n",
      "1.0 <class 'float'>\n",
      "True <class 'bool'>\n"
     ]
    }
   ],
   "source": [
    "entero = int(input(\"Ingrese un valor entero: \"))\n",
    "print (entero, type(entero))\n",
    "\n",
    "flotante = float(input(\"Ingrese un valor flotante: \"))\n",
    "print (flotante, type(flotante))\n",
    "\n",
    "booleano = bool(input(\"Ingrese un valor booleano: \"))\n",
    "print (booleano, type(booleano))"
   ]
  },
  {
   "cell_type": "markdown",
   "id": "26eb9256",
   "metadata": {},
   "source": [
    "## MANEJO DE INDICES "
   ]
  },
  {
   "cell_type": "code",
   "execution_count": 7,
   "id": "1eaac5cd",
   "metadata": {},
   "outputs": [
    {
     "name": "stdout",
     "output_type": "stream",
     "text": [
      "Indexado positivo\n",
      "banana\n",
      "b\n",
      "a\n"
     ]
    }
   ],
   "source": [
    "print (\"Indexado positivo\")\n",
    "fruta = \"banana\"\n",
    "print (fruta)\n",
    "print (fruta[0])\n",
    "print (fruta[5])"
   ]
  },
  {
   "cell_type": "code",
   "execution_count": 8,
   "id": "e4de34a2",
   "metadata": {},
   "outputs": [
    {
     "name": "stdout",
     "output_type": "stream",
     "text": [
      "Indexado negativo\n",
      "banana\n",
      "a\n",
      "a\n"
     ]
    }
   ],
   "source": [
    "print (\"Indexado negativo\")\n",
    "fruta = \"banana\"\n",
    "print (fruta)\n",
    "print (fruta[-1])\n",
    "print (fruta[-3])"
   ]
  },
  {
   "cell_type": "markdown",
   "id": "08a7902f",
   "metadata": {},
   "source": [
    "## SEGMENTACION O SLICING "
   ]
  },
  {
   "cell_type": "code",
   "execution_count": 9,
   "id": "d3f99474",
   "metadata": {},
   "outputs": [
    {
     "name": "stdout",
     "output_type": "stream",
     "text": [
      "Slicing\n",
      "LaPaz-Bolivia\n",
      "\n",
      "Slicing con índices positivos\n",
      "LaPaz-\n",
      "LPz\n",
      "\n",
      " Slicing con índices negativos\n",
      "az-Boliv\n",
      "a-oi\n",
      "\n",
      "Slicing sin índice inicial y final\n",
      "LaPaz-\n",
      "Bolivia\n",
      "\n",
      "Slicing sin índice inicial ni final\n",
      "LaPaz-Bolivia\n",
      "LPzBlva\n",
      "\n",
      "Slicing sin índice inicial y final\n",
      "LaPaz-\n",
      "Bolivia\n",
      "\n",
      "Slicing sin índice inicial ni final\n",
      "LaPaz-Bolivia\n",
      "LPzBlva\n",
      "\n",
      "Slicing sin índice inicial y final\n",
      "LaPaz-\n",
      "Bolivia\n",
      "\n",
      "Slicing sin índice inicial ni final\n",
      "LaPaz-Bolivia\n",
      "LPzBlva\n",
      "\n",
      "Slicing sin índice inicial y final\n",
      "LaPaz-\n",
      "Bolivia\n",
      "\n",
      "Slicing sin índice inicial ni final\n",
      "LaPaz-Bolivia\n",
      "LPzBlva\n",
      "\n",
      "Slicing sin índice inicial y final\n",
      "LaPaz-\n",
      "Bolivia\n",
      "\n",
      "Slicing sin índice inicial ni final\n",
      "LaPaz-Bolivia\n",
      "LPzBlva\n",
      "\n",
      "Slicing con paso negativo\n",
      "viloB-\n",
      "vlBzPL\n"
     ]
    }
   ],
   "source": [
    "print (\"Slicing\")\n",
    "ciudad =  \"LaPaz-Bolivia\"\n",
    "print (ciudad)\n",
    "print (\"\\nSlicing con índices positivos\")\n",
    "print (ciudad[0:6])\n",
    "print (ciudad[0:6:2])\n",
    "print (\"\\n Slicing con índices negativos\")\n",
    "print (ciudad[-10:-2])\n",
    "print (ciudad[-10:-2:2])\n",
    "print (\"\\nSlicing sin índice inicial y final\")\n",
    "print (ciudad[:6])\n",
    "print (ciudad[6:])\n",
    "print (\"\\nSlicing sin índice inicial ni final\")\n",
    "print (ciudad[:])\n",
    "print (ciudad[::2])\n",
    "print (\"\\nSlicing sin índice inicial y final\")\n",
    "print (ciudad[:6])\n",
    "print (ciudad[6:])\n",
    "print (\"\\nSlicing sin índice inicial ni final\")\n",
    "print (ciudad[:])\n",
    "print (ciudad[::2])\n",
    "print (\"\\nSlicing sin índice inicial y final\")\n",
    "print (ciudad[:6])\n",
    "print (ciudad[6:])\n",
    "print (\"\\nSlicing sin índice inicial ni final\")\n",
    "print (ciudad[:])\n",
    "print (ciudad[::2])\n",
    "print (\"\\nSlicing sin índice inicial y final\")\n",
    "print (ciudad[:6])\n",
    "\n",
    "print (ciudad[6:])\n",
    "print (\"\\nSlicing sin índice inicial ni final\")\n",
    "print (ciudad[:])\n",
    "print (ciudad[::2])\n",
    "print (\"\\nSlicing sin índice inicial y final\")\n",
    "print (ciudad[:6])\n",
    "print (ciudad[6:])\n",
    "print (\"\\nSlicing sin índice inicial ni final\")\n",
    "print (ciudad[:])\n",
    "print (ciudad[::2])\n",
    "print (\"\\nSlicing con paso negativo\")\n",
    "print (ciudad[10:4:-1])\n",
    "print (ciudad[10::-2])"
   ]
  },
  {
   "cell_type": "markdown",
   "id": "d0d487c6",
   "metadata": {},
   "source": [
    "## CONCATENACION DE UNA CADENA "
   ]
  },
  {
   "cell_type": "code",
   "execution_count": 10,
   "id": "be82a667",
   "metadata": {},
   "outputs": [
    {
     "name": "stdout",
     "output_type": "stream",
     "text": [
      "Concatenación de cadenas\n",
      "Hola Mundo\n"
     ]
    }
   ],
   "source": [
    "print (\"Concatenación de cadenas\")\n",
    "cadena1 = \"Hola\"\n",
    "cadena2 = \"Mundo\"\n",
    "concatenada = cadena1 + \" \" + cadena2\n",
    "print (concatenada)"
   ]
  },
  {
   "cell_type": "markdown",
   "id": "2004dd38",
   "metadata": {},
   "source": [
    "## REPETICION DE UNA CADENA "
   ]
  },
  {
   "cell_type": "code",
   "execution_count": 11,
   "id": "b588776f",
   "metadata": {},
   "outputs": [
    {
     "name": "stdout",
     "output_type": "stream",
     "text": [
      "Repetición de cadenas\n",
      "-#--#--#--#--#--#--#--#--#--#-\n"
     ]
    }
   ],
   "source": [
    "print (\"Repetición de cadenas\")\n",
    "cadena = \"-#-\"\n",
    "repetida = cadena * 10\n",
    "print (repetida)"
   ]
  },
  {
   "cell_type": "markdown",
   "id": "2b3a283c",
   "metadata": {},
   "source": [
    "## LONGITUD DE UNA CADENA "
   ]
  },
  {
   "cell_type": "code",
   "execution_count": 12,
   "id": "e0705b5c",
   "metadata": {},
   "outputs": [
    {
     "name": "stdout",
     "output_type": "stream",
     "text": [
      "Longitud de una cadena\n",
      "Hola Mundo :D\n",
      "13 <class 'int'>\n"
     ]
    }
   ],
   "source": [
    "print (\"Longitud de una cadena\")\n",
    "cadena = \"Hola Mundo :D\"\n",
    "longitud = len(cadena)\n",
    "print (cadena)\n",
    "print (longitud, type(longitud))\n"
   ]
  },
  {
   "cell_type": "markdown",
   "id": "2d3f60d5",
   "metadata": {},
   "source": [
    "## ***METODOS DE CADENAS***"
   ]
  },
  {
   "cell_type": "code",
   "execution_count": 13,
   "id": "42ee3655",
   "metadata": {},
   "outputs": [
    {
     "name": "stdout",
     "output_type": "stream",
     "text": [
      "Función Upper\n",
      "cadena Inicial #1\n",
      "CADENA INICIAL #1\n"
     ]
    }
   ],
   "source": [
    "print (\"Función Upper\")\n",
    "cadena = \"cadena Inicial #1\"\n",
    "mayuscula  = cadena.upper()\n",
    "print (cadena)\n",
    "print (mayuscula)"
   ]
  },
  {
   "cell_type": "code",
   "execution_count": 14,
   "id": "afcff3f0",
   "metadata": {},
   "outputs": [
    {
     "name": "stdout",
     "output_type": "stream",
     "text": [
      "Función Lower\n",
      "Cadena INICIAL #2\n",
      "cadena inicial #2\n"
     ]
    }
   ],
   "source": [
    "print (\"Función Lower\")\n",
    "cadena = \"Cadena INICIAL #2\"\n",
    "minuscula  = cadena.lower()\n",
    "print (cadena)\n",
    "print (minuscula)"
   ]
  },
  {
   "cell_type": "code",
   "execution_count": 15,
   "id": "cad99de3",
   "metadata": {},
   "outputs": [
    {
     "name": "stdout",
     "output_type": "stream",
     "text": [
      "Función Capitalize\n",
      "cadena INICIAL #3\n",
      "Cadena inicial #3\n"
     ]
    }
   ],
   "source": [
    "print (\"Función Capitalize\")\n",
    "cadena = \"cadena INICIAL #3\"\n",
    "capital = cadena.capitalize()\n",
    "print (cadena)\n",
    "print (capital)"
   ]
  },
  {
   "cell_type": "code",
   "execution_count": 16,
   "id": "2224f186",
   "metadata": {},
   "outputs": [
    {
     "name": "stdout",
     "output_type": "stream",
     "text": [
      "Función Title\n",
      "CADENA inicial #4\n",
      "Cadena Inicial #4\n"
     ]
    }
   ],
   "source": [
    "print (\"Función Title\")\n",
    "cadena = \"CADENA inicial #4\"\n",
    "titulo = cadena.title()\n",
    "print (cadena)\n",
    "print (titulo)"
   ]
  },
  {
   "cell_type": "code",
   "execution_count": 17,
   "id": "d1bc12f9",
   "metadata": {},
   "outputs": [
    {
     "name": "stdout",
     "output_type": "stream",
     "text": [
      "Función Swapcase\n",
      "CADena InIcIaL #5\n",
      "cadENA iNiCiAl #5\n"
     ]
    }
   ],
   "source": [
    "print (\"Función Swapcase\")\n",
    "cadena = \"CADena InIcIaL #5\"\n",
    "swap = cadena.swapcase()\n",
    "print (cadena)\n",
    "print (swap)"
   ]
  },
  {
   "cell_type": "markdown",
   "id": "00fdc58c",
   "metadata": {},
   "source": [
    "Funcion para contar las veces que se repite un valor"
   ]
  },
  {
   "cell_type": "code",
   "execution_count": 18,
   "id": "7da56131",
   "metadata": {},
   "outputs": [
    {
     "name": "stdout",
     "output_type": "stream",
     "text": [
      "Función Count\n",
      "Cantidad de veces la letra A\n",
      "4 <class 'int'>\n"
     ]
    }
   ],
   "source": [
    "print (\"Función Count\")\n",
    "cadena = \"Cantidad de veces la letra A\"\n",
    "contar = cadena.count(\"a\")\n",
    "print(cadena)\n",
    "print(contar, type(contar))\n"
   ]
  },
  {
   "cell_type": "markdown",
   "id": "38ca4400",
   "metadata": {},
   "source": [
    "Funciones para encontrar valores en la cadena"
   ]
  },
  {
   "cell_type": "code",
   "execution_count": 19,
   "id": "8c98c013",
   "metadata": {},
   "outputs": [
    {
     "name": "stdout",
     "output_type": "stream",
     "text": [
      "Función Find\n",
      "Encontrar las letras las\n",
      "10 <class 'int'>\n"
     ]
    }
   ],
   "source": [
    "print (\"Función Find\")\n",
    "cadena = \"Encontrar las letras las\"\n",
    "buscar = cadena.find(\"las\")\n",
    "print(cadena)\n",
    "print(buscar, type(buscar))"
   ]
  },
  {
   "cell_type": "code",
   "execution_count": 20,
   "id": "f99f2163",
   "metadata": {},
   "outputs": [
    {
     "name": "stdout",
     "output_type": "stream",
     "text": [
      "Función Rfind\n",
      "Encontrar las letras las\n",
      "21 <class 'int'>\n"
     ]
    }
   ],
   "source": [
    "print (\"Función Rfind\")\n",
    "cadena = \"Encontrar las letras las\"\n",
    "buscar = cadena.rfind(\"las\")\n",
    "print(cadena)\n",
    "print(buscar, type(buscar))"
   ]
  },
  {
   "cell_type": "code",
   "execution_count": 21,
   "id": "4363b8cf",
   "metadata": {},
   "outputs": [
    {
     "name": "stdout",
     "output_type": "stream",
     "text": [
      "Función Find y Rfind\n",
      "Encontrar tres O\n",
      "-1 <class 'int'>\n",
      "-1 <class 'int'>\n"
     ]
    }
   ],
   "source": [
    "print (\"Función Find y Rfind\")\n",
    "cadena = \"Encontrar tres O\"\n",
    "buscar = cadena.find(\"OOO\")\n",
    "print(cadena)\n",
    "print(buscar, type(buscar))\n",
    "buscar = cadena.rfind(\"OOO\")\n",
    "print(buscar, type(buscar))"
   ]
  },
  {
   "cell_type": "markdown",
   "id": "e38b4a46",
   "metadata": {},
   "source": [
    "Funciones para ver si una cadena contiene solo numero, solo caracteres alfabeticos o mixtos."
   ]
  },
  {
   "cell_type": "code",
   "execution_count": 22,
   "id": "9ea5d355",
   "metadata": {},
   "outputs": [
    {
     "name": "stdout",
     "output_type": "stream",
     "text": [
      "Función isdigit\n",
      "True <class 'bool'>\n",
      "Función isalpha\n",
      "True <class 'bool'>\n",
      "Función isalnum\n",
      "True <class 'bool'>\n"
     ]
    }
   ],
   "source": [
    "print (\"Función isdigit\")\n",
    "resultado = \"100\".isdigit()\n",
    "print (resultado, type(resultado))\n",
    "print (\"Función isalpha\")\n",
    "resultado = \"Hola\".isalpha()\n",
    "print (resultado, type(resultado))\n",
    "print (\"Función isalnum\")\n",
    "resultado = \"usuario123\".isalnum()\n",
    "print (resultado, type(resultado))\n"
   ]
  },
  {
   "cell_type": "markdown",
   "id": "05cdfb3d",
   "metadata": {},
   "source": [
    "Funcion para separa cadenas"
   ]
  },
  {
   "cell_type": "code",
   "execution_count": 23,
   "id": "c9738110",
   "metadata": {},
   "outputs": [
    {
     "name": "stdout",
     "output_type": "stream",
     "text": [
      "Función split\n",
      "pan,carne,huevos\n",
      "['pan', 'carne', 'huevos'] <class 'list'>\n"
     ]
    }
   ],
   "source": [
    "print (\"Función split\")\n",
    "cadena = \"pan,carne,huevos\"\n",
    "separado = cadena.split(\",\")\n",
    "print (cadena)\n",
    "print (separado, type(separado))"
   ]
  },
  {
   "cell_type": "markdown",
   "id": "9afb2e5f",
   "metadata": {},
   "source": [
    "Metodo para retornar una copia de una cadena en la cual concatena la cadena con el contenido de otra cadena"
   ]
  },
  {
   "cell_type": "code",
   "execution_count": 24,
   "id": "bbfd4013",
   "metadata": {},
   "outputs": [
    {
     "name": "stdout",
     "output_type": "stream",
     "text": [
      "Función join\n",
      "abcdefghij\n",
      "a-b-c-d-e-f-g-h-i-j\n"
     ]
    }
   ],
   "source": [
    "print (\"Función join\")\n",
    "cadena = \"abcdefghij\"\n",
    "unido = \"-\".join(cadena)\n",
    "print (cadena)\n",
    "print (unido)"
   ]
  },
  {
   "cell_type": "markdown",
   "id": "3b9306f1",
   "metadata": {},
   "source": [
    "Remueve los caracteres la izquierda y a la derecha de la cadena"
   ]
  },
  {
   "cell_type": "code",
   "execution_count": 25,
   "id": "cec80ae5",
   "metadata": {},
   "outputs": [
    {
     "name": "stdout",
     "output_type": "stream",
     "text": [
      "Función strip\n",
      "      Hola    Mundo     \n",
      "Hola    Mundo\n",
      "-abc--def-ghi-cba----\n",
      "def-ghi\n"
     ]
    }
   ],
   "source": [
    "print (\"Función strip\")\n",
    "cadena = \"      Hola    Mundo     \"\n",
    "limpio = cadena.strip()\n",
    "print (cadena)\n",
    "print (limpio)\n",
    "cadena = \"-abc--def-ghi-cba----\"\n",
    "limpio = cadena.strip(\"bac-\")\n",
    "print (cadena)\n",
    "print (limpio)"
   ]
  },
  {
   "cell_type": "code",
   "execution_count": 26,
   "id": "676df02e",
   "metadata": {},
   "outputs": [
    {
     "name": "stdout",
     "output_type": "stream",
     "text": [
      "Función replace\n",
      "Me gusta programar en JS, Amo JS\n",
      "Me gusta programar en Python, Amo Python\n"
     ]
    }
   ],
   "source": [
    "print (\"Función replace\")\n",
    "cadena = \"Me gusta programar en JS, Amo JS\"\n",
    "reemplazado = cadena.replace(\"JS\", \"Python\")\n",
    "print (cadena)\n",
    "print (reemplazado)"
   ]
  },
  {
   "cell_type": "code",
   "execution_count": 27,
   "id": "e4155a04",
   "metadata": {},
   "outputs": [
    {
     "name": "stdout",
     "output_type": "stream",
     "text": [
      "Función format\n",
      "El valor de PI es: {}\n",
      "El valor de PI es: 3.1416\n"
     ]
    }
   ],
   "source": [
    "print (\"Función format\")\n",
    "cadena = \"El valor de PI es: {}\"\n",
    "formateado = cadena.format(3.1416)\n",
    "print (cadena)\n",
    "print (formateado)"
   ]
  },
  {
   "cell_type": "code",
   "execution_count": 28,
   "id": "acf5347e",
   "metadata": {},
   "outputs": [
    {
     "name": "stdout",
     "output_type": "stream",
     "text": [
      "Función format con índices\n",
      "{2} es la suma de {0} y {1}\n",
      "8 es la suma de 5 y 3\n"
     ]
    }
   ],
   "source": [
    "print (\"Función format con índices\")\n",
    "cadena = \"{2} es la suma de {0} y {1}\"\n",
    "valor_1 = 5\n",
    "valor_2 = 3\n",
    "resultado = valor_1+valor_2\n",
    "formateado = cadena.format(valor_1, valor_2, resultado)\n",
    "print (cadena)\n",
    "print (formateado)"
   ]
  },
  {
   "cell_type": "code",
   "execution_count": 29,
   "id": "eaabffe2",
   "metadata": {},
   "outputs": [
    {
     "name": "stdout",
     "output_type": "stream",
     "text": [
      "Función format con nombres\n",
      "{ciudad} es la capital de {pais}\n",
      "París es la capital de Francia\n"
     ]
    }
   ],
   "source": [
    "print (\"Función format con nombres\")\n",
    "cadena = \"{ciudad} es la capital de {pais}\"\n",
    "pais = \"Francia\"\n",
    "ciudad = \"París\"\n",
    "formateado = cadena.format(pais=pais, ciudad=ciudad)\n",
    "print (cadena)\n",
    "print (formateado)"
   ]
  },
  {
   "cell_type": "code",
   "execution_count": 30,
   "id": "bc6bef7a",
   "metadata": {},
   "outputs": [
    {
     "name": "stdout",
     "output_type": "stream",
     "text": [
      "Función format con f-string\n",
      "La moneda de Bolivia es el Boliviano\n"
     ]
    }
   ],
   "source": [
    "\n",
    "print (\"Función format con f-string\")\n",
    "moneda = \"Boliviano\"\n",
    "pais = \"Bolivia\"\n",
    "formateado = f\"La moneda de {pais} es el {moneda}\"\n",
    "print (formateado)"
   ]
  }
 ],
 "metadata": {
  "kernelspec": {
   "display_name": "Python 3",
   "language": "python",
   "name": "python3"
  },
  "language_info": {
   "codemirror_mode": {
    "name": "ipython",
    "version": 3
   },
   "file_extension": ".py",
   "mimetype": "text/x-python",
   "name": "python",
   "nbconvert_exporter": "python",
   "pygments_lexer": "ipython3",
   "version": "3.13.3"
  }
 },
 "nbformat": 4,
 "nbformat_minor": 5
}
