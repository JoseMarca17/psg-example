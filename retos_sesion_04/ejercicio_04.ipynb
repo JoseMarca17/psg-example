{
 "cells": [
  {
   "cell_type": "markdown",
   "id": "c25fe42e",
   "metadata": {},
   "source": [
    "# **A PATA AL ILLIMANI**\n",
    "\n",
    "El juego **A PATA AL ILLIMANI** es una competencia con amigos para se el primero en llegar al Illimani, para hacerlo te enfrentaras en el tablero con varios problemas tipicos paceños, como bloqueos, Avanzaras las casiilas tirando un dado, pero cuidado encontraras obstaculos y tambien encontraras ayudas que te ayudaran a avanzar mas rapido. El primero en pisar el Illimani gana la partuida. \n"
   ]
  },
  {
   "cell_type": "markdown",
   "id": "824586c3",
   "metadata": {},
   "source": [
    "## REGLAS DEL JUEGO\n",
    "### Objetivo del juego:\n",
    "\n",
    "Ser el primero en llegar a la cima del Illimani avanzando por las casillas del tablero.\n",
    "\n",
    "### Cómo jugar:\n",
    "\n",
    "Cada jugador lanza un dado y avanza el número de casillas correspondiente al resultado del dado.\n",
    "\n",
    "Si un jugador cae en una casilla especial, debe seguir la instrucción indicada.\n",
    "\n",
    "#### Casillas especiales:\n",
    "- 🚗 Casilla con auto (Gasolina): Has conseguido gasolina y avanzas 5 casillas directamente.\n",
    "- 🚶‍♂️ Casilla con mucha gente (Bloqueo): Te encontraste con un bloqueo y pierdes tu turno en la siguiente tirada.\n",
    "- 🛒 Casilla con fila (Fila Eterna): Llegaste a la fila y debes retroceder 8 casillas.\n",
    "- 🏞️ Casilla con paisaje (Mirador de La Paz): Te distraes con la vista y pierdes un turno.\n",
    "- 💦 Casilla con lluvia (Chubasco Paceño): Resbalaste y retrocedes 3 casillas.\n",
    "- ⛺ Casilla con campamento (Refugio Andino): Descansas y avanzas 2 casillas.\n",
    "- 🛤️ Casilla con atajo (Sendero Secreto): Encuentras un sendero oculto y avanzas 6 casillas."
   ]
  }
 ],
 "metadata": {
  "language_info": {
   "name": "python"
  }
 },
 "nbformat": 4,
 "nbformat_minor": 5
}
