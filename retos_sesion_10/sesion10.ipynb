{
 "cells": [
  {
   "cell_type": "markdown",
   "id": "eabb50f7",
   "metadata": {},
   "source": [
    "# **CONJUNTOS** \n",
    "\n",
    "Un conjunto es una estructura de datos, al igual que una lista o una tupla\n",
    "\n",
    "Se llaman conjuntos porque en matemáticas un conjunto es una colección de elementos únicos sin orden definido\n",
    "\n",
    "Python adopta la misma definición de conjunto de matemáticas\n",
    "Un conjunto es una secuencia de objetos MUTABLES\n",
    "\n",
    "- NO ordenados\n",
    "- NO indexados\n",
    "- NO duplicados\n",
    "\n",
    "#### Mutable: Los elementos de un conjunto pueden ser modificados después de su creación\n",
    "\n"
   ]
  },
  {
   "cell_type": "code",
   "execution_count": null,
   "id": "4b4d1648",
   "metadata": {},
   "outputs": [],
   "source": [
    "#MUTABLE\n",
    "conjunto = {'🍕','🍔','🍟','🌭'}\n",
    "print(conjunto) # {'🍔', '🌭', '🍕', '🍟'}\n",
    "conjunto.add('🥗')\n",
    "print(conjunto)  # {'🍔', '🍕', '🥗', '🍟', '🌭'}"
   ]
  },
  {
   "cell_type": "markdown",
   "id": "2d3f8ea4",
   "metadata": {},
   "source": [
    "#### NO ordenados: Los elementos de un conjunto no tienen un orden especifico"
   ]
  },
  {
   "cell_type": "code",
   "execution_count": null,
   "id": "a21b7eb7",
   "metadata": {},
   "outputs": [],
   "source": [
    "# NO ORDENADO\n",
    "conjunto = {'🍕','🍔','🍟','🌭'}\n",
    "print(conjunto) # {'🍔', '🌭', '🍕', '🍟'}"
   ]
  },
  {
   "cell_type": "markdown",
   "id": "eb20066c",
   "metadata": {},
   "source": [
    "#### NO indexados: Los elementos de un conjunto no pueden ser accedidos por un índice"
   ]
  },
  {
   "cell_type": "code",
   "execution_count": null,
   "id": "451315d9",
   "metadata": {},
   "outputs": [],
   "source": [
    "# NO INDEXADO\n",
    "conjunto = {'🍕','🍔','🍟','🌭'}\n",
    "print(conjunto[0]) # TypeError: 'set' object is not subscriptable"
   ]
  },
  {
   "cell_type": "markdown",
   "id": "48d958d5",
   "metadata": {},
   "source": [
    "#### NO duplicados: Los elementos de un conjunto no pueden ser duplicados"
   ]
  },
  {
   "cell_type": "code",
   "execution_count": null,
   "id": "7283c462",
   "metadata": {},
   "outputs": [],
   "source": [
    "#NO DUPLICADO\n",
    "conjunto = {'🍕','🍔','🍟','🌭','🍕','🍟'}\n",
    "print(conjunto) # {'🍕', '🍟', '🌭', '🍔'}"
   ]
  },
  {
   "cell_type": "markdown",
   "id": "bf4c5e1a",
   "metadata": {},
   "source": [
    "## Usos de los conjuntos\n",
    "- Análisis de texto eliminando palabras repetidas\n",
    "- Gestión de inventarios\n",
    "- Control de usuarios\n",
    "- Control de permisos\n",
    "#### ¿Cómo declarar un conjunto?\n",
    "En python se declara un conjunto utilizando llaves {} y separando los elementos con comas ,\n",
    "\n",
    "mi_conjunto = {elemento1, elemento2, elemento3, ...}"
   ]
  },
  {
   "cell_type": "markdown",
   "id": "36895322",
   "metadata": {},
   "source": [
    "#### Conjunto de enteros"
   ]
  },
  {
   "cell_type": "code",
   "execution_count": null,
   "id": "c54cbb53",
   "metadata": {},
   "outputs": [],
   "source": [
    "print (\"Conjunto de enteros\")\n",
    "conjunto = {1, 2, 3, 4, 5}\n",
    "print(conjunto) \n",
    "print(type(conjunto))"
   ]
  },
  {
   "cell_type": "markdown",
   "id": "79d67acb",
   "metadata": {},
   "source": [
    "#### Conjunto de cadenas"
   ]
  },
  {
   "cell_type": "code",
   "execution_count": null,
   "id": "0dfe3390",
   "metadata": {},
   "outputs": [],
   "source": [
    "print (\"Conjunto de cadenas\")\n",
    "conjunto = {'🍕','🍔','🍟','🌭'}\n",
    "print(conjunto)\n",
    "print(type(conjunto))"
   ]
  },
  {
   "cell_type": "markdown",
   "id": "036ca58a",
   "metadata": {},
   "source": [
    "#### Conjunto mixto"
   ]
  },
  {
   "cell_type": "code",
   "execution_count": null,
   "id": "7487fafa",
   "metadata": {},
   "outputs": [],
   "source": [
    "print (\"Conjunto mixto\")\n",
    "conjunto = {1, True, 3.14, '☕'}\n",
    "print(conjunto)\n",
    "print(type(conjunto))"
   ]
  },
  {
   "cell_type": "markdown",
   "id": "8c32f02d",
   "metadata": {},
   "source": [
    "Se utiliza la función set() para crear conjuntos vacíos o a partir de una secuencia\n",
    "\n",
    "Permite convertir secuencias como listas, tuplas, cadenas en conjuntos\n",
    "#### Conjunto vacío"
   ]
  },
  {
   "cell_type": "code",
   "execution_count": null,
   "id": "7e4f3de9",
   "metadata": {},
   "outputs": [],
   "source": [
    "print (\"Conjunto vacío\")\n",
    "conjunto = set()\n",
    "print(conjunto)\n",
    "print(type(conjunto))"
   ]
  },
  {
   "cell_type": "markdown",
   "id": "87cc5f4f",
   "metadata": {},
   "source": [
    "#### Conjunto a partir de la cadena"
   ]
  },
  {
   "cell_type": "code",
   "execution_count": null,
   "id": "63c7eddb",
   "metadata": {},
   "outputs": [],
   "source": [
    "print (\"Conjunto a partir de la cadena\")\n",
    "cadena = 'Hola Mundo'\n",
    "conjunto = set(cadena)\n",
    "print(conjunto)\n",
    "print(type(conjunto))"
   ]
  },
  {
   "cell_type": "markdown",
   "id": "a91dac99",
   "metadata": {},
   "source": [
    "#### Conjunto a partir de una tupla"
   ]
  },
  {
   "cell_type": "code",
   "execution_count": null,
   "id": "43c26057",
   "metadata": {},
   "outputs": [],
   "source": [
    "print (\"Conjunto a partir de una tupla\")\n",
    "tupla = (1, 2, 3, 4, 5, 5)\n",
    "conjunto = set(tupla)\n",
    "print(conjunto)\n",
    "print(type(conjunto))"
   ]
  },
  {
   "cell_type": "markdown",
   "id": "3b2b7b00",
   "metadata": {},
   "source": [
    "#### Conjunto a partir de una lista"
   ]
  },
  {
   "cell_type": "code",
   "execution_count": null,
   "id": "8a42618f",
   "metadata": {},
   "outputs": [],
   "source": [
    "print (\"Conjunto a partir de una lista\")\n",
    "lista = [True, False, 0, 1]\n",
    "conjunto = set(lista)\n",
    "print(conjunto)\n",
    "print(type(conjunto))"
   ]
  },
  {
   "cell_type": "markdown",
   "id": "0883a412",
   "metadata": {},
   "source": [
    "#### Conjunto por comprensión"
   ]
  },
  {
   "cell_type": "code",
   "execution_count": null,
   "id": "09d9c0f5",
   "metadata": {},
   "outputs": [],
   "source": [
    "print (\"Conjunto por comprensión\")\n",
    "conjunto = {x for x in '🍕🍔🍟🍕🍔🍟🍔🍟'}\n",
    "print(conjunto)\n",
    "print(type(conjunto))"
   ]
  },
  {
   "cell_type": "markdown",
   "id": "2aea15d5",
   "metadata": {},
   "source": [
    "## Indexacion y slicing\n",
    "Los conjuntos no soportan indexación ni slicing\n",
    "Porque no son ordenados ni indexados\n",
    "\n"
   ]
  },
  {
   "cell_type": "code",
   "execution_count": null,
   "id": "f57f7342",
   "metadata": {},
   "outputs": [],
   "source": [
    "conjunto = {1, 2, 3, 4, 5}\n",
    "print(conjunto[0]) # TypeError: 'set' object is not subscriptable"
   ]
  },
  {
   "cell_type": "code",
   "execution_count": null,
   "id": "4bddb481",
   "metadata": {},
   "outputs": [],
   "source": [
    "conjunto = {1, 2, 3, 4, 5}\n",
    "print(conjunto[0:3]) # TypeError: 'set' object is not subscriptable"
   ]
  },
  {
   "cell_type": "markdown",
   "id": "46bb9549",
   "metadata": {},
   "source": [
    "#### Concatenación de conjuntos\n",
    "Los conjuntos no soportan la concatenación con el operador +"
   ]
  },
  {
   "cell_type": "code",
   "execution_count": null,
   "id": "9972324d",
   "metadata": {},
   "outputs": [],
   "source": [
    "conjunto1 = {1, 2, 3}\n",
    "conjunto2 = {4, 5, 6}\n",
    "print(conjunto1 + conjunto2)\n",
    "# TypeError: unsupported operand type(s) for +: 'set' and 'set'"
   ]
  },
  {
   "cell_type": "markdown",
   "id": "2fa6147b",
   "metadata": {},
   "source": [
    "#### Repetición con conjuntos\n",
    "Los conjuntos no soportan la repetición con el operador *"
   ]
  },
  {
   "cell_type": "code",
   "execution_count": null,
   "id": "22f8ab27",
   "metadata": {},
   "outputs": [],
   "source": [
    "conjunto = {1, 2, 3}\n",
    "print(conjunto * 3)\n",
    "# TypeError: unsupported operand type(s) for *: 'set' and 'int'"
   ]
  },
  {
   "cell_type": "markdown",
   "id": "7df24ae9",
   "metadata": {},
   "source": [
    "## METODOS DE LOS CONJUNTOS \n",
    "### Metodos de adicion \n",
    "\n",
    "Los métodos de adición permiten agregar elementos a un conjunto\n",
    "\n",
    "add()\n",
    "update()\n",
    "No retorna ningún valor\n",
    "\n",
    "###### add(valor) recibe un valor y lo agrega al conjunto si no existe"
   ]
  },
  {
   "cell_type": "code",
   "execution_count": null,
   "id": "02961a93",
   "metadata": {},
   "outputs": [],
   "source": [
    "print (\"Método add()\")\n",
    "conjunto = {'🍕','🍔','🍟','🌭'}\n",
    "print (conjunto)\n",
    "conjunto.add('🥗')\n",
    "print(conjunto) "
   ]
  },
  {
   "cell_type": "markdown",
   "id": "c2ca1681",
   "metadata": {},
   "source": [
    "##### update(valores) recibe una secuencia de valores y los agrega al conjunto si no existen"
   ]
  },
  {
   "cell_type": "code",
   "execution_count": null,
   "id": "6c54c52f",
   "metadata": {},
   "outputs": [],
   "source": [
    "print (\"Método update()\")\n",
    "conjunto = {'🍕','🍔','🍟','🌭'}\n",
    "print (conjunto)\n",
    "conjunto.update(['🥤','🍦'])\n",
    "print(conjunto) \n",
    "conjunto.update('🍩🍪')\n",
    "print(conjunto) \n",
    "conjunto.update(('🍫','🍬'))\n",
    "print(conjunto)\n",
    "conjunto.update({'🍭','🍮'})\n",
    "print(conjunto)"
   ]
  },
  {
   "cell_type": "markdown",
   "id": "a970c7a4",
   "metadata": {},
   "source": [
    "### Metodos de eliminacion \n",
    "Los métodos de eliminación permiten eliminar elementos de un conjunto\n",
    "\n",
    "remove()\n",
    "discard()\n",
    "pop()\n",
    "clear()\n",
    "Solo pop() retorna el elemento eliminado\n",
    "\n",
    "###### remove(valor) recibe un valor y lo elimina del conjunto si existe, si no existe lanza un error"
   ]
  },
  {
   "cell_type": "code",
   "execution_count": null,
   "id": "66175dc3",
   "metadata": {},
   "outputs": [],
   "source": [
    "print (\"Método remove()\")\n",
    "conjunto = {'🍕','🍔','🍟','🌭'} \n",
    "print (conjunto)\n",
    "conjunto.remove('🍔')\n",
    "print(conjunto)\n",
    "# conjunto.remove('🍔')\n",
    "# print(conjunto)\n",
    "# Key Error: '🍔'"
   ]
  },
  {
   "cell_type": "markdown",
   "id": "4a8287fc",
   "metadata": {},
   "source": [
    "##### discard(valor) recibe un valor y lo elimina del conjunto si existe, si no existe no lanza un error"
   ]
  },
  {
   "cell_type": "code",
   "execution_count": null,
   "id": "342d2d3c",
   "metadata": {},
   "outputs": [],
   "source": [
    "print (\"Método discard()\")\n",
    "conjunto = {'🍕','🍔','🍟','🌭'}\n",
    "print (conjunto)\n",
    "conjunto.discard('🍔')\n",
    "print(conjunto)\n",
    "conjunto.discard('🍔')\n",
    "print(conjunto)"
   ]
  },
  {
   "cell_type": "markdown",
   "id": "a6aa0805",
   "metadata": {},
   "source": [
    "##### pop() elimina un elemento aleatorio del conjunto y lo retorna"
   ]
  },
  {
   "cell_type": "code",
   "execution_count": null,
   "id": "dc0d55a3",
   "metadata": {},
   "outputs": [],
   "source": [
    "print (\"Método pop()\")\n",
    "conjunto = {'🍕','🍔','🍟','🌭', '🥤','🍦'}\n",
    "print (conjunto)\n",
    "print(conjunto.pop())\n",
    "print(conjunto)\n",
    "print(conjunto.pop())\n",
    "print(conjunto)"
   ]
  },
  {
   "cell_type": "markdown",
   "id": "82abb3fd",
   "metadata": {},
   "source": [
    "##### clear() elimina todos los elementos del conjunto"
   ]
  },
  {
   "cell_type": "code",
   "execution_count": null,
   "id": "2bc9a241",
   "metadata": {},
   "outputs": [],
   "source": [
    "print (\"Método clear()\")\n",
    "conjunto = {'🍕','🍔','🍟','🌭'}\n",
    "print (conjunto)\n",
    "conjunto.clear()\n",
    "print(conjunto)"
   ]
  },
  {
   "cell_type": "markdown",
   "id": "d992e212",
   "metadata": {},
   "source": [
    "### Metodos de operaciones con conjuntos \n",
    "- union() : Unión de conjuntos\n",
    "- intersection() : Intersección de conjuntos\n",
    "- difference() : Diferencia de conjuntos\n",
    "- symmetric_difference() : Diferencia simétrica de conjuntos\n",
    "Retornan un nuevo conjunto con el resultado de la operación\n",
    "###### union(conjunto) recibe un conjunto y retorna la unión de ambos"
   ]
  },
  {
   "cell_type": "code",
   "execution_count": null,
   "id": "ee839d82",
   "metadata": {},
   "outputs": [],
   "source": [
    "print (\"Método union()\")\n",
    "conjunto1 = {'🍔','🍟', '🥤'}\n",
    "conjunto2 = {'🍕','🍨','🥤'}\n",
    "print (conjunto1, conjunto2)\n",
    "union = conjunto1.union(conjunto2)\n",
    "print(union)"
   ]
  },
  {
   "cell_type": "markdown",
   "id": "faeaee03",
   "metadata": {},
   "source": [
    "###### intersection(conjunto) recibe un conjunto y retorna la intersección de ambos"
   ]
  },
  {
   "cell_type": "code",
   "execution_count": null,
   "id": "ec50bffb",
   "metadata": {},
   "outputs": [],
   "source": [
    "print (\"Método intersection()\")\n",
    "conjunto1 = {'🍔','🍟', '🥤'}\n",
    "conjunto2 = {'🍕','🍨','🥤'}\n",
    "print (conjunto1, conjunto2)\n",
    "interseccion = conjunto1.intersection(conjunto2)\n",
    "print(interseccion)"
   ]
  },
  {
   "cell_type": "markdown",
   "id": "765ed890",
   "metadata": {},
   "source": [
    "##### difference(conjunto) recibe un conjunto y retorna la diferencia de ambos conjuntos"
   ]
  },
  {
   "cell_type": "code",
   "execution_count": null,
   "id": "ba07a250",
   "metadata": {},
   "outputs": [],
   "source": [
    "print (\"Método difference()\")\n",
    "conjunto1 = {'🍔','🍟', '🥤'}\n",
    "conjunto2 = {'🍕','🍨','🥤'}\n",
    "print (\"1:\",conjunto1, \"2:\",conjunto2)\n",
    "diferencia = conjunto1.difference(conjunto2)\n",
    "print(\"1 y 2:\",diferencia)\n",
    "diferencia = conjunto2.difference(conjunto1)\n",
    "print(\"2 y 1:\",diferencia)"
   ]
  },
  {
   "cell_type": "markdown",
   "id": "eb732f89",
   "metadata": {},
   "source": [
    "##### symmetric_difference(conjunto) recibe un conjunto y retorna la diferencia simétrica de ambos"
   ]
  },
  {
   "cell_type": "code",
   "execution_count": null,
   "id": "b7aecc2e",
   "metadata": {},
   "outputs": [],
   "source": [
    "print (\"Método symmetric_difference()\")\n",
    "conjunto1 = {'🍔','🍟', '🥤'}\n",
    "conjunto2 = {'🍕','🍨','🥤'}\n",
    "print (conjunto1, conjunto2)\n",
    "diferencia_simetrica = conjunto1.symmetric_difference(conjunto2)\n",
    "print(diferencia_simetrica)"
   ]
  },
  {
   "cell_type": "markdown",
   "id": "a2f0ff16",
   "metadata": {},
   "source": [
    "### Metodos de asignacion con operaciones\n",
    "Permiten realizar operaciones con conjuntos y asignar el resultado al conjunto inicial\n",
    "\n",
    "- intersection_update() : Intersección\n",
    "- difference_update() : Diferencia\n",
    "- symmetric_difference_update() : Diferencia simétrica\n",
    "##### intersection_update(conjunto) recibe un conjunto y asigna al conjunto inicial la intersección de ambos conjuntos"
   ]
  },
  {
   "cell_type": "code",
   "execution_count": null,
   "id": "168478bc",
   "metadata": {},
   "outputs": [],
   "source": [
    "print (\"Método intersection_update()\")\n",
    "conjunto1 = {'🍔','🍟', '🥤'}\n",
    "conjunto2 = {'🍕','🍨','🥤'}\n",
    "print (conjunto1, conjunto2)\n",
    "conjunto1.intersection_update(conjunto2)\n",
    "print(conjunto1)"
   ]
  },
  {
   "cell_type": "markdown",
   "id": "b82adb76",
   "metadata": {},
   "source": [
    "##### difference_update(conjunto) recibe un conjunto y asigna al conjunto inicial la diferencia de ambos conjuntos"
   ]
  },
  {
   "cell_type": "code",
   "execution_count": null,
   "id": "dcdcdc1b",
   "metadata": {},
   "outputs": [],
   "source": [
    "print (\"Método difference_update()\")\n",
    "conjunto1 = {'🍔','🍟', '🥤'}\n",
    "conjunto2 = {'🍕','🍨','🥤'}\n",
    "print (\"1:\",conjunto1, \"2:\",conjunto2)\n",
    "conjunto1.difference_update(conjunto2)\n",
    "print (\"1:\",conjunto1, \"2:\",conjunto2)"
   ]
  },
  {
   "cell_type": "markdown",
   "id": "29d5ae50",
   "metadata": {},
   "source": [
    "###### symmetric_difference_update(conjunto) recibe un conjunto y asigna al conjunto inicial la diferencia simétrica de ambos conjuntos"
   ]
  },
  {
   "cell_type": "code",
   "execution_count": null,
   "id": "62d6b4e4",
   "metadata": {},
   "outputs": [],
   "source": [
    "print (\"Método symmetric_difference_update()\")\n",
    "conjunto1 = {'🍔','🍟', '🥤'}\n",
    "conjunto2 = {'🍕','🍨','🥤'}\n",
    "print (conjunto1, conjunto2)\n",
    "conjunto1.symmetric_difference_update(conjunto2)\n",
    "print(conjunto1)"
   ]
  },
  {
   "cell_type": "markdown",
   "id": "a9ab38f4",
   "metadata": {},
   "source": [
    "### Metodos de busqueda\n",
    "Los métodos de búsqueda permiten buscar elementos en un conjunto\n",
    "\n",
    "- issubset() : Subconjunto\n",
    "- issuperset() : Superconjunto\n",
    "- isdisjoint() : Disjunto\n",
    "Retornan un valor booleano\n",
    "\n",
    "##### issubset(conjunto) recibe una secuencia y retorna True si el conjunto es subconjunto del conjunto recibido"
   ]
  },
  {
   "cell_type": "code",
   "execution_count": null,
   "id": "d112d8ff",
   "metadata": {},
   "outputs": [],
   "source": [
    "print (\"Método issubset()\")\n",
    "conjunto1 = {'🍔','🍟', '🥤'}\n",
    "conjunto2 = {'🍕','🍨','🥤'}\n",
    "conjunto3 = {'🍔','🍟'}\n",
    "print (conjunto1, conjunto2,conjunto3)\n",
    "# ¿El conjunto1 es subconjunto del conjunto2?\n",
    "print(conjunto1.issubset(conjunto2))\n",
    "# ¿El conjunto3 es subconjunto del conjunto1?\n",
    "print(conjunto3.issubset(conjunto1))"
   ]
  },
  {
   "cell_type": "markdown",
   "id": "a4ef84d1",
   "metadata": {},
   "source": [
    "##### issuperset(conjunto) recibe una secuencia y retorna True si el conjunto es superconjunto del conjunto recibido"
   ]
  },
  {
   "cell_type": "code",
   "execution_count": null,
   "id": "d532847c",
   "metadata": {},
   "outputs": [],
   "source": [
    "print (\"Método issuperset()\")\n",
    "conjunto1 = {'🍔','🍟', '🥤'}\n",
    "conjunto2 = {'🍕','🍨','🥤'}\n",
    "conjunto3 = {'🍔','🍟'}\n",
    "print (conjunto1, conjunto2,conjunto3)\n",
    "# ¿El conjunto1 es superconjunto del conjunto2?\n",
    "print(conjunto1.issuperset(conjunto2)) # C1 contiene a C2?\n",
    "# ¿El conjunto1 es superconjunto del conjunto2?\n",
    "print(conjunto1.issuperset(conjunto3)) # C1 contiene a C3?"
   ]
  },
  {
   "cell_type": "markdown",
   "id": "f33f9549",
   "metadata": {},
   "source": [
    "###### isdisjoint(conjunto) recibe un secuencia y retorna True si el conjunto no tiene elementos en común con el conjunto recibido"
   ]
  },
  {
   "cell_type": "code",
   "execution_count": null,
   "id": "16495a2a",
   "metadata": {},
   "outputs": [],
   "source": [
    "print (\"Método isdisjoint()\")\n",
    "conjunto1 = {'🍔','🍟', '🥤'}\n",
    "conjunto2 = {'🍕','🍨'}\n",
    "conjunto3 = {'🍔','🍟'}\n",
    "print (conjunto1, conjunto2,conjunto3)\n",
    "# ¿El conjunto1 no tiene elementos en común con el conjunto2?\n",
    "print(conjunto1.isdisjoint(conjunto2))\n",
    "# ¿El conjunto1 no tiene elementos en común con el conjunto3?\n",
    "print(conjunto1.isdisjoint(conjunto3))"
   ]
  },
  {
   "cell_type": "markdown",
   "id": "6b7b14a2",
   "metadata": {},
   "source": [
    "### Metodos de copia \n",
    "Los métodos de copia permiten copiar un conjunto\n",
    "\n",
    "- copy()\n",
    "Retorna un nuevo conjunto con los mismos elementos"
   ]
  },
  {
   "cell_type": "code",
   "execution_count": null,
   "id": "f10cf518",
   "metadata": {},
   "outputs": [],
   "source": [
    "print (\"Asignación por referencia\")\n",
    "conjunto = {'🍕','🍔','🍟','🌭'}\n",
    "print (conjunto)\n",
    "copia = conjunto\n",
    "copia.add('🥗')\n",
    "print(conjunto)\n",
    "print(copia)"
   ]
  },
  {
   "cell_type": "code",
   "execution_count": null,
   "id": "be8660ed",
   "metadata": {},
   "outputs": [],
   "source": [
    "print (\"Método copy()\")\n",
    "conjunto = {'🍕','🍔','🍟','🌭'}\n",
    "print (conjunto)\n",
    "copia = conjunto.copy()\n",
    "copia.add('🥗')\n",
    "print(conjunto)\n",
    "print(copia)"
   ]
  },
  {
   "cell_type": "markdown",
   "id": "ae419e52",
   "metadata": {},
   "source": [
    "## FUNCIONES CON CONJUNTOS \n",
    "Los conjuntos interactúan con funciones propias de python que permiten secuencias\n",
    "\n",
    "- len()\n",
    "- max()\n",
    "- min()\n",
    "- sum()"
   ]
  },
  {
   "cell_type": "code",
   "execution_count": null,
   "id": "5649d1b6",
   "metadata": {},
   "outputs": [],
   "source": [
    "print (\"Función len()\")\n",
    "conjunto = {'🍕','🍔','🍟','🌭'}\n",
    "print (conjunto)\n",
    "print(len(conjunto))"
   ]
  },
  {
   "cell_type": "code",
   "execution_count": null,
   "id": "f00c9cf3",
   "metadata": {},
   "outputs": [],
   "source": [
    "print (\"Función max()\")\n",
    "conjunto = {1, 2, 3, 4, 5}\n",
    "print (conjunto)\n",
    "print (max(conjunto))\n",
    "conjunto = {'🍕','🍔','🍟','🌭'}\n",
    "print (conjunto)\n",
    "print(max(conjunto))"
   ]
  },
  {
   "cell_type": "code",
   "execution_count": null,
   "id": "21a5fd32",
   "metadata": {},
   "outputs": [],
   "source": [
    "print (\"Función min()\")\n",
    "conjunto = {1, 2, 3, 4, 5}\n",
    "print (conjunto)\n",
    "print (min(conjunto))\n",
    "conjunto = {'🍨','🍔','🍟','🍕'}\n",
    "print (conjunto)\n",
    "print(min(conjunto))"
   ]
  },
  {
   "cell_type": "code",
   "execution_count": null,
   "id": "4a8ee635",
   "metadata": {},
   "outputs": [],
   "source": [
    "print (\"Función sum()\") # Solo si tiene numeros\n",
    "conjunto = {1, 2, 3, 4, 5}\n",
    "print (conjunto)\n",
    "print (sum(conjunto))"
   ]
  },
  {
   "cell_type": "markdown",
   "id": "7ef4bb8f",
   "metadata": {},
   "source": [
    "## OPERADORES CON CONJUNTOS \n",
    "Los conjuntos soportan operadores que permiten realizar operaciones\n",
    "\n",
    "- Operadores de adición\n",
    "- Operadores de comparación\n",
    "- Operadores para operaciones con conjuntos\n",
    "- Operadores para asignación con operaciones"
   ]
  },
  {
   "cell_type": "markdown",
   "id": "9b6f0107",
   "metadata": {},
   "source": [
    "### Operadores de adición\n",
    "|= recibe un conjunto y agrega al conjunto inicial los elementos del conjunto recibido"
   ]
  },
  {
   "cell_type": "code",
   "execution_count": null,
   "id": "950443bd",
   "metadata": {},
   "outputs": [],
   "source": [
    "print (\"Operador |=\") #UPDATE\n",
    "conjunto1 = {'🍔','🍟', '🥤'}\n",
    "conjunto2 = {'🍕','🍨'}\n",
    "print (conjunto1, conjunto2)\n",
    "conjunto1 |= conjunto2\n",
    "print(conjunto1)"
   ]
  },
  {
   "cell_type": "markdown",
   "id": "8af5ae98",
   "metadata": {},
   "source": [
    "### Operadores de comparacion\n",
    "Los operadores de comparación permiten comparar conjuntos\n",
    "\n",
    "- == : Igualdad\n",
    "- != : Desigualdad\n",
    "- < : Es subconjunto y no igual\n",
    "- > : Es superconjunto y no igual\n",
    "- <= : Es subconjunto o igual\n",
    "- >= : Es superconjunto o igual"
   ]
  },
  {
   "cell_type": "code",
   "execution_count": null,
   "id": "26767763",
   "metadata": {},
   "outputs": [],
   "source": [
    "print (\"Operador ==\")\n",
    "conjunto1 = {'🍔','🍟', '🥤'}\n",
    "conjunto2 = {'🍔','🍟', '🥤'}\n",
    "conjunto3 = {'🍕','🍨'}\n",
    "print (conjunto1, conjunto2, conjunto3)\n",
    "print(conjunto1 == conjunto2)\n",
    "print(conjunto1 == conjunto3)"
   ]
  },
  {
   "cell_type": "code",
   "execution_count": null,
   "id": "143d94fb",
   "metadata": {},
   "outputs": [],
   "source": [
    "print (\"Operador !=\")\n",
    "conjunto1 = {'🍔','🍟', '🥤'}\n",
    "conjunto2 = {'🍔','🍟', '🥤'}\n",
    "conjunto3 = {'🍕','🍨'}\n",
    "print (conjunto1, conjunto2, conjunto3)\n",
    "print(conjunto1 != conjunto2)\n",
    "print(conjunto1 != conjunto3)"
   ]
  },
  {
   "cell_type": "code",
   "execution_count": null,
   "id": "68ad5424",
   "metadata": {},
   "outputs": [],
   "source": [
    "print (\"Operador <\")\n",
    "conjunto1 = {'🍔','🍟'}\n",
    "conjunto2 = {'🍔','🍟', '🥤'}\n",
    "conjunto3 = {'🍕','🍨'}\n",
    "print (conjunto1, conjunto2, conjunto3)\n",
    "print(conjunto1 < conjunto2)\n",
    "print(conjunto1 < conjunto3)"
   ]
  },
  {
   "cell_type": "code",
   "execution_count": null,
   "id": "605a8acc",
   "metadata": {},
   "outputs": [],
   "source": [
    "print (\"Operador >\")\n",
    "conjunto1 = {'🍔','🍟','🥤','🍕'}\n",
    "conjunto2 = {'🍔','🍟', '🥤'}\n",
    "conjunto3 = {'🍕','🍨'}\n",
    "print (conjunto1, conjunto2, conjunto3)\n",
    "print(conjunto1 > conjunto2)\n",
    "print(conjunto1 > conjunto3)"
   ]
  },
  {
   "cell_type": "code",
   "execution_count": null,
   "id": "eb0931b9",
   "metadata": {},
   "outputs": [],
   "source": [
    "print (\"Operador <=\")\n",
    "conjunto1 = {'🍔','🍟'}\n",
    "conjunto2 = {'🍔','🍟'}\n",
    "conjunto3 = {'🍕','🍨'}\n",
    "print (conjunto1, conjunto2, conjunto3)\n",
    "print(conjunto1 <= conjunto2)\n",
    "print(conjunto1 <= conjunto3)"
   ]
  },
  {
   "cell_type": "code",
   "execution_count": null,
   "id": "0e5d2372",
   "metadata": {},
   "outputs": [],
   "source": [
    "print (\"Operador >=\")\n",
    "conjunto1 = {'🍔','🍟'}\n",
    "conjunto2 = {'🍔','🍟'}\n",
    "conjunto3 = {'🍕','🍨'}\n",
    "print (conjunto1, conjunto2, conjunto3)\n",
    "print(conjunto1 >= conjunto2)\n",
    "print(conjunto1 >= conjunto3)"
   ]
  },
  {
   "cell_type": "markdown",
   "id": "9fe4e816",
   "metadata": {},
   "source": [
    "### Operadores para operaciones con conjuntos\n",
    "Los operadores para operaciones con conjuntos permiten realizar operaciones con conjuntos\n",
    "\n",
    "- | : Unión\n",
    "- & : Intersección\n",
    "- - : Diferencia\n",
    "- ^ : Diferencia simétrica"
   ]
  },
  {
   "cell_type": "code",
   "execution_count": null,
   "id": "219b632e",
   "metadata": {},
   "outputs": [],
   "source": [
    "print (\"Operador |\")\n",
    "conjunto1 = {'🍔','🍟', '🥤'}\n",
    "conjunto2 = {'🍕','🍨','🥤'}\n",
    "print (conjunto1, conjunto2)\n",
    "union = conjunto1 | conjunto2\n",
    "print(union)"
   ]
  },
  {
   "cell_type": "code",
   "execution_count": null,
   "id": "27285246",
   "metadata": {},
   "outputs": [],
   "source": [
    "print (\"Operador &\")\n",
    "conjunto1 = {'🍔','🍟', '🥤'}\n",
    "conjunto2 = {'🍕','🍨','🥤'}\n",
    "print (conjunto1, conjunto2)\n",
    "interseccion = conjunto1 & conjunto2\n",
    "print(interseccion)"
   ]
  },
  {
   "cell_type": "code",
   "execution_count": null,
   "id": "950b0e9f",
   "metadata": {},
   "outputs": [],
   "source": [
    "print (\"Operador -\")\n",
    "conjunto1 = {'🍔','🍟', '🥤'}\n",
    "conjunto2 = {'🍕','🍨','🥤'}\n",
    "print (\"1:\",conjunto1, \"2:\",conjunto2)\n",
    "diferencia = conjunto1 - conjunto2\n",
    "print(\"1 - 2:\",diferencia)\n",
    "diferencia = conjunto2 - conjunto1\n",
    "print(\"2 - 1:\",diferencia)"
   ]
  },
  {
   "cell_type": "code",
   "execution_count": null,
   "id": "46797777",
   "metadata": {},
   "outputs": [],
   "source": [
    "print (\"Operador ^\")\n",
    "conjunto1 = {'🍔','🍟', '🥤'}\n",
    "conjunto2 = {'🍕','🍨','🥤'}\n",
    "print (conjunto1, conjunto2)\n",
    "diferencia_simetrica = conjunto1 ^ conjunto2\n",
    "print(diferencia_simetrica)"
   ]
  },
  {
   "cell_type": "markdown",
   "id": "b705b999",
   "metadata": {},
   "source": [
    "### Operadores para asignación con operaciones\n",
    "Los operadores para asignación con operaciones permiten realizar operaciones con conjuntos y asignar el resultado al conjunto inicial\n",
    "\n",
    "- |= : Unión\n",
    "- &= : Intersección\n",
    "- -= : Diferencia\n",
    "- ^= : Diferencia simétrica"
   ]
  },
  {
   "cell_type": "code",
   "execution_count": null,
   "id": "3dddd0d2",
   "metadata": {},
   "outputs": [],
   "source": [
    "print (\"Operador |= Unión\")\n",
    "conjunto1 = {'🍔','🍟', '🥤'}\n",
    "conjunto2 = {'🍕','🍨','🥤'}\n",
    "print (conjunto1, conjunto2)\n",
    "conjunto1 |= conjunto2\n",
    "print(conjunto1)"
   ]
  },
  {
   "cell_type": "code",
   "execution_count": null,
   "id": "549d1be9",
   "metadata": {},
   "outputs": [],
   "source": [
    "print (\"Operador &= Intersección\")\n",
    "conjunto1 = {'🍔','🍟', '🥤'}\n",
    "conjunto2 = {'🍕','🍨','🥤'}\n",
    "print (conjunto1, conjunto2)\n",
    "conjunto1 &= conjunto2\n",
    "print(conjunto1)"
   ]
  },
  {
   "cell_type": "code",
   "execution_count": null,
   "id": "9eb73453",
   "metadata": {},
   "outputs": [],
   "source": [
    "print (\"Operador -= Diferencia\")\n",
    "conjunto1 = {'🍔','🍟', '🥤'}\n",
    "conjunto2 = {'🍕','🍨','🥤'}\n",
    "print (\"1:\",conjunto1, \"2:\",conjunto2)\n",
    "conjunto1 -= conjunto2\n",
    "print(\"1 - 2:\",conjunto1)\n",
    "conjunto1 = {'🍔','🍟', '🥤'}\n",
    "conjunto2 -= conjunto1\n",
    "print(\"2 - 1:\",conjunto2)"
   ]
  },
  {
   "cell_type": "code",
   "execution_count": null,
   "id": "04190d46",
   "metadata": {},
   "outputs": [],
   "source": [
    "print (\"Operador ^= Diferencia simétrica\")\n",
    "conjunto1 = {'🍔','🍟', '🥤'}\n",
    "conjunto2 = {'🍕','🍨','🥤'}\n",
    "print (conjunto1, conjunto2)\n",
    "conjunto1 ^= conjunto2\n",
    "print(conjunto1)"
   ]
  },
  {
   "cell_type": "markdown",
   "id": "d662e543",
   "metadata": {},
   "source": [
    "## CONJUNTOS INMUTABLES\n",
    "Los conjuntos inmutables son conjuntos que no pueden ser modificados después de su creación\n",
    "\n",
    "En python se declaran utilizando la función frozenset()"
   ]
  },
  {
   "cell_type": "code",
   "execution_count": null,
   "id": "e9b4c19d",
   "metadata": {},
   "outputs": [],
   "source": [
    "conjunto = frozenset({'🍔','🍕','🥗','🍟','🌭'})\n",
    "print(conjunto)\n",
    "print(type(conjunto))"
   ]
  },
  {
   "cell_type": "code",
   "execution_count": null,
   "id": "37d2aec7",
   "metadata": {},
   "outputs": [],
   "source": [
    "conjunto = frozenset({1, 2, 3, 4, 5})\n",
    "print(conjunto)\n",
    "print(conjunto.add(6)) # AttributeError: 'frozenset' object has no attribute 'add'\n",
    "print(conjunto.remove(1)) # AttributeError: 'frozenset' object has no attribute 'remove'\n",
    "conjunto = frozenset({1, 2, 3, 4, 5})\n",
    "print(conjunto)\n",
    "print(conjunto.add(6)) # AttributeError: 'frozenset' object has no attribute 'add'\n",
    "print(conjunto.remove(1)) # AttributeError: 'frozenset' object has no attribute 'remove'\n",
    "print(conjunto |= {6}) # SyntaxError: invalid syntax"
   ]
  },
  {
   "cell_type": "markdown",
   "id": "bb04cf9a",
   "metadata": {},
   "source": [
    "## CONJUNTOS ANIDADOS\n",
    "Los conjuntos anidados son conjuntos que contienen otros conjuntos pero tienen que ser inmutables para ser anidados"
   ]
  },
  {
   "cell_type": "code",
   "execution_count": null,
   "id": "0fa4df54",
   "metadata": {},
   "outputs": [],
   "source": [
    "print (\"Conjunto de conjuntos\")\n",
    "conjunto = {frozenset({'🍅','🍓','🍎'}), frozenset({'🍈','🍐','🍏'})}\n",
    "print(conjunto)\n",
    "print(type(conjunto))"
   ]
  },
  {
   "cell_type": "code",
   "execution_count": null,
   "id": "e4bf6b12",
   "metadata": {},
   "outputs": [],
   "source": [
    "print (\"Conjunto de conjuntos\")\n",
    "conjunto = {{'🍅','🍓','🍎'}, {'🍈','🍐','🍏'}} #TypeError: unhashable type: 'set'\n",
    "print(conjunto)\n",
    "print(type(conjunto))"
   ]
  }
 ],
 "metadata": {
  "language_info": {
   "name": "python"
  }
 },
 "nbformat": 4,
 "nbformat_minor": 5
}
