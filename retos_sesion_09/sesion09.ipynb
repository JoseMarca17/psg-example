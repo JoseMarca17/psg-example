{
 "cells": [
  {
   "cell_type": "markdown",
   "id": "1ee91d81",
   "metadata": {},
   "source": [
    "# **LISTAS**\n",
    "\n",
    "Una lista es una estructura de datos, así como una tupla y una cadena es una secuencia de valores.\n",
    "- Una lista es una secuencia de objetos MUTABLES\n",
    "- Ordenados e indexados\n",
    "### - Mutable\n",
    "Los elementos de una lista pueden ser modificados"
   ]
  },
  {
   "cell_type": "code",
   "execution_count": 245,
   "id": "d2957377",
   "metadata": {},
   "outputs": [
    {
     "name": "stdout",
     "output_type": "stream",
     "text": [
      "[4, 2, 3]\n"
     ]
    }
   ],
   "source": [
    "lista = [1,2,3]\n",
    "lista[0] = 4 \n",
    "print (lista)"
   ]
  },
  {
   "cell_type": "markdown",
   "id": "ee0f2863",
   "metadata": {},
   "source": [
    "### - Ordenada \n",
    "os elementos tienen un orden definido y no cambian a no ser que sean reordenados"
   ]
  },
  {
   "cell_type": "code",
   "execution_count": 246,
   "id": "5faa5b32",
   "metadata": {},
   "outputs": [
    {
     "name": "stdout",
     "output_type": "stream",
     "text": [
      "False\n"
     ]
    }
   ],
   "source": [
    "lista1 = [1,2,3]\n",
    "lista2 = [3,2,1]\n",
    "print (lista1 == lista2)"
   ]
  },
  {
   "cell_type": "markdown",
   "id": "b3bd3709",
   "metadata": {},
   "source": [
    "### - Indexada\n",
    "Cada elemento tiene un índice asociado a su posición"
   ]
  },
  {
   "cell_type": "code",
   "execution_count": 247,
   "id": "0eb635d8",
   "metadata": {},
   "outputs": [
    {
     "data": {
      "text/plain": [
       "3"
      ]
     },
     "execution_count": 247,
     "metadata": {},
     "output_type": "execute_result"
    }
   ],
   "source": [
    "lista = [1,2,3]\n",
    "lista[0] \n",
    "lista[1] \n",
    "lista[2] "
   ]
  },
  {
   "cell_type": "markdown",
   "id": "dfca098f",
   "metadata": {},
   "source": [
    "## Declaracion de una lista\n",
    "Se declara usando corchetes [] y separado por comas (,)\n",
    "\n",
    "mi_lista = [elemento1, elemento2, elemento3, ...]\n",
    "\n",
    "También se puede declarar una lista utilizando la función list()\n",
    "\n",
    "Y mediante listas por comprensión\n",
    " "
   ]
  },
  {
   "cell_type": "markdown",
   "id": "14b78d6f",
   "metadata": {},
   "source": [
    "#### Lista de enteros "
   ]
  },
  {
   "cell_type": "code",
   "execution_count": null,
   "id": "ee7d812f",
   "metadata": {},
   "outputs": [],
   "source": [
    "print (\"Lista de enteros\")\n",
    "mi_lista = [1,2,3,4,5]\n",
    "print (mi_lista)"
   ]
  },
  {
   "cell_type": "markdown",
   "id": "1d5ea30b",
   "metadata": {},
   "source": [
    "#### Lista de cadenas"
   ]
  },
  {
   "cell_type": "code",
   "execution_count": null,
   "id": "10e86593",
   "metadata": {},
   "outputs": [],
   "source": [
    "print (\"Lista de cadenas\")\n",
    "mi_lista = [\"hola\", \"mundo\", \"python\"]\n",
    "print (mi_lista)"
   ]
  },
  {
   "cell_type": "markdown",
   "id": "4bc58f52",
   "metadata": {},
   "source": [
    "#### Lista mixta "
   ]
  },
  {
   "cell_type": "code",
   "execution_count": null,
   "id": "aca8eded",
   "metadata": {},
   "outputs": [],
   "source": [
    "print (\"Lista mixta\")\n",
    "mi_lista = [1, \"hola\", 3.14, \"mundo\", 5]\n",
    "print (mi_lista)"
   ]
  },
  {
   "cell_type": "markdown",
   "id": "a9719fc4",
   "metadata": {},
   "source": [
    "#### Lista vacia"
   ]
  },
  {
   "cell_type": "code",
   "execution_count": null,
   "id": "a471eb60",
   "metadata": {},
   "outputs": [],
   "source": [
    "print (\"Lista vacía\")\n",
    "mi_lista = []\n",
    "print (mi_lista)"
   ]
  },
  {
   "cell_type": "markdown",
   "id": "896464ea",
   "metadata": {},
   "source": [
    "Se usa la función list() para crear una lista a partir de una secuencia\n",
    "\n",
    "Su utilidad es convertir una tupla, cadena o conjunto en una lista\n",
    "##### Lista a partir de una cadena "
   ]
  },
  {
   "cell_type": "code",
   "execution_count": null,
   "id": "33f8a303",
   "metadata": {},
   "outputs": [],
   "source": [
    "print (\"Lista a partir de una cadena\")\n",
    "mi_lista = list(\"hola mundo\")\n",
    "print (mi_lista)"
   ]
  },
  {
   "cell_type": "markdown",
   "id": "b8b5bf2a",
   "metadata": {},
   "source": [
    "##### Lista a partir de una tupla"
   ]
  },
  {
   "cell_type": "code",
   "execution_count": null,
   "id": "572b0164",
   "metadata": {},
   "outputs": [],
   "source": [
    "\n",
    "print (\"Lista a partir de una tupla\")\n",
    "mi_tupla = (1,2,3,4,5)\n",
    "print (mi_tupla)\n",
    "mi_lista = list(mi_tupla)\n",
    "print (mi_lista)"
   ]
  },
  {
   "cell_type": "markdown",
   "id": "1cb58905",
   "metadata": {},
   "source": [
    "##### Lista por comprension\n",
    "Una lista por comprensión es una forma de crear listas a partir de una expresión o secuencia\n",
    "\n",
    "Es una forma más compacta y eficiente de crear listas"
   ]
  },
  {
   "cell_type": "code",
   "execution_count": null,
   "id": "9c9f9564",
   "metadata": {},
   "outputs": [
    {
     "name": "stdout",
     "output_type": "stream",
     "text": [
      "Lista de enteros\n",
      "[1, 2, 3, 4, 5]\n",
      "Lista de cadenas\n",
      "['hola', 'mundo', 'python']\n",
      "Lista mixta\n",
      "[1, 'hola', 3.14, 'mundo', 5]\n",
      "Lista vacía\n",
      "[]\n",
      "Lista a partir de una cadena\n",
      "['h', 'o', 'l', 'a', ' ', 'm', 'u', 'n', 'd', 'o']\n",
      "Lista a partir de una tupla\n",
      "(1, 2, 3, 4, 5)\n",
      "[1, 2, 3, 4, 5]\n",
      "Lista por comprensión\n",
      "[0, 1, 2, 3, 4, 5, 6, 7, 8, 9]\n"
     ]
    }
   ],
   "source": [
    "\n",
    "print (\"Lista por comprensión\")\n",
    "mi_lista = [x for x in range(10)]\n",
    "print (mi_lista)"
   ]
  },
  {
   "cell_type": "markdown",
   "id": "bb2f19d1",
   "metadata": {},
   "source": [
    "## Indexacion y Slicing \n",
    "\n",
    "Se puede acceder a los diferentes valores de la lista utilizando indexación tanto de izquierda a derecha como de de derecha a izquierda usando indices negativos.\n",
    "\n",
    "##### Acceso utilizando indices positivos "
   ]
  },
  {
   "cell_type": "code",
   "execution_count": 249,
   "id": "0f9245bb",
   "metadata": {},
   "outputs": [
    {
     "name": "stdout",
     "output_type": "stream",
     "text": [
      "Indexación positivo de una lista\n",
      "1 <class 'int'>\n",
      "hola <class 'str'>\n",
      "3.14 <class 'float'>\n",
      "(1, 2) <class 'tuple'>\n"
     ]
    }
   ],
   "source": [
    "print (\"Indexación positivo de una lista\")\n",
    "lista = [1, \"hola\", 3.14, (1,2)]\n",
    "print (lista[0], type(lista[0])) \n",
    "print (lista[1], type(lista[1])) \n",
    "print (lista[2], type(lista[2])) \n",
    "print (lista[3], type(lista[3])) "
   ]
  },
  {
   "cell_type": "markdown",
   "id": "3179ef8b",
   "metadata": {},
   "source": [
    "Se accede a los elementos de la lista de forma negativa de derecha a izquierda\n",
    "\n",
    "Empezando en el índice -1\n",
    "\n",
    "Hasta la -longitud de la lista\n",
    "\n",
    "##### Acceso utilizando índices negativos"
   ]
  },
  {
   "cell_type": "code",
   "execution_count": 250,
   "id": "21aed3ec",
   "metadata": {},
   "outputs": [
    {
     "name": "stdout",
     "output_type": "stream",
     "text": [
      "Indexación negativo de una lista\n",
      "(1, 2) <class 'tuple'>\n",
      "3.14 <class 'float'>\n",
      "hola <class 'str'>\n",
      "1 <class 'int'>\n"
     ]
    }
   ],
   "source": [
    "print (\"Indexación negativo de una lista\")\n",
    "lista = [1, \"hola\", 3.14, (1,2)]\n",
    "print (lista[-1], type(lista[-1]))\n",
    "print (lista[-2], type(lista[-2]))\n",
    "print (lista[-3], type(lista[-3]))\n",
    "print (lista[-4], type(lista[-4]))"
   ]
  },
  {
   "cell_type": "markdown",
   "id": "84892a8e",
   "metadata": {},
   "source": [
    "La indexación no se limita a obtener los valores de la lista\n",
    "\n",
    "También se puede modificar los valores de la lista original utilizando la indexación"
   ]
  },
  {
   "cell_type": "code",
   "execution_count": null,
   "id": "e3a708bc",
   "metadata": {},
   "outputs": [],
   "source": [
    "print (\"Modificación de una lista\")\n",
    "lista = [1, \"hola\", 3.14, (1,2)]\n",
    "print (lista)\n",
    "lista[0] = 2\n",
    "lista[1] = \"mundo\"\n",
    "print (lista)"
   ]
  },
  {
   "cell_type": "markdown",
   "id": "14ce4b21",
   "metadata": {},
   "source": [
    "El slicing se utiliza obtener una proporcion de la liste, utilizando de igual forma indices, El resultado es una nueva lista"
   ]
  },
  {
   "cell_type": "markdown",
   "id": "92c2d4b9",
   "metadata": {},
   "source": [
    "##### Slicing de una lista"
   ]
  },
  {
   "cell_type": "code",
   "execution_count": 251,
   "id": "17d02183",
   "metadata": {},
   "outputs": [
    {
     "name": "stdout",
     "output_type": "stream",
     "text": [
      "Slicing de una lista\n",
      "['P', 'y', 't', 'h', 'o', 'n', 'L', 'a', 'P', 'a', 'z']\n",
      "['t', 'h', 'o', 'n', 'L']\n",
      "<class 'list'>\n"
     ]
    }
   ],
   "source": [
    "print (\"Slicing de una lista\")\n",
    "lista = [\"P\", \"y\", \"t\", \"h\", \"o\", \"n\", \"L\", \"a\", \"P\", \"a\", \"z\"]\n",
    "print (lista)\n",
    "sub_lista = lista[2:7]\n",
    "print (sub_lista)\n",
    "print (type(sub_lista))"
   ]
  },
  {
   "cell_type": "markdown",
   "id": "772671a3",
   "metadata": {},
   "source": [
    "#### Slicing con paso positivo"
   ]
  },
  {
   "cell_type": "code",
   "execution_count": 252,
   "id": "1e5b0a78",
   "metadata": {},
   "outputs": [
    {
     "name": "stdout",
     "output_type": "stream",
     "text": [
      "Slicing con paso positivo\n",
      "['P', 'y', 't', 'h', 'o', 'n', 'L', 'a', 'P', 'a', 'z']\n",
      "['P', 'h', 'L']\n"
     ]
    }
   ],
   "source": [
    "print (\"Slicing con paso positivo\")\n",
    "lista = [\"P\", \"y\", \"t\", \"h\", \"o\", \"n\", \"L\", \"a\", \"P\", \"a\", \"z\"]\n",
    "print (lista)\n",
    "sub_lista = lista[0:9:3]\n",
    "print (sub_lista)"
   ]
  },
  {
   "cell_type": "markdown",
   "id": "c30da7a6",
   "metadata": {},
   "source": [
    "#### Slicing con paso negativo"
   ]
  },
  {
   "cell_type": "code",
   "execution_count": 253,
   "id": "5c6f6b3b",
   "metadata": {},
   "outputs": [
    {
     "name": "stdout",
     "output_type": "stream",
     "text": [
      "Slicing con paso negativo\n",
      "['P', 'y', 't', 'h', 'o', 'n', 'L', 'a', 'P', 'a', 'z']\n",
      "['P', 'o']\n"
     ]
    }
   ],
   "source": [
    "print (\"Slicing con paso negativo\")\n",
    "lista = [\"P\", \"y\", \"t\", \"h\", \"o\", \"n\", \"L\", \"a\", \"P\", \"a\", \"z\"]\n",
    "print (lista)\n",
    "sub_lista = lista[8:2:-4]\n",
    "print (sub_lista)"
   ]
  },
  {
   "cell_type": "markdown",
   "id": "9326fca0",
   "metadata": {},
   "source": [
    "#### Slicing negativo con paso negativo"
   ]
  },
  {
   "cell_type": "code",
   "execution_count": 254,
   "id": "03a8067c",
   "metadata": {},
   "outputs": [
    {
     "name": "stdout",
     "output_type": "stream",
     "text": [
      "Slicing negativo con paso negativo\n",
      "['P', 'y', 't', 'h', 'o', 'n', 'L', 'a', 'P', 'a', 'z']\n",
      "['z', 'P', 'L', 'o']\n"
     ]
    }
   ],
   "source": [
    "print (\"Slicing negativo con paso negativo\")\n",
    "lista = [\"P\", \"y\", \"t\", \"h\", \"o\", \"n\", \"L\", \"a\", \"P\", \"a\", \"z\"]\n",
    "print (lista)\n",
    "sub_lista = lista[-1:-8:-2]\n",
    "print (sub_lista)"
   ]
  },
  {
   "cell_type": "markdown",
   "id": "7eb45df2",
   "metadata": {},
   "source": [
    "#### Slicing negativo con paso positivo"
   ]
  },
  {
   "cell_type": "code",
   "execution_count": 255,
   "id": "10ed87eb",
   "metadata": {},
   "outputs": [
    {
     "name": "stdout",
     "output_type": "stream",
     "text": [
      "Slicing negativo con paso positivo\n",
      "['P', 'y', 't', 'h', 'o', 'n', 'L', 'a', 'P', 'a', 'z']\n",
      "['h', 'n', 'a', 'a']\n"
     ]
    }
   ],
   "source": [
    "print (\"Slicing negativo con paso positivo\")\n",
    "lista = [\"P\", \"y\", \"t\", \"h\", \"o\", \"n\", \"L\", \"a\", \"P\", \"a\", \"z\"]\n",
    "print (lista)\n",
    "sub_lista = lista[-8:-1:2]\n",
    "print (sub_lista)"
   ]
  },
  {
   "cell_type": "markdown",
   "id": "1584633e",
   "metadata": {},
   "source": [
    "## Concatenacion de listas"
   ]
  },
  {
   "cell_type": "markdown",
   "id": "37d8e3c1",
   "metadata": {},
   "source": [
    "Las listas se pueden concatenar utilizando el operador +\n",
    "\n",
    "El resultado es una nueva lista con los elementos de las listas originales"
   ]
  },
  {
   "cell_type": "code",
   "execution_count": 256,
   "id": "fdc5a1f8",
   "metadata": {},
   "outputs": [
    {
     "name": "stdout",
     "output_type": "stream",
     "text": [
      "Concatenación de listas\n",
      "[1, 2, 3] ['a', 'b', 'c']\n",
      "[1, 2, 3, 'a', 'b', 'c']\n",
      "<class 'list'>\n"
     ]
    }
   ],
   "source": [
    "print (\"Concatenación de listas\")\n",
    "lista1 = [1,2,3]\n",
    "lista2 = [\"a\",\"b\",\"c\"]\n",
    "concatenar = lista1 + lista2\n",
    "print (lista1, lista2)\n",
    "print (concatenar)\n",
    "print (type(concatenar))"
   ]
  },
  {
   "cell_type": "markdown",
   "id": "1540d552",
   "metadata": {},
   "source": [
    "## Repeticion de listas \n",
    "\n",
    "Las listas se pueden repetir utilizando * y un numero entero que indica las veces "
   ]
  },
  {
   "cell_type": "code",
   "execution_count": 257,
   "id": "0f3a3af8",
   "metadata": {},
   "outputs": [
    {
     "name": "stdout",
     "output_type": "stream",
     "text": [
      "Repetición de listas\n",
      "[True, False]\n",
      "[True, False, True, False, True, False]\n",
      "<class 'list'>\n"
     ]
    }
   ],
   "source": [
    "print (\"Repetición de listas\")\n",
    "lista = [True, False]\n",
    "repetir = lista * 3\n",
    "print (lista)\n",
    "print (repetir)\n",
    "print (type(repetir))"
   ]
  },
  {
   "cell_type": "markdown",
   "id": "a8cbfcbf",
   "metadata": {},
   "source": [
    "## Metodos de listas\n",
    "Las listas al ser mutables tiene una mayor cantidad de métodos que las tuplas\n",
    "### - Metodos de busqueda\n",
    "Los metodos de busqueda permiten buscar informacion en la lista\n",
    "- index()\n",
    "- count()"
   ]
  },
  {
   "cell_type": "markdown",
   "id": "1d3547c0",
   "metadata": {},
   "source": [
    "index(valor) recibe un valor y devuelve el índice de la primera aparición en la lista, si no existe lanza un error"
   ]
  },
  {
   "cell_type": "code",
   "execution_count": 258,
   "id": "4e284459",
   "metadata": {},
   "outputs": [
    {
     "name": "stdout",
     "output_type": "stream",
     "text": [
      "Método index(valor)\n",
      "hola 3\n",
      "3.14 2\n"
     ]
    }
   ],
   "source": [
    "print (\"Método index(valor)\")\n",
    "lista = [1,True,3.14,\"hola\",5]\n",
    "valor = \"hola\"\n",
    "print (valor, lista.index(valor))\n",
    "valor = 3.14\n",
    "print (valor, lista.index(valor))"
   ]
  },
  {
   "cell_type": "markdown",
   "id": "1af3d011",
   "metadata": {},
   "source": [
    "count(valor) recibe un valor y devuelve el número de veces que aparece en la lista"
   ]
  },
  {
   "cell_type": "code",
   "execution_count": 259,
   "id": "e8ac6a85",
   "metadata": {},
   "outputs": [
    {
     "name": "stdout",
     "output_type": "stream",
     "text": [
      "Método count(valor)\n",
      "True 4\n",
      "3.14 2\n"
     ]
    }
   ],
   "source": [
    "print (\"Método count(valor)\")\n",
    "lista = [1,True,3.14,\"hola\",5, True, True, 3.140]\n",
    "valor = True\n",
    "print (valor, lista.count(valor))\n",
    "valor = 3.14\n",
    "print (valor, lista.count(valor))"
   ]
  },
  {
   "cell_type": "markdown",
   "id": "fdb1abcf",
   "metadata": {},
   "source": [
    "### - Metodos de adicion\n",
    "Los métodos de adición nos permiten agregar elementos a la lista\n",
    "\n",
    "- insert()\n",
    "- append()\n",
    "- extend()"
   ]
  },
  {
   "cell_type": "markdown",
   "id": "06c35c68",
   "metadata": {},
   "source": [
    "insert(i, valor) recibe un índice y un valor, inserta el valor en la posición del índice"
   ]
  },
  {
   "cell_type": "code",
   "execution_count": 260,
   "id": "47db17bf",
   "metadata": {},
   "outputs": [
    {
     "name": "stdout",
     "output_type": "stream",
     "text": [
      "Método insert(i, valor)\n",
      "[1, 2, 3, 4, 5]\n",
      "[1, 2, 'OwO', 3, 4, 5]\n"
     ]
    }
   ],
   "source": [
    "print (\"Método insert(i, valor)\")\n",
    "lista = [1,2,3,4,5]\n",
    "print (lista)\n",
    "lista.insert(2, \"OwO\")\n",
    "print (lista)"
   ]
  },
  {
   "cell_type": "markdown",
   "id": "06865a39",
   "metadata": {},
   "source": [
    "append(valor) recibe un valor y lo agrega al final de la lista"
   ]
  },
  {
   "cell_type": "code",
   "execution_count": 261,
   "id": "9b0807d9",
   "metadata": {},
   "outputs": [
    {
     "name": "stdout",
     "output_type": "stream",
     "text": [
      "Método append(valor)\n",
      "[1, 2, 3, 4, 5]\n",
      "[1, 2, 3, 4, 5, '(OwO=)']\n"
     ]
    }
   ],
   "source": [
    "print (\"Método append(valor)\")\n",
    "lista = [1,2,3,4,5]\n",
    "print (lista)\n",
    "lista.append(\"(OwO=)\")\n",
    "print (lista)"
   ]
  },
  {
   "cell_type": "markdown",
   "id": "b4e421ed",
   "metadata": {},
   "source": [
    "extend(iterable) recibe una secuencia y agrega sus elementos al final de la lista como otra lista, tupla, cadena"
   ]
  },
  {
   "cell_type": "code",
   "execution_count": 262,
   "id": "9fd51d1c",
   "metadata": {},
   "outputs": [
    {
     "name": "stdout",
     "output_type": "stream",
     "text": [
      "Método extend(iterable)\n",
      "[1, 2, 3]\n",
      "[1, 2, 3, ':', '3']\n",
      "[1, 2, 3, ':', '3', '(¬_¬ )', '(O_O=)']\n",
      "[1, 2, 3, ':', '3', '(¬_¬ )', '(O_O=)', '😅', '😎']\n"
     ]
    }
   ],
   "source": [
    "print (\"Método extend(iterable)\")\n",
    "lista = [1,2,3]\n",
    "print (lista)\n",
    "lista.extend(\":3\")\n",
    "print (lista)\n",
    "lista.extend([\"(¬_¬ )\", \"(O_O=)\"])\n",
    "print (lista)\n",
    "lista.extend((\"😅\", \"😎\"))\n",
    "print (lista)"
   ]
  },
  {
   "cell_type": "markdown",
   "id": "7699423f",
   "metadata": {},
   "source": [
    "### - Metodos de eliminacion\n",
    "Los métodos de eliminación nos permiten eliminar elementos de la lista\n",
    "\n",
    "- remove()\n",
    "- clear()\n",
    "- pop(), retorna el valor eliminado "
   ]
  },
  {
   "cell_type": "markdown",
   "id": "b87b50a9",
   "metadata": {},
   "source": [
    "remove(valor) recibe un valor y elimina la primera aparición de ese valor en la lista si no existe lanza un error"
   ]
  },
  {
   "cell_type": "code",
   "execution_count": 263,
   "id": "16ac195d",
   "metadata": {},
   "outputs": [
    {
     "name": "stdout",
     "output_type": "stream",
     "text": [
      "Método remove(valor)\n",
      "[1, 2, 'UwU', 4, 5, 'UwU']\n",
      "[1, 2, 4, 5, 'UwU']\n"
     ]
    }
   ],
   "source": [
    "print (\"Método remove(valor)\")\n",
    "lista = [1,2,\"UwU\",4,5, \"UwU\"]\n",
    "print (lista)\n",
    "lista.remove(\"UwU\")\n",
    "print (lista)"
   ]
  },
  {
   "cell_type": "markdown",
   "id": "d0e307c4",
   "metadata": {},
   "source": [
    "pop(i) o pop() recibe un index o índice y elimina el elemento en esa posición"
   ]
  },
  {
   "cell_type": "code",
   "execution_count": 264,
   "id": "ebd954a7",
   "metadata": {},
   "outputs": [
    {
     "name": "stdout",
     "output_type": "stream",
     "text": [
      "Método pop(i)\n",
      "['OwO', 3, 'UwU', 5]\n",
      "['OwO', 'UwU', 5]\n",
      "Método pop()\n",
      "['OwO', 'UwU']\n"
     ]
    }
   ],
   "source": [
    "print (\"Método pop(i)\")\n",
    "lista = [\"OwO\",3,\"UwU\",5]\n",
    "print (lista)\n",
    "lista.pop(1)\n",
    "print (lista)\n",
    "print (\"Método pop()\")\n",
    "lista.pop()\n",
    "print (lista)"
   ]
  },
  {
   "cell_type": "markdown",
   "id": "c5a49378",
   "metadata": {},
   "source": [
    "clear() elimina todos los elementos de la lista dejándola vacía"
   ]
  },
  {
   "cell_type": "code",
   "execution_count": 265,
   "id": "a448d8dd",
   "metadata": {},
   "outputs": [
    {
     "name": "stdout",
     "output_type": "stream",
     "text": [
      "Método clear()\n",
      "['ewe', 'OwO', 'UwU']\n",
      "[]\n"
     ]
    }
   ],
   "source": [
    "print (\"Método clear()\")\n",
    "lista = [\"ewe\",\"OwO\",\"UwU\"]\n",
    "print (lista)\n",
    "lista.clear()\n",
    "print (lista)"
   ]
  },
  {
   "cell_type": "markdown",
   "id": "65a5a505",
   "metadata": {},
   "source": [
    "### - Metodos de ordenamiento\n",
    "Los métodos de reordenar nos permiten ordenar los elementos de la lista\n",
    "\n",
    "- sort()\n",
    "- reverse()"
   ]
  },
  {
   "cell_type": "markdown",
   "id": "7c2cacc3",
   "metadata": {},
   "source": [
    "sort() ordena los elementos de la lista de menor a mayor"
   ]
  },
  {
   "cell_type": "code",
   "execution_count": 266,
   "id": "92ac4434",
   "metadata": {},
   "outputs": [
    {
     "name": "stdout",
     "output_type": "stream",
     "text": [
      "Método sort()\n",
      "[3, 1, 5, 2, 4]\n",
      "[1, 2, 3, 4, 5]\n"
     ]
    }
   ],
   "source": [
    "print (\"Método sort()\")\n",
    "lista = [3,1,5,2,4]\n",
    "print (lista)\n",
    "lista.sort()\n",
    "print (lista)"
   ]
  },
  {
   "cell_type": "markdown",
   "id": "62ccb603",
   "metadata": {},
   "source": [
    "sort(reverse=True) ordena los elementos de la lista de mayor a menor"
   ]
  },
  {
   "cell_type": "code",
   "execution_count": null,
   "id": "be46c945",
   "metadata": {},
   "outputs": [],
   "source": [
    "print (\"Método sort()\")\n",
    "lista = [3,1,5,2,4]\n",
    "print (lista)\n",
    "lista.sort(reverse=True)\n",
    "print (lista)"
   ]
  },
  {
   "cell_type": "markdown",
   "id": "50d29a0d",
   "metadata": {},
   "source": [
    "reverse() invierte el orden de los elementos de la lista"
   ]
  },
  {
   "cell_type": "code",
   "execution_count": 267,
   "id": "6bbc8c6a",
   "metadata": {},
   "outputs": [
    {
     "name": "stdout",
     "output_type": "stream",
     "text": [
      "Método reverse()\n",
      "[3, 1, 5, 2, 4]\n",
      "[4, 2, 5, 1, 3]\n"
     ]
    }
   ],
   "source": [
    "print (\"Método reverse()\")\n",
    "lista = [3,1,5,2,4]\n",
    "print (lista)\n",
    "lista.reverse()\n",
    "print (lista)"
   ]
  },
  {
   "cell_type": "markdown",
   "id": "3d7c2643",
   "metadata": {},
   "source": [
    "### - Metodos de copia\n",
    "Los métodos de copia nos permiten copiar los elementos de la lista\n",
    "\n",
    "- copy()"
   ]
  },
  {
   "cell_type": "code",
   "execution_count": 268,
   "id": "8345081b",
   "metadata": {},
   "outputs": [
    {
     "name": "stdout",
     "output_type": "stream",
     "text": [
      "Asignación de lista\n",
      "[1, 2, 3, 4, 5]\n",
      "[6, 2, 3, 4, 5]\n",
      "[6, 2, 3, 4, 5]\n"
     ]
    }
   ],
   "source": [
    "print (\"Asignación de lista\")\n",
    "lista = [1,2,3,4,5]\n",
    "print (lista)\n",
    "copia = lista\n",
    "copia[0] = 6\n",
    "print (copia)\n",
    "print (lista)"
   ]
  },
  {
   "cell_type": "markdown",
   "id": "84c74c4f",
   "metadata": {},
   "source": [
    "Para crear una copia de la lista se debe utilizar el método copy() o el slicing [:]"
   ]
  },
  {
   "cell_type": "code",
   "execution_count": 269,
   "id": "cc4950bc",
   "metadata": {},
   "outputs": [
    {
     "name": "stdout",
     "output_type": "stream",
     "text": [
      "Método copia con slicing\n",
      "[1, 2, 3, 4, 5]\n",
      "[6, 2, 3, 4, 5]\n",
      "[1, 2, 3, 4, 5]\n"
     ]
    }
   ],
   "source": [
    "print (\"Método copia con slicing\")\n",
    "lista = [1,2,3,4,5]\n",
    "print (lista)\n",
    "copia = lista[:]\n",
    "copia[0] = 6\n",
    "print (copia)\n",
    "print (lista)"
   ]
  },
  {
   "cell_type": "markdown",
   "id": "3ab04771",
   "metadata": {},
   "source": [
    "copy() devuelve una copia de la lista es equivalente al slicing [:]"
   ]
  },
  {
   "cell_type": "code",
   "execution_count": 270,
   "id": "69958701",
   "metadata": {},
   "outputs": [
    {
     "name": "stdout",
     "output_type": "stream",
     "text": [
      "Método copy()\n",
      "[3, 1, 5, 2, 4]\n",
      "[3, 1, 5, 2, 4]\n",
      "True\n"
     ]
    }
   ],
   "source": [
    "print (\"Método copy()\")\n",
    "lista = [3,1,5,2,4]\n",
    "print (lista)\n",
    "copia = lista.copy()\n",
    "print (copia)\n",
    "print (copia == lista)"
   ]
  },
  {
   "cell_type": "code",
   "execution_count": 271,
   "id": "edf577f0",
   "metadata": {},
   "outputs": [
    {
     "name": "stdout",
     "output_type": "stream",
     "text": [
      "Método copia con slicing\n",
      "[1, 2, 3, 4, 5]\n",
      "[6, 2, 3, 4, 5]\n",
      "[1, 2, 3, 4, 5]\n"
     ]
    }
   ],
   "source": [
    "print (\"Método copia con slicing\")\n",
    "lista = [1,2,3,4,5]\n",
    "print (lista)\n",
    "copia = lista.copy()\n",
    "copia[0] = 6\n",
    "print (copia)\n",
    "print (lista)"
   ]
  },
  {
   "cell_type": "markdown",
   "id": "d4604fd2",
   "metadata": {},
   "source": [
    "## Fuciones con listas\n",
    "Las listas interactúan con funciones propias de python que acepten secuencias de datos\n",
    "- len()\n",
    "- max()\n",
    "- min()\n",
    "- sum()"
   ]
  },
  {
   "cell_type": "code",
   "execution_count": 272,
   "id": "570e7b0a",
   "metadata": {},
   "outputs": [
    {
     "name": "stdout",
     "output_type": "stream",
     "text": [
      "Función len()\n",
      "[1, True, 3.14, '🐍', 5]\n",
      "5\n"
     ]
    }
   ],
   "source": [
    "print (\"Función len()\")\n",
    "lista = [1,True,3.14,\"🐍\",5]\n",
    "print (lista)\n",
    "print (len(lista))"
   ]
  },
  {
   "cell_type": "markdown",
   "id": "e64b7e2e",
   "metadata": {},
   "source": [
    "max() devuelve el valor máximo de la lista o el elemento más grande\n",
    "\n",
    "Si la lista contiene cadenas devuelve el valor máximo en orden alfabético"
   ]
  },
  {
   "cell_type": "code",
   "execution_count": 273,
   "id": "7cf3adab",
   "metadata": {},
   "outputs": [
    {
     "name": "stdout",
     "output_type": "stream",
     "text": [
      "Función max()\n",
      "[1, 2, 3, 4, 5]\n",
      "5\n",
      "['a', 'b', 'c', 'd', 'e']\n",
      "e\n"
     ]
    }
   ],
   "source": [
    "print (\"Función max()\")\n",
    "lista = [1,2,3,4,5]\n",
    "print (lista)\n",
    "print (max(lista))\n",
    "lista = [\"a\",\"b\",\"c\",\"d\",\"e\"]\n",
    "print (lista)\n",
    "print (max(lista))"
   ]
  },
  {
   "cell_type": "markdown",
   "id": "b7139ac4",
   "metadata": {},
   "source": [
    "min() devuelve el valor mínimo de la lista o el elemento más pequeño\n",
    "\n",
    "Si la lista contiene cadenas devuelve el valor mínimo en orden alfabético"
   ]
  },
  {
   "cell_type": "code",
   "execution_count": 274,
   "id": "f85cc48e",
   "metadata": {},
   "outputs": [
    {
     "name": "stdout",
     "output_type": "stream",
     "text": [
      "Función min()\n",
      "[1, 2, 3, 4, 5]\n",
      "1\n",
      "['a', 'b', 'c', 'd', 'e']\n",
      "a\n"
     ]
    }
   ],
   "source": [
    "print (\"Función min()\")\n",
    "lista = [1,2,3,4,5]\n",
    "print (lista)\n",
    "print (min(lista))\n",
    "lista = [\"a\",\"b\",\"c\",\"d\",\"e\"]\n",
    "print (lista)\n",
    "print (min(lista))"
   ]
  },
  {
   "cell_type": "markdown",
   "id": "3e7db062",
   "metadata": {},
   "source": [
    "sum() devuelve la suma de los elementos de la lista\n",
    "\n",
    "Se debe asegurar que los elementos de la lista sean numéricos"
   ]
  },
  {
   "cell_type": "code",
   "execution_count": 275,
   "id": "a3b780e9",
   "metadata": {},
   "outputs": [
    {
     "name": "stdout",
     "output_type": "stream",
     "text": [
      "Función sum()\n",
      "[1, 2, 3, 4, 5]\n",
      "15\n"
     ]
    }
   ],
   "source": [
    "print (\"Función sum()\")\n",
    "lista = [1,2,3,4,5]\n",
    "print (lista)\n",
    "print (sum(lista))"
   ]
  },
  {
   "cell_type": "markdown",
   "id": "cf812b82",
   "metadata": {},
   "source": [
    "## Comparacion de listas \n",
    "Podemos consultar si una lista contiene un elemento específico utilizando el operador in, not in\n",
    "\n",
    "Si una variable hace referencia a otra variable podemos utilizar el is , is not, para comparar si son la misma lista\n",
    "\n",
    "#### in - not in"
   ]
  },
  {
   "cell_type": "code",
   "execution_count": 276,
   "id": "59d994de",
   "metadata": {},
   "outputs": [
    {
     "name": "stdout",
     "output_type": "stream",
     "text": [
      "Comparación de listas in - not in\n",
      "[1, 2, 3, 4, 5]\n",
      "True\n",
      "False\n",
      "False\n",
      "True\n",
      "False\n"
     ]
    }
   ],
   "source": [
    "print (\"Comparación de listas in - not in\")\n",
    "lista = [1,2,3,4,5]\n",
    "print (lista)\n",
    "print (3 in lista)\n",
    "print (6 in lista)\n",
    "print (3 not in lista)\n",
    "print (6 not in lista)\n",
    "print ([1,2,3] in lista)"
   ]
  },
  {
   "cell_type": "markdown",
   "id": "74fe6190",
   "metadata": {},
   "source": [
    "#### is - is not"
   ]
  },
  {
   "cell_type": "code",
   "execution_count": 277,
   "id": "7401a625",
   "metadata": {},
   "outputs": [
    {
     "name": "stdout",
     "output_type": "stream",
     "text": [
      "Comparación de listas is - is not\n",
      "[1, 2, 3, 4, 5] [1, 2, 3, 4, 5] [1, 2]\n",
      "False\n",
      "True\n",
      "False\n"
     ]
    }
   ],
   "source": [
    "print (\"Comparación de listas is - is not\")\n",
    "lista1 = [1,2,3,4,5]\n",
    "lista2 = [1,2,3,4,5]\n",
    "lista3 = [1,2]\n",
    "print (lista1, lista2, lista3)\n",
    "print (lista1 is lista2)\n",
    "print (lista1 is not lista2)\n",
    "print (lista3 is lista1)"
   ]
  },
  {
   "cell_type": "markdown",
   "id": "8d67856a",
   "metadata": {},
   "source": [
    "## Operadores de comparcion \n",
    "Podemos comparar listas utilizando los operadores de comparación, estos comparan los elementos de las listas uno a uno"
   ]
  },
  {
   "cell_type": "code",
   "execution_count": 278,
   "id": "62f482e4",
   "metadata": {},
   "outputs": [
    {
     "name": "stdout",
     "output_type": "stream",
     "text": [
      "Menor y Menor Igual que\n",
      "True\n",
      "False\n",
      "True\n",
      "False\n",
      "True\n"
     ]
    }
   ],
   "source": [
    "print (\"Menor y Menor Igual que\")\n",
    "print ([1,2,3] <= [1,2,4])\n",
    "print ([1,2,3] <= [1,2,2,2])\n",
    "print ([1,2,3] <= [2])\n",
    "print ([1,2,3] < [1,2,3])\n",
    "print ([1,2,3] <= [1,2,3])"
   ]
  },
  {
   "cell_type": "code",
   "execution_count": 279,
   "id": "695e1616",
   "metadata": {},
   "outputs": [
    {
     "name": "stdout",
     "output_type": "stream",
     "text": [
      "Mayor y Mayor Igual que\n",
      "False\n",
      "True\n",
      "False\n",
      "False\n",
      "True\n"
     ]
    }
   ],
   "source": [
    "print (\"Mayor y Mayor Igual que\")\n",
    "print ([1,2,3] >= [1,2,4])\n",
    "print ([1,2,3] >= [1,2,2,2])\n",
    "print ([1,2,3] >= [2])\n",
    "print ([1,2,3] > [1,2,3])\n",
    "print ([1,2,3] >= [1,2,3])"
   ]
  },
  {
   "cell_type": "code",
   "execution_count": 280,
   "id": "95f40e2c",
   "metadata": {},
   "outputs": [
    {
     "name": "stdout",
     "output_type": "stream",
     "text": [
      "Igual y Desigual que\n",
      "True\n",
      "False\n",
      "False\n",
      "True\n"
     ]
    }
   ],
   "source": [
    "print (\"Igual y Desigual que\")\n",
    "print ([1,2,3] == [1,2,3])\n",
    "print ([1,2,3] == [1,2,4])\n",
    "print ([1,2,3] != [1,2,3])\n",
    "print ([1,2,3] != [1,2,4])"
   ]
  },
  {
   "cell_type": "markdown",
   "id": "49d9fe02",
   "metadata": {},
   "source": [
    "## Listas anidadas\n",
    "Las lsitas anidadas son listas que contienen otras listas como elementos "
   ]
  },
  {
   "cell_type": "code",
   "execution_count": 281,
   "id": "222273dd",
   "metadata": {},
   "outputs": [
    {
     "name": "stdout",
     "output_type": "stream",
     "text": [
      "Listas anidadas\n",
      "[1, 2, 3, [4, 5, 6]]\n",
      "<class 'list'>\n",
      "[4, 5, 6]\n",
      "<class 'list'>\n",
      "5\n",
      "<class 'int'>\n"
     ]
    }
   ],
   "source": [
    "print (\"Listas anidadas\")\n",
    "lista = [1,2,3,[4,5,6]]\n",
    "print (lista)\n",
    "print (type(lista))\n",
    "valor_lista = lista[3]\n",
    "print (valor_lista)\n",
    "print (type(valor_lista))\n",
    "valor = valor_lista[1]\n",
    "print (valor)\n",
    "print (type(valor))"
   ]
  }
 ],
 "metadata": {
  "kernelspec": {
   "display_name": "Python 3",
   "language": "python",
   "name": "python3"
  },
  "language_info": {
   "codemirror_mode": {
    "name": "ipython",
    "version": 3
   },
   "file_extension": ".py",
   "mimetype": "text/x-python",
   "name": "python",
   "nbconvert_exporter": "python",
   "pygments_lexer": "ipython3",
   "version": "3.13.3"
  }
 },
 "nbformat": 4,
 "nbformat_minor": 5
}
