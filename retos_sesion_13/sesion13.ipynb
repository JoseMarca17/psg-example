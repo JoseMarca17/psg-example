{
 "cells": [
  {
   "cell_type": "markdown",
   "id": "9f17f09a",
   "metadata": {},
   "source": [
    "# SENTENCIAS ITERATIVAS\n",
    "En python existen dos ciclos: \n",
    "- ciclo for\n",
    "- ciclo while \n",
    "## Ciclo FOR\n",
    "Usamos range para tener una secuencia inmatable de numeros\n",
    "\n",
    "Puede recibir tres argumentos, el inicio, final y el paso "
   ]
  },
  {
   "cell_type": "code",
   "execution_count": 87,
   "id": "021aac16",
   "metadata": {},
   "outputs": [
    {
     "data": {
      "text/plain": [
       "range(10, 0, -1)"
      ]
     },
     "execution_count": 87,
     "metadata": {},
     "output_type": "execute_result"
    }
   ],
   "source": [
    "range(0, 5)\n",
    "# Con tres argumentos \n",
    "range(1, 10, 2)\n",
    "# Puede ser negativo\n",
    "range(10, 0, -1)\n"
   ]
  },
  {
   "cell_type": "markdown",
   "id": "57388216",
   "metadata": {},
   "source": [
    "Podemos convertir el rango en una lista "
   ]
  },
  {
   "cell_type": "code",
   "execution_count": 88,
   "id": "4a529fd2",
   "metadata": {},
   "outputs": [
    {
     "name": "stdout",
     "output_type": "stream",
     "text": [
      "[0, 1, 2, 3, 4]\n"
     ]
    }
   ],
   "source": [
    "print(list(range(5)))"
   ]
  },
  {
   "cell_type": "markdown",
   "id": "759f69de",
   "metadata": {},
   "source": [
    "### Como se declara un for con range()"
   ]
  },
  {
   "cell_type": "code",
   "execution_count": 89,
   "id": "8f6d8589",
   "metadata": {},
   "outputs": [
    {
     "name": "stdout",
     "output_type": "stream",
     "text": [
      "0\n",
      "2\n",
      "4\n",
      "6\n",
      "8\n"
     ]
    }
   ],
   "source": [
    "inicio = 0\n",
    "fin = 10\n",
    "paso = 2\n",
    "for variable in range(inicio, fin, paso):\n",
    "    print(variable)"
   ]
  },
  {
   "cell_type": "code",
   "execution_count": 90,
   "id": "b78d709d",
   "metadata": {},
   "outputs": [
    {
     "name": "stdout",
     "output_type": "stream",
     "text": [
      "0\n",
      "1\n",
      "2\n",
      "3\n",
      "4\n",
      "4\n"
     ]
    }
   ],
   "source": [
    "for i in range(5):\n",
    "    print(i)\n",
    "print(i)"
   ]
  },
  {
   "cell_type": "markdown",
   "id": "3ac64f68",
   "metadata": {},
   "source": [
    "Su estructura de control es:"
   ]
  },
  {
   "cell_type": "code",
   "execution_count": 91,
   "id": "2302aff4",
   "metadata": {},
   "outputs": [
    {
     "name": "stdout",
     "output_type": "stream",
     "text": [
      "Inicio\n",
      "0\n",
      "1\n",
      "2\n",
      "3\n",
      "4\n",
      "Fin\n"
     ]
    }
   ],
   "source": [
    "print (\"Inicio\")\n",
    "for i in range(5): # rango (0,5,1)\n",
    "    print(i)\n",
    "print (\"Fin\")"
   ]
  },
  {
   "cell_type": "code",
   "execution_count": 92,
   "id": "58db8f6b",
   "metadata": {},
   "outputs": [
    {
     "name": "stdout",
     "output_type": "stream",
     "text": [
      "Ejemplo 1\n",
      "25\n"
     ]
    }
   ],
   "source": [
    "print (\"Ejemplo 1\")\n",
    "suma = 0\n",
    "for i in range(1, 11, 2): # 1, 3, 5, 7, 9\n",
    "    suma = suma + i #suma += i\n",
    "print(suma)"
   ]
  },
  {
   "cell_type": "code",
   "execution_count": 93,
   "id": "4d03d688",
   "metadata": {},
   "outputs": [
    {
     "name": "stdout",
     "output_type": "stream",
     "text": [
      "Ejemplo 2\n",
      "     *\n",
      "    ***\n",
      "   *****\n",
      "  *******\n",
      " *********\n",
      "***********\n"
     ]
    }
   ],
   "source": [
    "print (\"Ejemplo 2\")\n",
    "for i in range(0, 6):\n",
    "    print(\" \"*(5-i) + \"*\"*i*2+\"*\")"
   ]
  },
  {
   "cell_type": "code",
   "execution_count": 94,
   "id": "c3170452",
   "metadata": {},
   "outputs": [
    {
     "name": "stdout",
     "output_type": "stream",
     "text": [
      "Ejemplo 3\n",
      "1 4 9 16 25 36 49 64 81 100 "
     ]
    }
   ],
   "source": [
    "print (\"Ejemplo 3\")\n",
    "for i in range(1, 11):\n",
    "    print(i**2, end=\" \")"
   ]
  },
  {
   "cell_type": "code",
   "execution_count": 95,
   "id": "e4362603",
   "metadata": {},
   "outputs": [
    {
     "name": "stdout",
     "output_type": "stream",
     "text": [
      "Ejemplo 4\n",
      "[0, 2, 4, 6, 8, 10]\n"
     ]
    }
   ],
   "source": [
    "print (\"Ejemplo 4\")\n",
    "pares = []\n",
    "for i in range(0, 11, 2):\n",
    "    pares.append(i)\n",
    "print(pares)"
   ]
  },
  {
   "cell_type": "code",
   "execution_count": 96,
   "id": "9764fffb",
   "metadata": {},
   "outputs": [
    {
     "name": "stdout",
     "output_type": "stream",
     "text": [
      "Ejercicio 1\n",
      "1 8 27 64 125 216 343 512 729 1000 "
     ]
    }
   ],
   "source": [
    "print (\"Ejercicio 1\")\n",
    "for i in range(1, 11):\n",
    "    print(i**3, end=\" \")"
   ]
  },
  {
   "cell_type": "markdown",
   "id": "fc4f727c",
   "metadata": {},
   "source": [
    "### For con secuencias "
   ]
  },
  {
   "cell_type": "code",
   "execution_count": 97,
   "id": "d61abe3e",
   "metadata": {},
   "outputs": [
    {
     "name": "stdout",
     "output_type": "stream",
     "text": [
      "🍎\n",
      "🍌\n",
      "🍇\n",
      "🍉\n"
     ]
    }
   ],
   "source": [
    "for fruta in ['🍎','🍌','🍇','🍉']:\n",
    "    print(fruta)"
   ]
  },
  {
   "cell_type": "code",
   "execution_count": 98,
   "id": "efcf963a",
   "metadata": {},
   "outputs": [
    {
     "name": "stdout",
     "output_type": "stream",
     "text": [
      "Ejemplo 5\n",
      "🎄\n",
      "🎆\n",
      "🎁\n",
      "🎊\n",
      "✨\n",
      "🧨\n"
     ]
    }
   ],
   "source": [
    "print (\"Ejemplo 5\")\n",
    "fiesta = ['🎄','🎆','🎁','🎊','✨','🧨']\n",
    "for objeto in fiesta:\n",
    "    print(objeto)"
   ]
  },
  {
   "cell_type": "code",
   "execution_count": 99,
   "id": "4dac5bb5",
   "metadata": {},
   "outputs": [
    {
     "name": "stdout",
     "output_type": "stream",
     "text": [
      "Ejemplo 6\n",
      "🍅, 🍇, 🍈, 🍉, 🍊, "
     ]
    }
   ],
   "source": [
    "print (\"Ejemplo 6\")\n",
    "frutas =  ('🍅','🍇','🍈','🍉','🍊')\n",
    "for fruta in frutas:\n",
    "    print(fruta, end=\", \")"
   ]
  },
  {
   "cell_type": "code",
   "execution_count": 100,
   "id": "e39e3108",
   "metadata": {},
   "outputs": [
    {
     "name": "stdout",
     "output_type": "stream",
     "text": [
      "Ejemplo 7\n",
      "🍅 Tomate\n",
      "🍇 Uva\n",
      "🍈 Melón\n",
      "🍉 Sandía\n",
      "🍊 Naranja\n"
     ]
    }
   ],
   "source": [
    "print (\"Ejemplo 7\")\n",
    "frutas = {'🍅':'Tomate','🍇':'Uva','🍈':'Melón','🍉':'Sandía','🍊':'Naranja'}\n",
    "for clave in frutas:\n",
    "    print(clave, frutas[clave])"
   ]
  },
  {
   "cell_type": "code",
   "execution_count": 101,
   "id": "73cdf10c",
   "metadata": {},
   "outputs": [
    {
     "name": "stdout",
     "output_type": "stream",
     "text": [
      "Ejemplo 8\n",
      "🥚->🐣->🐥->🐤->🐔->🍗->"
     ]
    }
   ],
   "source": [
    "print (\"Ejemplo 8\")\n",
    "ciclo_vida = '🥚🐣🐥🐤🐔🍗'\n",
    "for etapa in ciclo_vida:\n",
    "    print(etapa, end=\"->\")"
   ]
  },
  {
   "cell_type": "markdown",
   "id": "59eff869",
   "metadata": {},
   "source": [
    "Se puede recorrer elementos con indexación como listas y tuplas de 3 formas\n",
    "\n",
    "- Mediante in como pertenencia\n",
    "- Mediante len() y range()\n",
    "- Mediante enumerate()\n"
   ]
  },
  {
   "cell_type": "code",
   "execution_count": 102,
   "id": "9d73a5c2",
   "metadata": {},
   "outputs": [
    {
     "name": "stdout",
     "output_type": "stream",
     "text": [
      "Ejemplo 9\n",
      "🐶\n",
      "🐱\n",
      "🐰\n",
      "🐭\n"
     ]
    }
   ],
   "source": [
    "print (\"Ejemplo 9\")\n",
    "animales = ['🐶','🐱','🐰','🐭']\n",
    "for animal in animales:\n",
    "    print(animal)"
   ]
  },
  {
   "cell_type": "code",
   "execution_count": 103,
   "id": "47e4047d",
   "metadata": {},
   "outputs": [
    {
     "name": "stdout",
     "output_type": "stream",
     "text": [
      "Ejemplo 10\n",
      "🐶\n",
      "🐱\n",
      "🐰\n",
      "🐭\n"
     ]
    }
   ],
   "source": [
    "print (\"Ejemplo 10\")\n",
    "animales = ['🐶','🐱','🐰','🐭']\n",
    "for i in range(len(animales)):\n",
    "    print(animales[i])"
   ]
  },
  {
   "cell_type": "code",
   "execution_count": 104,
   "id": "38d4d6e6",
   "metadata": {},
   "outputs": [
    {
     "data": {
      "text/plain": [
       "<enumerate at 0x17e3e5a5f30>"
      ]
     },
     "execution_count": 104,
     "metadata": {},
     "output_type": "execute_result"
    }
   ],
   "source": [
    "enumerate(['🐶','🐱','🐰','🐭'])"
   ]
  },
  {
   "cell_type": "code",
   "execution_count": 105,
   "id": "e90d5729",
   "metadata": {},
   "outputs": [
    {
     "name": "stdout",
     "output_type": "stream",
     "text": [
      "Ejemplo 11\n",
      "0 🐶 🐶\n",
      "1 🐱 🐱\n",
      "2 🐰 🐰\n",
      "3 🐭 🐭\n"
     ]
    }
   ],
   "source": [
    "print (\"Ejemplo 11\")\n",
    "animales = ['🐶','🐱','🐰','🐭']\n",
    "for i, animal in enumerate(animales):\n",
    "    print(i, animal, animales[i])"
   ]
  },
  {
   "cell_type": "code",
   "execution_count": 106,
   "id": "b52c8cf5",
   "metadata": {},
   "outputs": [
    {
     "name": "stdout",
     "output_type": "stream",
     "text": [
      "Ejercicio 2\n",
      "⚽\n",
      "🏀🏀\n",
      "🏐🏐🏐\n",
      "🎱🎱🎱🎱\n"
     ]
    }
   ],
   "source": [
    "print (\"Ejercicio 2\")\n",
    "esferas = '⚽🏀🏐🎱'\n",
    "for i, esfera in enumerate(esferas):\n",
    "    print(esfera*(i+1))"
   ]
  },
  {
   "cell_type": "markdown",
   "id": "d0b94a91",
   "metadata": {},
   "source": [
    "## WHILE \n",
    "El ciclo while es un ciclo que se ejecuta mientras una condición sea verdadera\n",
    "\n",
    "Es como un ciclo for pero no se sabe cuantas veces se ejecutará\n",
    "\n",
    "Similar a un if pero se ejecuta varias veces"
   ]
  },
  {
   "cell_type": "code",
   "execution_count": 107,
   "id": "b34c6f86",
   "metadata": {},
   "outputs": [
    {
     "name": "stdout",
     "output_type": "stream",
     "text": [
      "Ejemplo 12\n",
      "0\n",
      "1\n",
      "2\n",
      "3\n",
      "4\n",
      "5\n"
     ]
    }
   ],
   "source": [
    "print (\"Ejemplo 12\")\n",
    "i = 0\n",
    "while i <= 5:\n",
    "    print(i)\n",
    "    i += 1"
   ]
  },
  {
   "cell_type": "code",
   "execution_count": 108,
   "id": "98ab606b",
   "metadata": {},
   "outputs": [
    {
     "name": "stdout",
     "output_type": "stream",
     "text": [
      "Ejemplo 13\n"
     ]
    },
    {
     "ename": "ValueError",
     "evalue": "invalid literal for int() with base 10: ''",
     "output_type": "error",
     "traceback": [
      "\u001b[31m---------------------------------------------------------------------------\u001b[39m",
      "\u001b[31mValueError\u001b[39m                                Traceback (most recent call last)",
      "\u001b[36mCell\u001b[39m\u001b[36m \u001b[39m\u001b[32mIn[108]\u001b[39m\u001b[32m, line 6\u001b[39m\n\u001b[32m      4\u001b[39m \u001b[38;5;28;01mwhile\u001b[39;00m numero != \u001b[32m0\u001b[39m:\n\u001b[32m      5\u001b[39m     suma += numero\n\u001b[32m----> \u001b[39m\u001b[32m6\u001b[39m     numero = \u001b[38;5;28;43mint\u001b[39;49m\u001b[43m(\u001b[49m\u001b[38;5;28;43minput\u001b[39;49m\u001b[43m(\u001b[49m\u001b[33;43m\"\u001b[39;49m\u001b[33;43mIngrese un número: \u001b[39;49m\u001b[33;43m\"\u001b[39;49m\u001b[43m)\u001b[49m\u001b[43m)\u001b[49m\n\u001b[32m      7\u001b[39m \u001b[38;5;28mprint\u001b[39m(suma)\n",
      "\u001b[31mValueError\u001b[39m: invalid literal for int() with base 10: ''"
     ]
    }
   ],
   "source": [
    "print (\"Ejemplo 13\")\n",
    "suma = 0\n",
    "numero = int(input(\"Ingrese un número: \"))\n",
    "while numero != 0:\n",
    "    suma += numero\n",
    "    numero = int(input(\"Ingrese un número: \"))\n",
    "print(suma)"
   ]
  },
  {
   "cell_type": "code",
   "execution_count": null,
   "id": "9f2e5bbf",
   "metadata": {},
   "outputs": [
    {
     "name": "stdout",
     "output_type": "stream",
     "text": [
      "Ejercicio 3\n",
      "1\n",
      "0\n"
     ]
    }
   ],
   "source": [
    "print (\"Ejercicio 3\")\n",
    "numero = int(input(\"Ingrese un número: \"))\n",
    "while numero >= 0:\n",
    "    print(numero)\n",
    "    numero -= 1"
   ]
  },
  {
   "cell_type": "markdown",
   "id": "96252e2a",
   "metadata": {},
   "source": [
    "### Break\n",
    "La sentencia break es una palabra reservada que se usa para salir de un ciclo"
   ]
  },
  {
   "cell_type": "code",
   "execution_count": null,
   "id": "82c00da2",
   "metadata": {},
   "outputs": [
    {
     "name": "stdout",
     "output_type": "stream",
     "text": [
      "Ejemplo 14\n",
      "🍎\n",
      "🍌\n",
      "🍇\n",
      "🍉\n",
      "🍊\n",
      "Fin\n"
     ]
    }
   ],
   "source": [
    "frutas = ['🍎','🍌','🍇','🍉','🍊','🐛','🍋','🍍']\n",
    "print (\"Ejemplo 14\")\n",
    "for fruta in frutas:\n",
    "    if fruta == '🐛':\n",
    "        break\n",
    "    print(fruta)\n",
    "print (\"Fin\")"
   ]
  },
  {
   "cell_type": "code",
   "execution_count": 109,
   "id": "935644eb",
   "metadata": {},
   "outputs": [
    {
     "name": "stdout",
     "output_type": "stream",
     "text": [
      "Ejemplo 15\n",
      "0\n",
      "1\n",
      "2\n",
      "3\n",
      "4\n",
      "5\n",
      "6\n",
      "7\n",
      "8\n",
      "9\n",
      "10\n",
      "11\n",
      "12\n",
      "13\n",
      "14\n",
      "15\n",
      "16\n",
      "17\n",
      "18\n",
      "19\n",
      "20\n",
      "21\n",
      "22\n",
      "23\n",
      "24\n",
      "25\n",
      "26\n",
      "27\n",
      "28\n",
      "29\n",
      "30\n",
      "31\n",
      "32\n",
      "33\n",
      "34\n",
      "35\n",
      "36\n",
      "37\n",
      "38\n",
      "39\n",
      "40\n",
      "41\n",
      "42\n",
      "43\n",
      "44\n",
      "45\n",
      "46\n",
      "47\n",
      "48\n",
      "49\n",
      "50\n",
      "51\n",
      "52\n",
      "53\n",
      "54\n",
      "55\n",
      "56\n",
      "57\n",
      "58\n",
      "59\n",
      "60\n",
      "61\n",
      "62\n",
      "63\n",
      "64\n",
      "65\n",
      "66\n",
      "67\n",
      "68\n",
      "69\n",
      "70\n",
      "71\n",
      "72\n",
      "73\n",
      "74\n",
      "75\n",
      "76\n",
      "77\n",
      "78\n",
      "79\n",
      "80\n",
      "81\n",
      "82\n",
      "83\n",
      "84\n",
      "85\n",
      "86\n",
      "87\n",
      "88\n",
      "89\n",
      "90\n",
      "91\n",
      "92\n",
      "93\n",
      "94\n",
      "95\n",
      "96\n",
      "97\n",
      "98\n",
      "99\n"
     ]
    }
   ],
   "source": [
    "print (\"Ejemplo 15\")\n",
    "contador = 0\n",
    "while True:\n",
    "    print(contador)\n",
    "    contador += 1\n",
    "    if contador == 100:\n",
    "        break"
   ]
  },
  {
   "cell_type": "code",
   "execution_count": null,
   "id": "28749658",
   "metadata": {},
   "outputs": [],
   "source": [
    "print (\"Ejemplo 16\")\n",
    "while True:\n",
    "    texto = input(\"Ingrese un texto: \")\n",
    "    if texto == 'salir':\n",
    "        break\n",
    "    print(texto.upper())\n",
    "print (\"Fin\")"
   ]
  },
  {
   "cell_type": "code",
   "execution_count": null,
   "id": "65ea4976",
   "metadata": {},
   "outputs": [],
   "source": [
    "print (\"Ejercicio 4\")\n",
    "while True:\n",
    "    numero = int(input(\"Ingrese un número: \"))\n",
    "    if numero == 0:\n",
    "        break\n",
    "    print (\"Par\" if numero % 2 == 0 else \"Impar\")"
   ]
  },
  {
   "cell_type": "markdown",
   "id": "2fe32af1",
   "metadata": {},
   "source": [
    "### Estructuras por comprensión\n",
    "Las Estructuras por comprensión son una forma de crear estructuras de manera concisa utilizando una sola línea de código\n",
    "\n",
    "Utiliza la estructura de un ciclo for y se puede agregar condicionales\n",
    "\n",
    "Se puede crear listas, tuplas, diccionarios y conjuntos"
   ]
  },
  {
   "cell_type": "code",
   "execution_count": null,
   "id": "23234f22",
   "metadata": {},
   "outputs": [],
   "source": [
    "print (\"Ejemplo 17\")\n",
    "pares = [i for i in range(2, 11, 2)]\n",
    "print(pares)"
   ]
  },
  {
   "cell_type": "code",
   "execution_count": null,
   "id": "2f40b858",
   "metadata": {},
   "outputs": [],
   "source": [
    "print (\"Ejemplo 18\")\n",
    "pares = [i for i in range(2, 11) if i % 2 == 0]\n",
    "print(pares)"
   ]
  },
  {
   "cell_type": "code",
   "execution_count": null,
   "id": "5c953834",
   "metadata": {},
   "outputs": [],
   "source": [
    "print (\"Ejemplo 19\")\n",
    "pares = {i: \"Par\" if i % 2 == 0 else \"Impar\" for i in range(2, 11)}\n",
    "print(pares)"
   ]
  },
  {
   "cell_type": "code",
   "execution_count": null,
   "id": "5a224dba",
   "metadata": {},
   "outputs": [],
   "source": [
    "print (\"Ejercicio 5\")\n",
    "impares = tuple(i for i in range(1, 11) if i % 2 != 0)\n",
    "print(impares)"
   ]
  },
  {
   "cell_type": "markdown",
   "id": "89941a9f",
   "metadata": {},
   "source": [
    "### Ciclos anidados\n",
    "Son ciclos dentro de otros ciclos\n",
    "\n",
    "Se pueden anidar ciclos for y while"
   ]
  },
  {
   "cell_type": "code",
   "execution_count": null,
   "id": "27d828fa",
   "metadata": {},
   "outputs": [],
   "source": [
    "print (\"Ejemplo 20\")\n",
    "for i in range(1, 3):\n",
    "    print(f\"Tabla del {i}\")\n",
    "    for j in range(1, 11):\n",
    "        print(f\"{i} x {j} = {i*j}\")"
   ]
  },
  {
   "cell_type": "code",
   "execution_count": null,
   "id": "d3974533",
   "metadata": {},
   "outputs": [],
   "source": [
    "print (\"Ejemplo 21\")\n",
    "while True:\n",
    "    numero = int(input(\"Ingrese un número: \"))\n",
    "    if numero == 0:\n",
    "        break\n",
    "    print(f\"Tabla del {numero}\")\n",
    "    for i in range(1, 11):\n",
    "        print(f\"{numero} x {i} = {numero*i}\")\n",
    "print (\"Fin\")"
   ]
  },
  {
   "cell_type": "code",
   "execution_count": null,
   "id": "83dd9f6e",
   "metadata": {},
   "outputs": [],
   "source": [
    "matriz = [[1, 2, 3], [4, 5, 6], [7, 8, 9]]\n",
    "for fila in matriz:\n",
    "    for columna in fila:\n",
    "        print(columna, end=\" \")\n",
    "    print()"
   ]
  },
  {
   "cell_type": "code",
   "execution_count": null,
   "id": "dd9c01c7",
   "metadata": {},
   "outputs": [],
   "source": [
    "print (\"Ejemplo 22\")\n",
    "n = int(input(\"Ingrese un número: \"))\n",
    "matriz = [['X' for i in range(n)] for j in range(n)]\n",
    "for fila in matriz:\n",
    "    for columna in fila:\n",
    "        print(columna, end=\" \")\n",
    "    print()\n",
    "print (matriz)"
   ]
  },
  {
   "cell_type": "code",
   "execution_count": null,
   "id": "f80d9ab5",
   "metadata": {},
   "outputs": [],
   "source": [
    "print (\"Ejercicio 6\")\n",
    "n = int(input(\"Ingrese un número: \"))\n",
    "matriz = [[(j, i) for i in range(n)] for j in range(n)]\n",
    "for fila in matriz:\n",
    "    for columna in fila:\n",
    "        print(columna, end=\" \")\n",
    "    print()\n",
    "print (matriz)"
   ]
  }
 ],
 "metadata": {
  "kernelspec": {
   "display_name": "Python 3",
   "language": "python",
   "name": "python3"
  },
  "language_info": {
   "codemirror_mode": {
    "name": "ipython",
    "version": 3
   },
   "file_extension": ".py",
   "mimetype": "text/x-python",
   "name": "python",
   "nbconvert_exporter": "python",
   "pygments_lexer": "ipython3",
   "version": "3.13.3"
  }
 },
 "nbformat": 4,
 "nbformat_minor": 5
}
