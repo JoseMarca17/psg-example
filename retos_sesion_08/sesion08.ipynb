{
 "cells": [
  {
   "cell_type": "markdown",
   "id": "79f78a7c",
   "metadata": {},
   "source": [
    "# Estructura de datos **(tuplas)**\n",
    "Una tupla es un par ordenado de elementos que se almacenan juntos (x,y)"
   ]
  },
  {
   "cell_type": "code",
   "execution_count": 1,
   "id": "f012d736",
   "metadata": {},
   "outputs": [
    {
     "ename": "TypeError",
     "evalue": "'tuple' object does not support item assignment",
     "output_type": "error",
     "traceback": [
      "\u001b[31m---------------------------------------------------------------------------\u001b[39m",
      "\u001b[31mTypeError\u001b[39m                                 Traceback (most recent call last)",
      "\u001b[36mCell\u001b[39m\u001b[36m \u001b[39m\u001b[32mIn[1]\u001b[39m\u001b[32m, line 4\u001b[39m\n\u001b[32m      1\u001b[39m \u001b[38;5;66;03m# Una tupla es inmutable \u001b[39;00m\n\u001b[32m      3\u001b[39m tupla = (\u001b[32m1\u001b[39m,\u001b[32m2\u001b[39m,\u001b[32m3\u001b[39m)\n\u001b[32m----> \u001b[39m\u001b[32m4\u001b[39m \u001b[43mtupla\u001b[49m\u001b[43m[\u001b[49m\u001b[32;43m0\u001b[39;49m\u001b[43m]\u001b[49m = \u001b[32m4\u001b[39m \u001b[38;5;66;03m# Error\u001b[39;00m\n",
      "\u001b[31mTypeError\u001b[39m: 'tuple' object does not support item assignment"
     ]
    }
   ],
   "source": [
    "# Una tupla es inmutable \n",
    "\n",
    "tupla = (1,2,3)\n",
    "tupla[0] = 4 # Error"
   ]
  },
  {
   "cell_type": "markdown",
   "id": "4395281e",
   "metadata": {},
   "source": [
    "### - Son ordenadas"
   ]
  },
  {
   "cell_type": "markdown",
   "id": "f3439e42",
   "metadata": {},
   "source": [
    "tupla1 = (1,2,3)\n",
    "tupla2 = (3,2,1)\n",
    "print (tupla1 == tupla2) # False\n"
   ]
  },
  {
   "cell_type": "markdown",
   "id": "4d3cb60c",
   "metadata": {},
   "source": [
    "### - Son indexadas "
   ]
  },
  {
   "cell_type": "code",
   "execution_count": null,
   "id": "b806897b",
   "metadata": {},
   "outputs": [],
   "source": [
    "tupla = (1,2,3)\n",
    "tupla[0] # 1\n",
    "tupla[1] # 2\n",
    "tupla[2] # 3"
   ]
  },
  {
   "cell_type": "markdown",
   "id": "f06daf63",
   "metadata": {},
   "source": [
    "## Para que se usa? \n",
    "### - Empaquetado y desenpaquetados "
   ]
  },
  {
   "cell_type": "markdown",
   "id": "30ae9690",
   "metadata": {},
   "source": [
    "coordenadas = (3,5)\n",
    "x,y = coordenadas"
   ]
  },
  {
   "cell_type": "markdown",
   "id": "2255ddb7",
   "metadata": {},
   "source": [
    "### - Enviar y devolver multiples valores de una funcion "
   ]
  },
  {
   "cell_type": "code",
   "execution_count": null,
   "id": "49197994",
   "metadata": {},
   "outputs": [],
   "source": [
    "def coordenadas(coordenada):\n",
    "    x,y = coordenada\n",
    "    x = x + 1\n",
    "    y = y + 1\n",
    "    return (x,y)"
   ]
  },
  {
   "cell_type": "markdown",
   "id": "ad475240",
   "metadata": {},
   "source": [
    "### - En diccionarios se puede utilizar una tupla como llave compuesta"
   ]
  },
  {
   "cell_type": "code",
   "execution_count": null,
   "id": "cbab44ee",
   "metadata": {},
   "outputs": [],
   "source": [
    "agenda = {('Juan','Perez'): 1234567}"
   ]
  },
  {
   "cell_type": "markdown",
   "id": "d56fa7b2",
   "metadata": {},
   "source": [
    "### - Una tupla puede almacenar cualquier tipo de dato a la vez"
   ]
  },
  {
   "cell_type": "code",
   "execution_count": null,
   "id": "ba9cb948",
   "metadata": {},
   "outputs": [],
   "source": [
    "tupla = (1,2.0,'hola',True)"
   ]
  },
  {
   "cell_type": "code",
   "execution_count": null,
   "id": "f358b8fd",
   "metadata": {},
   "outputs": [],
   "source": [
    "print (\"Tupla de enteros\")\n",
    "enteros = (1,2,3,4,5,6)\n",
    "print (enteros)\n",
    "print (type(enteros))"
   ]
  },
  {
   "cell_type": "code",
   "execution_count": null,
   "id": "06d32e21",
   "metadata": {},
   "outputs": [],
   "source": [
    "print (\"Tupla de cadenas\")\n",
    "cadenas = (\"hola\", \"mundo\", \"desde\", \"python\")\n",
    "print (cadenas)\n",
    "print (type(cadenas))"
   ]
  },
  {
   "cell_type": "code",
   "execution_count": null,
   "id": "e071c410",
   "metadata": {},
   "outputs": [],
   "source": [
    "print (\"Tupla Mixta\") \n",
    "mixta = (1, \"hola\", True, 2.5)\n",
    "print (mixta)\n",
    "print (type(mixta))"
   ]
  },
  {
   "cell_type": "code",
   "execution_count": null,
   "id": "7df41ae7",
   "metadata": {},
   "outputs": [],
   "source": [
    "print (\"Tupla vacia\")\n",
    "vacia = ()\n",
    "print (vacia)\n",
    "print (type(vacia))"
   ]
  },
  {
   "cell_type": "code",
   "execution_count": null,
   "id": "d30ddd2d",
   "metadata": {},
   "outputs": [],
   "source": [
    "print (\"Tupla de un solo elemento\")\n",
    "uno = (1,)\n",
    "print (uno)\n",
    "print (type(uno))"
   ]
  },
  {
   "cell_type": "code",
   "execution_count": null,
   "id": "c69b0d89",
   "metadata": {},
   "outputs": [],
   "source": [
    "print (\"Tupla utilizando la función tuple()\")\n",
    "constructor = tuple(\"hola\")\n",
    "print (constructor)\n",
    "print (type(constructor))\n"
   ]
  },
  {
   "cell_type": "code",
   "execution_count": null,
   "id": "1841a806",
   "metadata": {},
   "outputs": [],
   "source": [
    "print (\"Indexado positivo de una tupla\")\n",
    "tupla = (1,2.0, \"hola\", True)\n",
    "print (tupla[0], type(tupla[0]))\n",
    "print (tupla[1], type(tupla[1]))\n",
    "print (tupla[2], type(tupla[2]))\n",
    "print (tupla[3], type(tupla[3]))"
   ]
  },
  {
   "cell_type": "code",
   "execution_count": null,
   "id": "e4b52dfc",
   "metadata": {},
   "outputs": [],
   "source": [
    "print (\"Indexado negativo de una tupla\")\n",
    "tupla = (1,2.0, \"hola\", True)\n",
    "print (tupla[-1], type(tupla[-1]))\n",
    "print (tupla[-2], type(tupla[-2]))\n",
    "print (tupla[-3], type(tupla[-3]))\n",
    "print (tupla[-4], type(tupla[-4]))"
   ]
  },
  {
   "cell_type": "code",
   "execution_count": null,
   "id": "23cf8baa",
   "metadata": {},
   "outputs": [],
   "source": [
    "print (\"Slicing de una tupla\")\n",
    "tupla = (0,1,2,3,4,5,6,7,8,9,10)\n",
    "print (tupla)\n",
    "sub_tupla = tupla[0:5]\n",
    "print (sub_tupla)\n",
    "print (type(sub_tupla))"
   ]
  },
  {
   "cell_type": "code",
   "execution_count": null,
   "id": "b0149a90",
   "metadata": {},
   "outputs": [],
   "source": [
    "print (\"Slicing de una tupla con saltos\")\n",
    "tupla = (0,1,2,3,4,5,6,7,8,9,10)\n",
    "print (tupla)\n",
    "sub_tupla = tupla[0:10:2]\n",
    "print (sub_tupla)\n",
    "print (type(sub_tupla))"
   ]
  },
  {
   "cell_type": "code",
   "execution_count": null,
   "id": "29f590fe",
   "metadata": {},
   "outputs": [],
   "source": [
    "print (\"Slicing de una tupla con saltos negativos\")\n",
    "tupla = (0,1,2,3,4,5,6,7,8,9,10)\n",
    "print (tupla)\n",
    "sub_tupla = tupla[7:2:-2]\n",
    "print (sub_tupla)\n",
    "print (type(sub_tupla))"
   ]
  },
  {
   "cell_type": "code",
   "execution_count": null,
   "id": "83477a3c",
   "metadata": {},
   "outputs": [],
   "source": [
    "print (\"Concatenación de tuplas\")\n",
    "tupla1 = (1,2,3)\n",
    "tupla2 = (4,5,6)\n",
    "concatenar = tupla1 + tupla2\n",
    "print (tupla1, tupla2)\n",
    "print (concatenar)\n",
    "print (type(concatenar))"
   ]
  },
  {
   "cell_type": "code",
   "execution_count": null,
   "id": "dbc95c01",
   "metadata": {},
   "outputs": [],
   "source": [
    "print (\"Repetición de tuplas\")\n",
    "tupla = (1,2,3)\n",
    "repetir = tupla * 3\n",
    "print (tupla)\n",
    "print (repetir)\n",
    "print (type(repetir))"
   ]
  },
  {
   "cell_type": "code",
   "execution_count": null,
   "id": "ce65fa92",
   "metadata": {},
   "outputs": [],
   "source": [
    "print (\"Asignación múltiple\")\n",
    "persona = (\"Jhon\", \"Doe\", 22, 1.75)\n",
    "nombre, apellido, edad, estatura = persona\n",
    "print (persona)\n",
    "print (nombre)\n",
    "print (apellido)\n",
    "print (edad)\n",
    "print (estatura)"
   ]
  },
  {
   "cell_type": "markdown",
   "id": "8328c4a9",
   "metadata": {},
   "source": [
    "##  METODOS DE TUPLAS "
   ]
  },
  {
   "cell_type": "code",
   "execution_count": null,
   "id": "690cbedf",
   "metadata": {},
   "outputs": [],
   "source": [
    "print (\"Método index(valor)\")\n",
    "tupla = (1,2.0, \"hola\", True)\n",
    "print (tupla.index(2.0))\n",
    "print (tupla.index(\"hola\"))"
   ]
  },
  {
   "cell_type": "code",
   "execution_count": null,
   "id": "45c392d1",
   "metadata": {},
   "outputs": [],
   "source": [
    "print (\"Método count(valor)\")\n",
    "tupla = (1, 2.0, \"hola\", False, \"hola\", \"HOLA\")\n",
    "print (tupla.count(1))\n",
    "print (tupla.count(\"hola\"))\n",
    "print (tupla.count(10))"
   ]
  },
  {
   "cell_type": "markdown",
   "id": "2089a8c1",
   "metadata": {},
   "source": [
    "## Funciones con tuplas "
   ]
  },
  {
   "cell_type": "code",
   "execution_count": null,
   "id": "b6a56f8a",
   "metadata": {},
   "outputs": [],
   "source": [
    "print (\"Función len()\")\n",
    "tupla = (1,2.0, \"hola\", True)\n",
    "longitud = len(tupla)\n",
    "print (tupla)\n",
    "print (longitud)"
   ]
  },
  {
   "cell_type": "code",
   "execution_count": null,
   "id": "9f24e7d8",
   "metadata": {},
   "outputs": [],
   "source": [
    "print (\"Función max()\")\n",
    "tupla = (1,2,10,5,8,0)\n",
    "maximo = max(tupla)\n",
    "print (tupla)\n",
    "print (maximo)"
   ]
  },
  {
   "cell_type": "code",
   "execution_count": null,
   "id": "f62e20a5",
   "metadata": {},
   "outputs": [],
   "source": [
    "print (\"Función min()\")\n",
    "tupla = (\"a\",\"z\",\"c\",\"b\",\"f\",\"d\")\n",
    "minimo = min(tupla)\n",
    "print (tupla)\n",
    "print (minimo)\n",
    "print (\"Función min()\")\n",
    "tupla = (\"a\",\"z\",\"c\",\"b\",\"f\",\"d\")\n",
    "minimo = min(tupla)\n",
    "print (tupla)\n",
    "print (minimo)\n",
    "print (\"Función min()\")\n",
    "tupla = (\"a\",\"z\",\"c\",\"b\",\"f\",\"d\")\n",
    "minimo = min(tupla)\n",
    "print (tupla)\n",
    "print (minimo)"
   ]
  },
  {
   "cell_type": "code",
   "execution_count": null,
   "id": "fca8f55e",
   "metadata": {},
   "outputs": [],
   "source": [
    "print (\"Función sum()\")\n",
    "tupla = (1.0, 0.5, 2.5, 3.1)\n",
    "suma = sum(tupla)\n",
    "print (tupla)\n",
    "print (suma)"
   ]
  },
  {
   "cell_type": "code",
   "execution_count": null,
   "id": "0b7ae163",
   "metadata": {},
   "outputs": [],
   "source": [
    "print (\"Tuplas anidadas\")\n",
    "tupla = (1,2,3, (4,5,6))\n",
    "print (tupla)\n",
    "print (tupla, type(tupla))\n",
    "print (tupla[3], type(tupla[3]))\n",
    "print (tupla[3][0], type(tupla[3][0]))\n"
   ]
  },
  {
   "cell_type": "code",
   "execution_count": null,
   "id": "7a76121c",
   "metadata": {},
   "outputs": [],
   "source": [
    "print (\"Tuplas anidadas\")\n",
    "tupla = (1,2,3, (4,5,6))\n",
    "print (tupla, type(tupla))\n",
    "anidado = tupla[3]\n",
    "print (anidado, type(anidado))\n",
    "valor_anidado_0 = anidado[0]\n",
    "print (valor_anidado_0, type(valor_anidado_0))\n",
    "valor_anidado_1 = tupla[3][1]\n",
    "print (valor_anidado_1, type(valor_anidado_1))\n",
    "print (\"Tuplas anidadas\")\n",
    "tupla = (1,2,3, (4,5,6))\n",
    "print (tupla, type(tupla))\n",
    "anidado = tupla[3]\n",
    "print (anidado, type(anidado))\n",
    "valor_anidado_0 = anidado[0]\n",
    "print (valor_anidado_0, type(valor_anidado_0))\n",
    "valor_anidado_1 = tupla[3][1]\n",
    "print (valor_anidado_1, type(valor_anidado_1))\n"
   ]
  }
 ],
 "metadata": {
  "kernelspec": {
   "display_name": "Python 3",
   "language": "python",
   "name": "python3"
  },
  "language_info": {
   "codemirror_mode": {
    "name": "ipython",
    "version": 3
   },
   "file_extension": ".py",
   "mimetype": "text/x-python",
   "name": "python",
   "nbconvert_exporter": "python",
   "pygments_lexer": "ipython3",
   "version": "3.13.3"
  }
 },
 "nbformat": 4,
 "nbformat_minor": 5
}
