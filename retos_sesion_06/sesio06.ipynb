{
 "cells": [
  {
   "cell_type": "markdown",
   "id": "bde46448",
   "metadata": {},
   "source": [
    "# SESION 06"
   ]
  },
  {
   "cell_type": "markdown",
   "id": "4376c9be",
   "metadata": {},
   "source": [
    "## TIPOS DE DATOS BOOLEANOS "
   ]
  },
  {
   "cell_type": "code",
   "execution_count": 19,
   "id": "e9ee65bd",
   "metadata": {},
   "outputs": [
    {
     "name": "stdout",
     "output_type": "stream",
     "text": [
      "Tipos de datos booleanos\n",
      "True\n",
      "False\n"
     ]
    }
   ],
   "source": [
    "print(\"Tipos de datos booleanos\")\n",
    "print (True)\n",
    "print (False)"
   ]
  },
  {
   "cell_type": "markdown",
   "id": "2e7d6cd7",
   "metadata": {},
   "source": [
    "### OPERACIONES ARITMETICAS CON BOOLEANOS "
   ]
  },
  {
   "cell_type": "code",
   "execution_count": 20,
   "id": "ac9fa8e8",
   "metadata": {},
   "outputs": [
    {
     "name": "stdout",
     "output_type": "stream",
     "text": [
      "2\n",
      "1\n",
      "0\n",
      "0\n",
      "0\n"
     ]
    }
   ],
   "source": [
    "print (True + True)\n",
    "print (True * True)\n",
    "print (True * False)\n",
    "print (False + False)\n",
    "print (False * False)"
   ]
  },
  {
   "cell_type": "markdown",
   "id": "8f35862f",
   "metadata": {},
   "source": [
    "### DECLARARA VARIABLES BOOLEANAS"
   ]
  },
  {
   "cell_type": "code",
   "execution_count": 21,
   "id": "65b0de42",
   "metadata": {},
   "outputs": [
    {
     "name": "stdout",
     "output_type": "stream",
     "text": [
      "Declarar variables booleanas\n",
      "True\n",
      "<class 'bool'>\n",
      "False\n",
      "<class 'bool'>\n"
     ]
    }
   ],
   "source": [
    "print (\"Declarar variables booleanas\")\n",
    "var_booleana = True\n",
    "print (var_booleana)\n",
    "print (type(var_booleana))\n",
    "var_booleana = False\n",
    "print (var_booleana)\n",
    "print (type(var_booleana))"
   ]
  },
  {
   "cell_type": "code",
   "execution_count": 22,
   "id": "e829bc11",
   "metadata": {},
   "outputs": [
    {
     "name": "stdout",
     "output_type": "stream",
     "text": [
      "Declarar mediante función bool()\n",
      "True\n",
      "<class 'bool'>\n",
      "False\n",
      "<class 'bool'>\n",
      "True\n",
      "<class 'bool'>\n"
     ]
    }
   ],
   "source": [
    "print (\"Declarar mediante función bool()\")\n",
    "var_booleana = bool(1)\n",
    "print (var_booleana)\n",
    "print (type(var_booleana))\n",
    "var_booleana = bool(0)\n",
    "print (var_booleana)\n",
    "print (type(var_booleana))\n",
    "var_booleana = bool(15)\n",
    "print (var_booleana)\n",
    "print (type(var_booleana))"
   ]
  },
  {
   "cell_type": "markdown",
   "id": "2263abf7",
   "metadata": {},
   "source": [
    "## OPERADORES DE COMPARACION"
   ]
  },
  {
   "cell_type": "code",
   "execution_count": 23,
   "id": "a724d84a",
   "metadata": {},
   "outputs": [
    {
     "name": "stdout",
     "output_type": "stream",
     "text": [
      "Operadores de comparación\n",
      "True\n",
      "False\n",
      "False\n",
      "False\n",
      "True\n",
      "True\n",
      "True\n",
      "False\n"
     ]
    },
    {
     "name": "stderr",
     "output_type": "stream",
     "text": [
      "<>:8: SyntaxWarning: \"is\" with 'int' literal. Did you mean \"==\"?\n",
      "<>:9: SyntaxWarning: \"is not\" with 'int' literal. Did you mean \"!=\"?\n",
      "<>:8: SyntaxWarning: \"is\" with 'int' literal. Did you mean \"==\"?\n",
      "<>:9: SyntaxWarning: \"is not\" with 'int' literal. Did you mean \"!=\"?\n",
      "C:\\Users\\ASUS\\AppData\\Local\\Temp\\ipykernel_17804\\1932318903.py:8: SyntaxWarning: \"is\" with 'int' literal. Did you mean \"==\"?\n",
      "  print (10 is 10)\n",
      "C:\\Users\\ASUS\\AppData\\Local\\Temp\\ipykernel_17804\\1932318903.py:9: SyntaxWarning: \"is not\" with 'int' literal. Did you mean \"!=\"?\n",
      "  print (10 is not 10)\n"
     ]
    }
   ],
   "source": [
    "print (\"Operadores de comparación\")\n",
    "print (10 == 10)\n",
    "print (10 != 10)\n",
    "print (10 < 10)\n",
    "print (10 > 10)\n",
    "print (10 <= 10)\n",
    "print (10 >= 10)\n",
    "print (10 is 10)\n",
    "print (10 is not 10)"
   ]
  },
  {
   "cell_type": "markdown",
   "id": "6453a76c",
   "metadata": {},
   "source": [
    "### ASIGNACION DE VARIABLES"
   ]
  },
  {
   "cell_type": "code",
   "execution_count": 24,
   "id": "8f040c09",
   "metadata": {},
   "outputs": [
    {
     "name": "stdout",
     "output_type": "stream",
     "text": [
      "Asignación de variables\n",
      "True\n",
      "False\n"
     ]
    }
   ],
   "source": [
    "print (\"Asignación de variables\")\n",
    "x = 10\n",
    "mayor_que_cero = x > 0\n",
    "print (mayor_que_cero)\n",
    "diferente_de_10 = x != 10\n",
    "print (diferente_de_10)"
   ]
  },
  {
   "cell_type": "markdown",
   "id": "8b7e76a9",
   "metadata": {},
   "source": [
    "## OPERADORES LOGICOS "
   ]
  },
  {
   "cell_type": "markdown",
   "id": "dd7d5fdd",
   "metadata": {},
   "source": [
    "- OPERADOR AND "
   ]
  },
  {
   "cell_type": "code",
   "execution_count": 25,
   "id": "cd27d7fc",
   "metadata": {},
   "outputs": [
    {
     "name": "stdout",
     "output_type": "stream",
     "text": [
      "Operador AND\n",
      "True\n",
      "False\n",
      "False\n",
      "False\n"
     ]
    }
   ],
   "source": [
    "print (\"Operador AND\")\n",
    "print (True and True)\n",
    "print (True and False)\n",
    "print (False and True)\n",
    "print (False and False)"
   ]
  },
  {
   "cell_type": "markdown",
   "id": "8757ae24",
   "metadata": {},
   "source": [
    "- OPERADOR OR"
   ]
  },
  {
   "cell_type": "code",
   "execution_count": 26,
   "id": "fca23dae",
   "metadata": {},
   "outputs": [
    {
     "name": "stdout",
     "output_type": "stream",
     "text": [
      "Operador OR\n",
      "True\n",
      "True\n",
      "True\n",
      "False\n"
     ]
    }
   ],
   "source": [
    "print (\"Operador OR\")\n",
    "print (True or True)\n",
    "print (True or False)\n",
    "print (False or True)\n",
    "print (False or False)"
   ]
  },
  {
   "cell_type": "markdown",
   "id": "a7b52cfe",
   "metadata": {},
   "source": [
    "- OPERADOR NOT "
   ]
  },
  {
   "cell_type": "code",
   "execution_count": 27,
   "id": "bfb68156",
   "metadata": {},
   "outputs": [
    {
     "name": "stdout",
     "output_type": "stream",
     "text": [
      "Operador NOT\n",
      "False\n",
      "True\n"
     ]
    }
   ],
   "source": [
    "print (\"Operador NOT\")\n",
    "print (not True)\n",
    "print (not False)"
   ]
  },
  {
   "cell_type": "markdown",
   "id": "3ae471c6",
   "metadata": {},
   "source": [
    "- OPERADOR NAND "
   ]
  },
  {
   "cell_type": "code",
   "execution_count": 28,
   "id": "15e424c4",
   "metadata": {},
   "outputs": [
    {
     "name": "stdout",
     "output_type": "stream",
     "text": [
      "Operador NAND\n",
      "False\n",
      "True\n",
      "True\n",
      "True\n"
     ]
    }
   ],
   "source": [
    "print (\"Operador NAND\")\n",
    "print (not (True and True))\n",
    "print (not (True and False))\n",
    "print (not (False and True))\n",
    "print (not (False and False))"
   ]
  },
  {
   "cell_type": "markdown",
   "id": "4281f057",
   "metadata": {},
   "source": [
    "- OPERADOR NOR"
   ]
  },
  {
   "cell_type": "code",
   "execution_count": 29,
   "id": "944afdf1",
   "metadata": {},
   "outputs": [
    {
     "name": "stdout",
     "output_type": "stream",
     "text": [
      "Operador NOR\n",
      "False\n",
      "False\n",
      "False\n",
      "True\n"
     ]
    }
   ],
   "source": [
    "print (\"Operador NOR\")\n",
    "print (not (True or True))\n",
    "print (not (True or False))\n",
    "print (not (False or True))\n",
    "print (not (False or False))"
   ]
  },
  {
   "cell_type": "markdown",
   "id": "17be73d3",
   "metadata": {},
   "source": [
    "- OPERADOR XOR "
   ]
  },
  {
   "cell_type": "code",
   "execution_count": 30,
   "id": "c9ec7a29",
   "metadata": {},
   "outputs": [
    {
     "name": "stdout",
     "output_type": "stream",
     "text": [
      "Operador XOR\n",
      "True\n",
      "False\n"
     ]
    }
   ],
   "source": [
    "print (\"Operador XOR\")\n",
    "a = True\n",
    "b = False\n",
    "print ((a or b) and not (a and b))\n",
    "a = True\n",
    "b = True\n",
    "print ((a or b) and not (a and b))"
   ]
  },
  {
   "cell_type": "markdown",
   "id": "614882b8",
   "metadata": {},
   "source": [
    "- EJEMPLOS OPERADORES LOGICOS"
   ]
  },
  {
   "cell_type": "code",
   "execution_count": 31,
   "id": "24772750",
   "metadata": {},
   "outputs": [
    {
     "name": "stdout",
     "output_type": "stream",
     "text": [
      "Ejemplo de uso Sensor y Batería\n",
      "True and True = True\n",
      "True and False = False\n",
      "False and True = False\n",
      "False and False = False\n",
      "True\n",
      "True\n"
     ]
    }
   ],
   "source": [
    "print (\"Ejemplo de uso Sensor y Batería\")\n",
    "sensor = True\n",
    "bateria = True\n",
    "print (sensor, \"and\", bateria, \"=\", sensor and bateria)\n",
    "sensor = True\n",
    "bateria = False\n",
    "print (sensor, \"and\", bateria, \"=\", sensor and bateria)\n",
    "sensor = False\n",
    "bateria = True\n",
    "print (sensor, \"and\", bateria, \"=\", sensor and bateria)\n",
    "sensor = False\n",
    "bateria = False\n",
    "print (sensor, \"and\", bateria, \"=\", sensor and bateria)\n",
    "\n",
    "print(not(10-10))\n",
    "\n",
    "print(20>0 and 20<=100)"
   ]
  },
  {
   "cell_type": "markdown",
   "id": "b23335e3",
   "metadata": {},
   "source": [
    "## OPERADORES LOGICOS Y PRIORIDAD"
   ]
  },
  {
   "cell_type": "code",
   "execution_count": 32,
   "id": "cfce7dc0",
   "metadata": {},
   "outputs": [
    {
     "name": "stdout",
     "output_type": "stream",
     "text": [
      "Operadores lógicos y prioridad\n",
      "True\n",
      "False\n",
      "True\n",
      "True\n",
      "False\n",
      "False\n"
     ]
    }
   ],
   "source": [
    "print(\"Operadores lógicos y prioridad\")\n",
    "print(False and False or True)\n",
    "print(False and (False or True))\n",
    "print(not True and False or True)\n",
    "print(not (True and False or False))\n",
    "print(not True and (False or False))\n",
    "print(not True and False or False)"
   ]
  },
  {
   "cell_type": "markdown",
   "id": "11b61684",
   "metadata": {},
   "source": [
    "## EJERCICIOS \n",
    "- Ejemplo 1\n",
    "Determinar si el número 20 está en el rango 0 a 100"
   ]
  },
  {
   "cell_type": "code",
   "execution_count": 33,
   "id": "d42fd9b8",
   "metadata": {},
   "outputs": [
    {
     "name": "stdout",
     "output_type": "stream",
     "text": [
      "True\n"
     ]
    }
   ],
   "source": [
    "print(20>0 and 20<=100)"
   ]
  },
  {
   "cell_type": "markdown",
   "id": "fa3566a6",
   "metadata": {},
   "source": [
    "- Ejemplo 2\n",
    "\n",
    "Un estudiante obtuvo las siguientes notas en sus exámenes: 15, 20, 16 determinar si el estudiante aprobó con una nota superior a 50"
   ]
  },
  {
   "cell_type": "code",
   "execution_count": 34,
   "id": "71b3b187",
   "metadata": {},
   "outputs": [
    {
     "name": "stdout",
     "output_type": "stream",
     "text": [
      "True\n"
     ]
    }
   ],
   "source": [
    "nota_1 = 15\n",
    "nota_2 = 20\n",
    "nota_3 = 16\n",
    "suma_notas = nota_1 + nota_2 + nota_3\n",
    "print (suma_notas > 50)"
   ]
  },
  {
   "cell_type": "markdown",
   "id": "6d547ef6",
   "metadata": {},
   "source": [
    "- Ejemplo 3\n",
    "\n",
    "Determinar si el número 15 es divisible por 3 y 5, pero no por 2"
   ]
  },
  {
   "cell_type": "code",
   "execution_count": 35,
   "id": "58bc1c0c",
   "metadata": {},
   "outputs": [
    {
     "name": "stdout",
     "output_type": "stream",
     "text": [
      "True\n"
     ]
    }
   ],
   "source": [
    "numero = 15\n",
    "divisible_por_3 = numero % 3 == 0\n",
    "divisible_por_5 = numero % 5 == 0\n",
    "divisible_por_2 = numero % 2 == 0\n",
    "print (divisible_por_3 and divisible_por_5 and not(divisible_por_2))"
   ]
  },
  {
   "cell_type": "markdown",
   "id": "ae30d222",
   "metadata": {},
   "source": [
    "## CORTOCIRCUITOS\n",
    "- CORTOCIRCUITO OPERADOR AND "
   ]
  },
  {
   "cell_type": "code",
   "execution_count": 36,
   "id": "27c6bf91",
   "metadata": {},
   "outputs": [
    {
     "name": "stdout",
     "output_type": "stream",
     "text": [
      "Cortocircuito con operador and\n",
      "False\n"
     ]
    },
    {
     "ename": "ZeroDivisionError",
     "evalue": "division by zero",
     "output_type": "error",
     "traceback": [
      "\u001b[31m---------------------------------------------------------------------------\u001b[39m",
      "\u001b[31mZeroDivisionError\u001b[39m                         Traceback (most recent call last)",
      "\u001b[36mCell\u001b[39m\u001b[36m \u001b[39m\u001b[32mIn[36]\u001b[39m\u001b[32m, line 5\u001b[39m\n\u001b[32m      3\u001b[39m y = \u001b[32m0\u001b[39m\n\u001b[32m      4\u001b[39m \u001b[38;5;28mprint\u001b[39m (x > \u001b[32m2\u001b[39m \u001b[38;5;129;01mand\u001b[39;00m (x/y) > \u001b[32m2\u001b[39m)\n\u001b[32m----> \u001b[39m\u001b[32m5\u001b[39m \u001b[38;5;28mprint\u001b[39m (x > \u001b[32m0\u001b[39m \u001b[38;5;129;01mand\u001b[39;00m (\u001b[43mx\u001b[49m\u001b[43m/\u001b[49m\u001b[43my\u001b[49m) > \u001b[32m0\u001b[39m)\n",
      "\u001b[31mZeroDivisionError\u001b[39m: division by zero"
     ]
    }
   ],
   "source": [
    "print (\"Cortocircuito con operador and\")\n",
    "x = 1\n",
    "y = 0\n",
    "print (x > 2 and (x/y) > 2)\n",
    "print (x > 0 and (x/y) > 0)"
   ]
  },
  {
   "cell_type": "markdown",
   "id": "e488d380",
   "metadata": {},
   "source": [
    "- CORTOCIRCUITO OPERADOR OR "
   ]
  },
  {
   "cell_type": "code",
   "execution_count": 37,
   "id": "7ffbc3b0",
   "metadata": {},
   "outputs": [
    {
     "name": "stdout",
     "output_type": "stream",
     "text": [
      "Cortocircuito con operador or\n",
      "True\n"
     ]
    },
    {
     "ename": "ZeroDivisionError",
     "evalue": "division by zero",
     "output_type": "error",
     "traceback": [
      "\u001b[31m---------------------------------------------------------------------------\u001b[39m",
      "\u001b[31mZeroDivisionError\u001b[39m                         Traceback (most recent call last)",
      "\u001b[36mCell\u001b[39m\u001b[36m \u001b[39m\u001b[32mIn[37]\u001b[39m\u001b[32m, line 5\u001b[39m\n\u001b[32m      3\u001b[39m y = \u001b[32m0\u001b[39m\n\u001b[32m      4\u001b[39m \u001b[38;5;28mprint\u001b[39m (x > \u001b[32m0\u001b[39m \u001b[38;5;129;01mor\u001b[39;00m (x/y) > \u001b[32m0\u001b[39m)\n\u001b[32m----> \u001b[39m\u001b[32m5\u001b[39m \u001b[38;5;28mprint\u001b[39m (x > \u001b[32m2\u001b[39m \u001b[38;5;129;01mor\u001b[39;00m (\u001b[43mx\u001b[49m\u001b[43m/\u001b[49m\u001b[43my\u001b[49m) > \u001b[32m2\u001b[39m)\n",
      "\u001b[31mZeroDivisionError\u001b[39m: division by zero"
     ]
    }
   ],
   "source": [
    "print (\"Cortocircuito con operador or\")\n",
    "x = 1\n",
    "y = 0\n",
    "print (x > 0 or (x/y) > 0)\n",
    "print (x > 2 or (x/y) > 2)"
   ]
  }
 ],
 "metadata": {
  "kernelspec": {
   "display_name": "Python 3",
   "language": "python",
   "name": "python3"
  },
  "language_info": {
   "codemirror_mode": {
    "name": "ipython",
    "version": 3
   },
   "file_extension": ".py",
   "mimetype": "text/x-python",
   "name": "python",
   "nbconvert_exporter": "python",
   "pygments_lexer": "ipython3",
   "version": "3.13.3"
  }
 },
 "nbformat": 4,
 "nbformat_minor": 5
}
