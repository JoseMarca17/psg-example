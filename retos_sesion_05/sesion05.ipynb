{
 "cells": [
  {
   "cell_type": "markdown",
   "id": "b22350c5",
   "metadata": {},
   "source": [
    "# **SESION_05**"
   ]
  },
  {
   "cell_type": "markdown",
   "id": "cad89c7e",
   "metadata": {},
   "source": [
    "### ***Ver el tipo de dato de una variable***"
   ]
  },
  {
   "cell_type": "code",
   "execution_count": null,
   "id": "1a7a7fe4",
   "metadata": {},
   "outputs": [
    {
     "name": "stdout",
     "output_type": "stream",
     "text": [
      "<class 'int'>\n",
      "<class 'float'>\n",
      "<class 'str'>\n"
     ]
    }
   ],
   "source": [
    "# Se usa type para ver el tipo de dato que se esta utilizando\n",
    "print(type(1))\n",
    "print(type(1.0))\n",
    "print(type(\"hola\"))"
   ]
  },
  {
   "cell_type": "markdown",
   "id": "6469b666",
   "metadata": {},
   "source": [
    "### ***Como declarar un numero entero***"
   ]
  },
  {
   "cell_type": "markdown",
   "id": "57d398f2",
   "metadata": {},
   "source": [
    "Una variablde se declara: nombre_variable = \"valor\""
   ]
  },
  {
   "cell_type": "code",
   "execution_count": 321,
   "id": "4790ffa5",
   "metadata": {},
   "outputs": [
    {
     "name": "stdout",
     "output_type": "stream",
     "text": [
      "100\n",
      "<class 'int'>\n"
     ]
    }
   ],
   "source": [
    "# Variable 100 Entero\n",
    "variable = 100\n",
    "print (variable)\n",
    "print ( type (variable) )\n"
   ]
  },
  {
   "cell_type": "code",
   "execution_count": 322,
   "id": "6da164b3",
   "metadata": {},
   "outputs": [
    {
     "name": "stdout",
     "output_type": "stream",
     "text": [
      "20\n",
      "<class 'int'>\n"
     ]
    }
   ],
   "source": [
    "# Variable 20 Entero\n",
    "variable_2 = int (20)\n",
    "print (variable_2)\n",
    "print ( type (variable_2) )"
   ]
  },
  {
   "cell_type": "markdown",
   "id": "73b31c72",
   "metadata": {},
   "source": [
    "### ***Valores en otra base***"
   ]
  },
  {
   "cell_type": "code",
   "execution_count": 323,
   "id": "ad5fb0ff",
   "metadata": {},
   "outputs": [
    {
     "name": "stdout",
     "output_type": "stream",
     "text": [
      "Base decimal\n",
      "10\n",
      "Base binaria\n",
      "10\n",
      "Base octal\n",
      "10\n",
      "Base hexadecimal\n",
      "10\n"
     ]
    }
   ],
   "source": [
    "# Valor 10 en base decimal\n",
    "print (\"Base decimal\")\n",
    "print (10)\n",
    "# Valor 10 en binario\n",
    "print (\"Base binaria\")\n",
    "print (0b1010)\n",
    "# Valor 10 en octal\n",
    "print (\"Base octal\")\n",
    "print (0o12)\n",
    "# Valor 10 en hexadecimal\n",
    "print (\"Base hexadecimal\")\n",
    "print (0xa)"
   ]
  },
  {
   "cell_type": "markdown",
   "id": "be5d7509",
   "metadata": {},
   "source": [
    "### *Python no tiene un limite fijo de tamaño de  un numero entero*"
   ]
  },
  {
   "cell_type": "code",
   "execution_count": 324,
   "id": "df18c3fa",
   "metadata": {},
   "outputs": [
    {
     "name": "stdout",
     "output_type": "stream",
     "text": [
      "123456789012345678901234567890123456789012345678901234567890\n",
      "<class 'int'>\n"
     ]
    }
   ],
   "source": [
    "# Entero con 60 dígitos\n",
    "variable_3 = 123456789012345678901234567890123456789012345678901234567890\n",
    "print (variable_3)\n",
    "print (type (variable_3))"
   ]
  },
  {
   "cell_type": "markdown",
   "id": "b6602fa9",
   "metadata": {},
   "source": [
    "## ***Como se declaran numeros de punto flotante***"
   ]
  },
  {
   "cell_type": "code",
   "execution_count": 325,
   "id": "43baba62",
   "metadata": {},
   "outputs": [
    {
     "name": "stdout",
     "output_type": "stream",
     "text": [
      "0.5\n",
      "<class 'float'>\n"
     ]
    }
   ],
   "source": [
    "# Valor 0.5 flotante directamente en el codigo \n",
    "print (0.5)\n",
    "print ( type (0.5) )"
   ]
  },
  {
   "cell_type": "code",
   "execution_count": 326,
   "id": "7622608c",
   "metadata": {},
   "outputs": [
    {
     "name": "stdout",
     "output_type": "stream",
     "text": [
      "0.100546\n",
      "<class 'float'>\n"
     ]
    }
   ],
   "source": [
    "# 0.100546 Flotante declarado en una variable \n",
    "variable_4 = 0.100546\n",
    "print (variable_4)\n",
    "print ( type (variable_4) )"
   ]
  },
  {
   "cell_type": "code",
   "execution_count": 327,
   "id": "37389707",
   "metadata": {},
   "outputs": [
    {
     "name": "stdout",
     "output_type": "stream",
     "text": [
      "1.0\n",
      "<class 'float'>\n"
     ]
    }
   ],
   "source": [
    "# Variable 1 Flotante, usando la funcion float\n",
    "variable_7 = float (1)\n",
    "print(variable_7)\n",
    "print ( type (variable_7) )"
   ]
  },
  {
   "cell_type": "markdown",
   "id": "d3820712",
   "metadata": {},
   "source": [
    "##### *Se puede usar la notacion cientifica con \"e\"*"
   ]
  },
  {
   "cell_type": "code",
   "execution_count": 328,
   "id": "8758b7a1",
   "metadata": {},
   "outputs": [
    {
     "name": "stdout",
     "output_type": "stream",
     "text": [
      "0.002\n",
      "<class 'float'>\n"
     ]
    }
   ],
   "source": [
    "# Valor 2.0e-3 Flotante\n",
    "variable_6 = 2.0e-3\n",
    "print(variable_6)\n",
    "print ( type (variable_6) )"
   ]
  },
  {
   "cell_type": "markdown",
   "id": "e51cb8fb",
   "metadata": {},
   "source": [
    "##### *Precicion maxima con 17 decimales*"
   ]
  },
  {
   "cell_type": "code",
   "execution_count": 329,
   "id": "6d771ae0",
   "metadata": {},
   "outputs": [
    {
     "name": "stdout",
     "output_type": "stream",
     "text": [
      "1.0\n",
      "<class 'float'>\n"
     ]
    }
   ],
   "source": [
    "# Precisión de 17 decimales\n",
    "variable_5 = 0.9999999999999999999\n",
    "print(variable_5)\n",
    "print ( type (variable_5) )"
   ]
  },
  {
   "cell_type": "markdown",
   "id": "e00696d6",
   "metadata": {},
   "source": [
    "## ***OPERADORES ARITMETICOS***"
   ]
  },
  {
   "cell_type": "code",
   "execution_count": 330,
   "id": "95271c55",
   "metadata": {},
   "outputs": [
    {
     "name": "stdout",
     "output_type": "stream",
     "text": [
      "Suma\n",
      "13\n",
      "Resta\n",
      "7\n",
      "Multiplicación\n",
      "30\n",
      "División\n",
      "3.3333333333333335\n",
      "Potencia\n",
      "1000\n",
      "Módulo o residuo\n",
      "1\n",
      "División entera\n",
      "3\n"
     ]
    }
   ],
   "source": [
    "# Operadores aritméticos\n",
    "a = 10\n",
    "b = 3\n",
    "# Suma\n",
    "print (\"Suma\")\n",
    "print (a + b)\n",
    "# Resta\n",
    "print (\"Resta\")\n",
    "print (a - b)\n",
    "# Multiplicación\n",
    "print (\"Multiplicación\")\n",
    "print (a * b)\n",
    "# División\n",
    "print (\"División\")\n",
    "print (a / b)\n",
    "# Potencia\n",
    "print (\"Potencia\")\n",
    "print (a ** b)\n",
    "# Módulo o residuo\n",
    "print (\"Módulo o residuo\")\n",
    "print (a % b)\n",
    "# División entera\n",
    "print (\"División entera\")\n",
    "print (a // b)\n"
   ]
  },
  {
   "cell_type": "markdown",
   "id": "7275bd7b",
   "metadata": {},
   "source": [
    "### **EJERCICIO CON OPERADORES ARITMETICOS**"
   ]
  },
  {
   "cell_type": "code",
   "execution_count": 331,
   "id": "5f850ed2",
   "metadata": {},
   "outputs": [
    {
     "name": "stdout",
     "output_type": "stream",
     "text": [
      "El total de horas es: 6.0\n"
     ]
    }
   ],
   "source": [
    "minutos = 300\n",
    "segundos = 3600\n",
    "horas_min = minutos / 60\n",
    "horas_seg = segundos / 3600\n",
    "horas_total = horas_min + horas_seg\n",
    "print(\"El total de horas es:\", horas_total)"
   ]
  },
  {
   "cell_type": "markdown",
   "id": "dfcd5b36",
   "metadata": {},
   "source": [
    "## ***OPERADORES DE COMPARACION***"
   ]
  },
  {
   "cell_type": "code",
   "execution_count": 334,
   "id": "4184494e",
   "metadata": {},
   "outputs": [
    {
     "name": "stdout",
     "output_type": "stream",
     "text": [
      "Operadores de comparación\n",
      "False\n",
      "False\n",
      "True\n",
      "True\n",
      "True\n",
      "False\n"
     ]
    }
   ],
   "source": [
    "print (\"Operadores de comparación\")\n",
    "comparar = 10\n",
    "print (comparar < 10)\n",
    "print (comparar > 10)\n",
    "print (comparar == 10)\n",
    "print (comparar <= 10)\n",
    "print (comparar >= 10)\n",
    "print (comparar != 10)"
   ]
  },
  {
   "cell_type": "code",
   "execution_count": 333,
   "id": "b0234d5d",
   "metadata": {},
   "outputs": [
    {
     "name": "stdout",
     "output_type": "stream",
     "text": [
      "Operadores de comparación con int - float\n",
      "False\n",
      "False\n",
      "True\n",
      "True\n",
      "True\n",
      "False\n"
     ]
    }
   ],
   "source": [
    "print (\"Operadores de comparación con int - float\")\n",
    "entero = 10\n",
    "flotante = 10.0\n",
    "print (entero < flotante)\n",
    "print (entero > flotante)\n",
    "print (entero == flotante)\n",
    "print (entero <= flotante)\n",
    "print (entero >= flotante)\n",
    "print (entero != flotante)"
   ]
  }
 ],
 "metadata": {
  "kernelspec": {
   "display_name": "Python 3",
   "language": "python",
   "name": "python3"
  },
  "language_info": {
   "codemirror_mode": {
    "name": "ipython",
    "version": 3
   },
   "file_extension": ".py",
   "mimetype": "text/x-python",
   "name": "python",
   "nbconvert_exporter": "python",
   "pygments_lexer": "ipython3",
   "version": "3.13.3"
  }
 },
 "nbformat": 4,
 "nbformat_minor": 5
}
